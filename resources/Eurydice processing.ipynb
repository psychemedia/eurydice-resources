{
 "cells": [
  {
   "cell_type": "markdown",
   "id": "1702e358",
   "metadata": {},
   "source": [
    "# Eurydice processing\n",
    "\n",
    "Process hack `.md` files:\n",
    "    \n",
    "- split on `--`; first item is aways assumed to be `TEXT`;\n",
    "- check for `TEXT`\n",
    "- add article entries to db;\n",
    "- add images to db;\n",
    "- rewrite articles to useful MyST format;\n",
    "- rewrite images to useful MyST format."
   ]
  },
  {
   "cell_type": "code",
   "execution_count": 79,
   "id": "e2c8fe2c",
   "metadata": {},
   "outputs": [
    {
     "data": {
      "text/plain": [
       "['launch_of_eurydice',\n",
       " 'sea_trial_shenanigans',\n",
       " 'training_ship',\n",
       " 'life_on_board_eurydice',\n",
       " 'foundering_of_the_eurydice',\n",
       " 'immediate_plans',\n",
       " 'struggle_to_raise_continues',\n",
       " 'life_aside',\n",
       " 'raising_the_eurydice',\n",
       " 'life_aside_2',\n",
       " 'eurydice_in_port',\n",
       " 'fundraising_relief',\n",
       " 'eurydice_bodies_funerals_and_memorials',\n",
       " 'eurydice_poems',\n",
       " 'eurydice_reminiscences',\n",
       " 'inquest',\n",
       " 'eurydice_court_martial',\n",
       " 'eurydice_tracked_in_parliament']"
      ]
     },
     "execution_count": 79,
     "metadata": {},
     "output_type": "execute_result"
    }
   ],
   "source": [
    "import yaml\n",
    "\n",
    "with open(\"_toc.yml\", \"r\") as f:\n",
    "    toc = yaml.safe_load(f)\n",
    "    \n",
    "raw_files = [f[\"file\"].strip('_') for p in toc[\"parts\"] for f in p[\"chapters\"] if f[\"file\"].startswith(\"__\")]\n",
    "raw_files"
   ]
  },
  {
   "cell_type": "code",
   "execution_count": 6,
   "id": "9af84629",
   "metadata": {},
   "outputs": [],
   "source": [
    "from sqlite_utils import Database\n",
    "\n",
    "db_name = \"eurydice-demo.db\"\n",
    "\n",
    "# Uncomment the following lines to connect to a pre-existing database\n",
    "db = Database(db_name)"
   ]
  },
  {
   "cell_type": "code",
   "execution_count": 7,
   "id": "50837aec",
   "metadata": {},
   "outputs": [],
   "source": [
    "# Do not run this cell if your database already exists!\n",
    "\n",
    "# While developing the script, recreate database each time...\n",
    "db = Database(db_name, recreate=True)"
   ]
  },
  {
   "cell_type": "code",
   "execution_count": 8,
   "id": "8e817bae",
   "metadata": {},
   "outputs": [
    {
     "data": {
      "text/plain": [
       "<Table sources (url, fn, publication, published_date, title, date, author, pages, text)>"
      ]
     },
     "execution_count": 8,
     "metadata": {},
     "output_type": "execute_result"
    }
   ],
   "source": [
    "# This schema has been evolved iteratively as I have identified structure\n",
    "# that can be usefully mined...\n",
    "\n",
    "db[\"sources\"].create({\n",
    "    \"url\": str,\n",
    "    \"fn\": str,\n",
    "    \"publication\": str,\n",
    "    \"published_date\": str, # this may range from year to actual date\n",
    "    \"title\": int, # Title of section\n",
    "    \"date\": str, # optional; the second date field; may be eg correspondence date\n",
    "    \"author\": str, # attempt at provenance\n",
    "    \"pages\": str, # or pages like\n",
    "    \"text\": str,\n",
    "},# pk=(\"url\", \"title\") # Need an autoincrement; no natural key?\n",
    ")\n",
    "\n",
    "# Enable full text search\n",
    "# This creates an extra virtual table (books_fts) to support the full text search\n",
    "db[\"sources\"].enable_fts([\"publication\",\"title\", \"text\", \"published_date\"], create_triggers=True)"
   ]
  },
  {
   "cell_type": "code",
   "execution_count": 9,
   "id": "17b7be1f",
   "metadata": {},
   "outputs": [
    {
     "data": {
      "text/plain": [
       "'# H.M.S. Eurydice, Training Ship\\n\\nIn 1877, H.M.S. Eurydice was refitted as a training ship. For many'"
      ]
     },
     "execution_count": 9,
     "metadata": {},
     "output_type": "execute_result"
    }
   ],
   "source": [
    "fn = \"training_ship.md\"\n",
    "\n",
    "def get_file_contents(fn):\n",
    "    \"\"\"Open file from filename and get file contents.\"\"\"\n",
    "    with open(fn) as f:\n",
    "        txt = f.read().strip()\n",
    "    return txt\n",
    "\n",
    "txt = get_file_contents(fn)\n",
    "txt[:100]"
   ]
  },
  {
   "cell_type": "code",
   "execution_count": 11,
   "id": "f4d43a3e",
   "metadata": {},
   "outputs": [
    {
     "data": {
      "text/plain": [
       "['# H.M.S. Eurydice, Training Ship\\n\\nIn 1877, H.M.S. Eurydice was refitted as a training ship. For many years, the fleet had been miving over to aromoured steamships and rigged sailing ships were no longer appropriate for modern naval warfare. However, it was still felt that sailors should still be able to handle traditionally rigged vessels and that training ratings on them would be to their benefit as seamen.\\n\\nThe Eurydice was thus converted over to a training ship in the Spring of 1877, before embarking on a voyage to the West Indies in Autumn 1877. Rumour had it that a calamity had befallen the ship, but a telegram reported in the *Naval & Military Gazette and Weekly Chronicle of the United Service* of Wednesday 21 November 1877, received 17th of November and dated November 16th, 1877, revealed that all was well.\\n\\nIn passing, we might note that this news articles reveals how tegraphic cable communication was available between the West Indies and Britain by this time. A little bit of digging turns up the following history of the cable that presumably carried the telegram signal.\\n\\nTelegraph Cables (1899)\\nby C. J. Cooke\\nTransactions and Proceedings of the Royal Society of New Zealand\\nVolume 32, 1899, pp 324-329. Art. XXXVIII.\\nhttps://archive.org/details/transactionsofro99roya/page/n349/mode/2up?q=Telegraph\\nTranscript: https://atlantic-cable.com/Article/1899Cooke/index.htm\\n\"Great Western Telegraph Company was formed to connect the United States with Europe by way of the West Indies,\" then  \\'changed their title to the \"Western and Brazilian Telegraph Company\".\\'?\\n\\nhttps://www.gracesguide.co.uk/Great_Western_Telegraph_Co\\nGreat Western Telegraph Co\\n1872 Company incorporated to connect by telegraph cable New York with England, and the West Indies with New York and England, with prospect of further connection to Brazil. Sir William Thomson and Fleeming Jenkin were the engineers. Hooper\\'s Telegraph Works were contracted to provide the cable; arrangements with the Great Northern Telegraph Co to make use of its cables\\n1873 The company was in liquidation but the cables were being laid by Hoopers and would be operated by other companies\\n\\n\\nGrace\\'s Guide To British Industrial History;  source of historical information on industry and manufacturing in the UK. Additions are being made daily by a team of volunteers who give freely of their time and expertise.\\nGrace’s Guide is a Registered Charity and it relies upon donations and sponsors. Grace\\'s Guide Ltd is a charity (No.1154342) for the advancement of education of the history of Industry and Engineering in the UK.\\n\\nhttps://www.gracesguide.co.uk/Western_and_Brazilian_Telegraph_Co\\nWestern and Brazilian Telegraph Co\\n1873 Sir William Thomson and Professor Fleeming Jenkin were connected with the manufacture and laying of cables off the coast of Brazil for the Western and Brazilian Telegraph Company.\\n\\nhttps://www.gracesguide.co.uk/Hoopers_Telegraph_and_India-Rubber_Works\\nHoopers Telegraph and India-Rubber Works\\nJump to:navigation, search\\nof 31 Lombard Street, London, EC\\n1845 William Hooper, a chemist, set up a factory around 1845 in Mitcham, Surrey, to produce rubber goods mostly for the medical profession. He experimented with rubber insulation for electric cables and eventually found a way of insulating cables in a continuous process.\\nc.1857 or later: The Indian Government placed Hooper\\'s first order, followed by another order for cable to link India and Ceylon. W. T. Henley carried out the armouring of the cable.\\n1860 Company established by William Hooper trading under his own name.\\n1870 Hooper formed Hooper\\'s Telegraph Works Ltd. to undertake both manufacture and laying of submarine cables. The first order for the new company was from the Great Northern Telegraph Co for a cable connecting Vladivostock to Hong Kong; Siemens Brothers and Co carried out the armouring of this cable.\\n1873 Hooper\\'s laid the cable (which had been made for an Atlantic crossing) off the east coast of South America, having been offered this concession by the Telegraph Construction and Maintenance Co on the condition that Hooper\\'s dropped their plans for a transatlantic cable.',\n",
       " \"https://www.britishnewspaperarchive.co.uk/viewer/bl/0000919/18770206/042/0005\\n\\nSouth Wales Daily News\\nTuesday 06 February 1877\\np5\\n\\nSEAMANSHIP OF YOUNG SAILORS.\\n\\nThe Admiralty are about to take practical measures for improving the seamanship of our young sailors. At present a boy having served a certain time on board a training-ship is transferred to a flagship, where he becomes an ordinary seaman. He is then draughted to a sea-going ship, and may, under favourable conditions, become an expert and efficient seaman, knowing the name and use of every rope on board, and capable of turning his hands to anything that may be required in the severest weather. It may happen, however, that he is sent to a ram of Rupert type, or a mastless ship like the Devastation where he can learn little or nothing of his profession; and as vessels of these classes are increasing, and likely to increase, it is necessary that special measures should be taken to bestow a thorough sea training upon young seamen, so that they may find themselves at home, no matter what the character of the ship may be to which they are despatched. A step in the right direction has been taken by the fitting out of the Eurydice, a sixth-rate wooden fripate of the old class as a sea-going training-ship for ordinary seamen. The Eurydice is 140ft. in length between perpendiculars. 78ft. in extreme breadth, and 921 tons burthen, old measurement. When ready for commission she will furnish accommodation for 280 young seamen, in addition to her commander and staff of officers. She will carry six 64-pounder 71cwt. guns, mounted on rear truck carriages, three on each side of the main deck. She will be ship rigged, and will probably have an independent commander's commission. Before being draughted for service in sea-going ships young ordinary seamen will undergo a six months' practical training at sea on board the Eurydice, which is totally guiltless of machinery of any kind and it cannot be doubted that the professional schooling which they will thereby receive will go far to improve the efficiency of our seamen as sailors.\\n\\n\\n[This article seems to have been syndicated widely.]\",\n",
       " 'https://www.britishnewspaperarchive.co.uk/viewer/bl/0000495/18770210/054/0008\\n\\nHampshire Advertiser\\nSaturday 10 February 1877\\np7\\n\\nThe Eurydice, training brig, received her masts at Portsmouth on Monday, and will be taken in hand and rigged by her own crew. \\n\\nAPPOINTMNTS.\\n\\nCaptain M. A. S, Hare to the Eurydice.\\n\\nLieutenants ... Francis H. Tabor Stanley, A. B. Burney, and William E. Black to the Eurydice; ...',\n",
       " \"https://www.britishnewspaperarchive.co.uk/viewer/bl/0001681/18770214/029/0006\\nNaval & Military Gazette and Weekly Chronicle of the United Service\\nWednesday 14 February 1877\\n\\np124\\n\\nMovements of Her Majesty's Ships\\n\\nEurydice, 26, sailing-ship, Captain M. A. S. Hare, is being rapidly prepared a training-ship for ordinary seamen. Her lower masts and bowsprit were placed in her on the 5th inst. She will be fully rigged by her crew on being commissioned.\",\n",
       " 'https://www.britishnewspaperarchive.co.uk/viewer/bl/0000183/18770223/025/0005\\nLondon Evening Standard\\nFriday 23 February 1877\\n\\np5\\n\\nNaval and Military Intelligence\\n\\n...\\n\\nIt has long been felt that an evil has arisen from a large number of ordinary seamen after being released from the restraint of the training ships being kept for a time in the depot ships at the home ports, previous to being drafted for foreign stations. To remedy this evil the Lords of the Admiralty have commissioned the Eurydice as a training ship at Portsmouth for ordinary seamen in the Channel. Thus while the men will be at home and available for foreign service they will be kept under proper training in a position where discipline can be properly maintained, and be saved from the temptations inseparable from nightly leave.',\n",
       " \"https://www.britishnewspaperarchive.co.uk/viewer/bl/0001681/18771003/009/0005\\nNaval & Military Gazette and Weekly Chronicle of the United Service\\nWednesday 03 October 1877\\np5\\n\\nMovements of Her Majesty's Ships.\\n\\nEurydice. 6, training ship, Captain Marcus A. S. Hare, came into Portsmouth Harbour on Wednesday last, and was taken into the ship basin on Thursday to make good defects.\",\n",
       " 'https://www.britishnewspaperarchive.co.uk/viewer/bl/0000183/18771017/006/0002\\nLondon Evening Standard\\nWednesday 17 October 1877\\np2\\n\\nNaval and Military Intelligence\\n\\nEurydice, Captain Hare, is having defects made good at Portsmouth before starting on a winter training cruise. A fresh draft of young seamen will be sent to her so soon as she is ready for sea.',\n",
       " 'https://www.britishnewspaperarchive.co.uk/viewer/bl/0000495/18771027/017/0004\\nHampshire Advertiser\\nSaturday 27 October 1877\\n\\np4\\n\\nThe Eurydice, training ship, Captain M. A. S. Hare, was to go out of the ship basin at Portsmouth on Wednesday.',\n",
       " 'TEXT\\n\\n![](../images/ILN_1878_loss_of_euridyce_apr_06_011.jpg)\\nIllustrated London News — H.M.S. Eurydice as she lay in Portsmouth harbour before her last voyage - from a photograph, April 6, 1878',\n",
       " 'https://www.britishnewspaperarchive.co.uk/viewer/bl/0001702/18771031/063/0006\\n\\nShipping and Mercantile Gazette\\nWednesday 31 October 1877\\np6\\n\\nNAVAL AND MILITARY - THE ROYAL NAVY\\n\\nPortsmouth, Oct. 30.—The Eurydice, training ship for seamen, sailed to-day for the West Indies, but in consequence of the weather she has put into St. Helen’s Roads.',\n",
       " 'https://www.britishnewspaperarchive.co.uk/viewer/bl/0000495/18771110/066/0008\\nHampshire Advertiser\\n\\nSaturday 10 November 1877\\np8\\n\\nDevonport, Thursday, Nov. 8\\n\\nThe Eurydice, 6, sailing corvette, and training ship for ordinary seamen, sailed on Saturday for Lisbon, Madeira, and the West Indies.\\n\\n...\\n\\nThe Liberty, training brig, sailed on Saturday, in company with the Eurydice, for the West Indies.',\n",
       " 'TEXT\\n\\n![](../images/623829-1470753518.jpg)\\nHMS Eurydice at St Lucia before her last voyage home, 1878 1878\\nAlbumen print | 14.5 x 21.5 cm (image) | RCIN 2580515\\nPhotograph of sailing ship surrounded by small boats, off St Lucia; tree covered cliffs\\nProvenance\\nAlbum compiled by the Reverend J N Dalton (1839-1931) and presented to King George V\\nhttps://www.rct.uk/collection/2580515/hms-eurydice-at-st-lucia-before-her-last-voyage-home-1878',\n",
       " 'https://www.britishnewspaperarchive.co.uk/viewer/bl/0001681/18771121/038/0004\\nNaval & Military Gazette and Weekly Chronicle of the United Service\\n\\nWednesday 21 November 1877\\np4\\n\\nMovements of Her Majesty\\'s Ships\\n\\n...\\n\\nEurydice, 4 training-ship for ordinary seamean, Captain Marcus A S. Hare\\n\\nMuch excitement prevailed Portsmouth during last week, consequent on a rumour that during the recent heavy gale this vessel lost her topmasts and topsail yard, and that several men were carried overboard with them and drowned. On inquiry we learn that nothing official is yet to hand. On the 17th of November all apprehensions were removed by the receipt of the following telegram:— \"Eurydice, Lisbon, Friday, November 16th. 8 55 p.m.—Arrived all well; will leave on the 24th. Send letters and papers to Barbadoes.\"\\n\\n...']"
      ]
     },
     "execution_count": 11,
     "metadata": {},
     "output_type": "execute_result"
    }
   ],
   "source": [
    "def get_sections(txt):\n",
    "    \"\"\"Get sections from file.\"\"\"\n",
    "    txt_sections = [s.strip('-').strip() for s in txt.split(\"--\") if s.strip('-').strip()]\n",
    "    return txt_sections\n",
    "\n",
    "txt_sections = get_sections(txt)\n",
    "txt_sections"
   ]
  },
  {
   "cell_type": "code",
   "execution_count": 81,
   "id": "2b6be19e",
   "metadata": {},
   "outputs": [
    {
     "data": {
      "text/plain": [
       "[('TEXT',\n",
       "  '# H.M.S. Eurydice, Training Ship\\n\\nIn 1877, H.M.S. Eurydice was refitted as a training ship. For many years, the fleet had been miving over to aromoured steamships and rigged sailing ships were no longer appropriate for modern naval warfare. However, it was still felt that sailors should still be able to handle traditionally rigged vessels and that training ratings on them would be to their benefit as seamen.\\n\\nThe Eurydice was thus converted over to a training ship in the Spring of 1877, before embarking on a voyage to the West Indies in Autumn 1877. Rumour had it that a calamity had befallen the ship, but a telegram reported in the *Naval & Military Gazette and Weekly Chronicle of the United Service* of Wednesday 21 November 1877, received 17th of November and dated November 16th, 1877, revealed that all was well.\\n\\nIn passing, we might note that this news articles reveals how tegraphic cable communication was available between the West Indies and Britain by this time. A little bit of digging turns up the following history of the cable that presumably carried the telegram signal.\\n\\nTelegraph Cables (1899)\\nby C. J. Cooke\\nTransactions and Proceedings of the Royal Society of New Zealand\\nVolume 32, 1899, pp 324-329. Art. XXXVIII.\\nhttps://archive.org/details/transactionsofro99roya/page/n349/mode/2up?q=Telegraph\\nTranscript: https://atlantic-cable.com/Article/1899Cooke/index.htm\\n\"Great Western Telegraph Company was formed to connect the United States with Europe by way of the West Indies,\" then  \\'changed their title to the \"Western and Brazilian Telegraph Company\".\\'?\\n\\nhttps://www.gracesguide.co.uk/Great_Western_Telegraph_Co\\nGreat Western Telegraph Co\\n1872 Company incorporated to connect by telegraph cable New York with England, and the West Indies with New York and England, with prospect of further connection to Brazil. Sir William Thomson and Fleeming Jenkin were the engineers. Hooper\\'s Telegraph Works were contracted to provide the cable; arrangements with the Great Northern Telegraph Co to make use of its cables\\n1873 The company was in liquidation but the cables were being laid by Hoopers and would be operated by other companies\\n\\n\\nGrace\\'s Guide To British Industrial History;  source of historical information on industry and manufacturing in the UK. Additions are being made daily by a team of volunteers who give freely of their time and expertise.\\nGrace’s Guide is a Registered Charity and it relies upon donations and sponsors. Grace\\'s Guide Ltd is a charity (No.1154342) for the advancement of education of the history of Industry and Engineering in the UK.\\n\\nhttps://www.gracesguide.co.uk/Western_and_Brazilian_Telegraph_Co\\nWestern and Brazilian Telegraph Co\\n1873 Sir William Thomson and Professor Fleeming Jenkin were connected with the manufacture and laying of cables off the coast of Brazil for the Western and Brazilian Telegraph Company.\\n\\nhttps://www.gracesguide.co.uk/Hoopers_Telegraph_and_India-Rubber_Works\\nHoopers Telegraph and India-Rubber Works\\nJump to:navigation, search\\nof 31 Lombard Street, London, EC\\n1845 William Hooper, a chemist, set up a factory around 1845 in Mitcham, Surrey, to produce rubber goods mostly for the medical profession. He experimented with rubber insulation for electric cables and eventually found a way of insulating cables in a continuous process.\\nc.1857 or later: The Indian Government placed Hooper\\'s first order, followed by another order for cable to link India and Ceylon. W. T. Henley carried out the armouring of the cable.\\n1860 Company established by William Hooper trading under his own name.\\n1870 Hooper formed Hooper\\'s Telegraph Works Ltd. to undertake both manufacture and laying of submarine cables. The first order for the new company was from the Great Northern Telegraph Co for a cable connecting Vladivostock to Hong Kong; Siemens Brothers and Co carried out the armouring of this cable.\\n1873 Hooper\\'s laid the cable (which had been made for an Atlantic crossing) off the east coast of South America, having been offered this concession by the Telegraph Construction and Maintenance Co on the condition that Hooper\\'s dropped their plans for a transatlantic cable.'),\n",
       " ('RESOURCE',\n",
       "  \"https://www.britishnewspaperarchive.co.uk/viewer/bl/0000919/18770206/042/0005\\n\\nSouth Wales Daily News\\nTuesday 06 February 1877\\np5\\n\\nSEAMANSHIP OF YOUNG SAILORS.\\n\\nThe Admiralty are about to take practical measures for improving the seamanship of our young sailors. At present a boy having served a certain time on board a training-ship is transferred to a flagship, where he becomes an ordinary seaman. He is then draughted to a sea-going ship, and may, under favourable conditions, become an expert and efficient seaman, knowing the name and use of every rope on board, and capable of turning his hands to anything that may be required in the severest weather. It may happen, however, that he is sent to a ram of Rupert type, or a mastless ship like the Devastation where he can learn little or nothing of his profession; and as vessels of these classes are increasing, and likely to increase, it is necessary that special measures should be taken to bestow a thorough sea training upon young seamen, so that they may find themselves at home, no matter what the character of the ship may be to which they are despatched. A step in the right direction has been taken by the fitting out of the Eurydice, a sixth-rate wooden fripate of the old class as a sea-going training-ship for ordinary seamen. The Eurydice is 140ft. in length between perpendiculars. 78ft. in extreme breadth, and 921 tons burthen, old measurement. When ready for commission she will furnish accommodation for 280 young seamen, in addition to her commander and staff of officers. She will carry six 64-pounder 71cwt. guns, mounted on rear truck carriages, three on each side of the main deck. She will be ship rigged, and will probably have an independent commander's commission. Before being draughted for service in sea-going ships young ordinary seamen will undergo a six months' practical training at sea on board the Eurydice, which is totally guiltless of machinery of any kind and it cannot be doubted that the professional schooling which they will thereby receive will go far to improve the efficiency of our seamen as sailors.\\n\\n\\n[This article seems to have been syndicated widely.]\"),\n",
       " ('RESOURCE',\n",
       "  'https://www.britishnewspaperarchive.co.uk/viewer/bl/0000495/18770210/054/0008\\n\\nHampshire Advertiser\\nSaturday 10 February 1877\\np7\\n\\nThe Eurydice, training brig, received her masts at Portsmouth on Monday, and will be taken in hand and rigged by her own crew. \\n\\nAPPOINTMNTS.\\n\\nCaptain M. A. S, Hare to the Eurydice.\\n\\nLieutenants ... Francis H. Tabor Stanley, A. B. Burney, and William E. Black to the Eurydice; ...'),\n",
       " ('RESOURCE',\n",
       "  \"https://www.britishnewspaperarchive.co.uk/viewer/bl/0001681/18770214/029/0006\\nNaval & Military Gazette and Weekly Chronicle of the United Service\\nWednesday 14 February 1877\\n\\np124\\n\\nMovements of Her Majesty's Ships\\n\\nEurydice, 26, sailing-ship, Captain M. A. S. Hare, is being rapidly prepared a training-ship for ordinary seamen. Her lower masts and bowsprit were placed in her on the 5th inst. She will be fully rigged by her crew on being commissioned.\"),\n",
       " ('RESOURCE',\n",
       "  'https://www.britishnewspaperarchive.co.uk/viewer/bl/0000183/18770223/025/0005\\nLondon Evening Standard\\nFriday 23 February 1877\\n\\np5\\n\\nNaval and Military Intelligence\\n\\n...\\n\\nIt has long been felt that an evil has arisen from a large number of ordinary seamen after being released from the restraint of the training ships being kept for a time in the depot ships at the home ports, previous to being drafted for foreign stations. To remedy this evil the Lords of the Admiralty have commissioned the Eurydice as a training ship at Portsmouth for ordinary seamen in the Channel. Thus while the men will be at home and available for foreign service they will be kept under proper training in a position where discipline can be properly maintained, and be saved from the temptations inseparable from nightly leave.'),\n",
       " ('RESOURCE',\n",
       "  \"https://www.britishnewspaperarchive.co.uk/viewer/bl/0001681/18771003/009/0005\\nNaval & Military Gazette and Weekly Chronicle of the United Service\\nWednesday 03 October 1877\\np5\\n\\nMovements of Her Majesty's Ships.\\n\\nEurydice. 6, training ship, Captain Marcus A. S. Hare, came into Portsmouth Harbour on Wednesday last, and was taken into the ship basin on Thursday to make good defects.\"),\n",
       " ('RESOURCE',\n",
       "  'https://www.britishnewspaperarchive.co.uk/viewer/bl/0000183/18771017/006/0002\\nLondon Evening Standard\\nWednesday 17 October 1877\\np2\\n\\nNaval and Military Intelligence\\n\\nEurydice, Captain Hare, is having defects made good at Portsmouth before starting on a winter training cruise. A fresh draft of young seamen will be sent to her so soon as she is ready for sea.'),\n",
       " ('RESOURCE',\n",
       "  'https://www.britishnewspaperarchive.co.uk/viewer/bl/0000495/18771027/017/0004\\nHampshire Advertiser\\nSaturday 27 October 1877\\n\\np4\\n\\nThe Eurydice, training ship, Captain M. A. S. Hare, was to go out of the ship basin at Portsmouth on Wednesday.'),\n",
       " ('TEXT',\n",
       "  '![](../images/ILN_1878_loss_of_euridyce_apr_06_011.jpg)\\nIllustrated London News — H.M.S. Eurydice as she lay in Portsmouth harbour before her last voyage - from a photograph, April 6, 1878'),\n",
       " ('RESOURCE',\n",
       "  'https://www.britishnewspaperarchive.co.uk/viewer/bl/0001702/18771031/063/0006\\n\\nShipping and Mercantile Gazette\\nWednesday 31 October 1877\\np6\\n\\nNAVAL AND MILITARY - THE ROYAL NAVY\\n\\nPortsmouth, Oct. 30.—The Eurydice, training ship for seamen, sailed to-day for the West Indies, but in consequence of the weather she has put into St. Helen’s Roads.'),\n",
       " ('RESOURCE',\n",
       "  'https://www.britishnewspaperarchive.co.uk/viewer/bl/0000495/18771110/066/0008\\nHampshire Advertiser\\n\\nSaturday 10 November 1877\\np8\\n\\nDevonport, Thursday, Nov. 8\\n\\nThe Eurydice, 6, sailing corvette, and training ship for ordinary seamen, sailed on Saturday for Lisbon, Madeira, and the West Indies.\\n\\n...\\n\\nThe Liberty, training brig, sailed on Saturday, in company with the Eurydice, for the West Indies.'),\n",
       " ('TEXT',\n",
       "  '![](../images/623829-1470753518.jpg)\\nHMS Eurydice at St Lucia before her last voyage home, 1878 1878\\nAlbumen print | 14.5 x 21.5 cm (image) | RCIN 2580515\\nPhotograph of sailing ship surrounded by small boats, off St Lucia; tree covered cliffs\\nProvenance\\nAlbum compiled by the Reverend J N Dalton (1839-1931) and presented to King George V\\nhttps://www.rct.uk/collection/2580515/hms-eurydice-at-st-lucia-before-her-last-voyage-home-1878'),\n",
       " ('RESOURCE',\n",
       "  'https://www.britishnewspaperarchive.co.uk/viewer/bl/0001681/18771121/038/0004\\nNaval & Military Gazette and Weekly Chronicle of the United Service\\n\\nWednesday 21 November 1877\\np4\\n\\nMovements of Her Majesty\\'s Ships\\n\\n...\\n\\nEurydice, 4 training-ship for ordinary seamean, Captain Marcus A S. Hare\\n\\nMuch excitement prevailed Portsmouth during last week, consequent on a rumour that during the recent heavy gale this vessel lost her topmasts and topsail yard, and that several men were carried overboard with them and drowned. On inquiry we learn that nothing official is yet to hand. On the 17th of November all apprehensions were removed by the receipt of the following telegram:— \"Eurydice, Lisbon, Friday, November 16th. 8 55 p.m.—Arrived all well; will leave on the 24th. Send letters and papers to Barbadoes.\"\\n\\n...')]"
      ]
     },
     "execution_count": 81,
     "metadata": {},
     "output_type": "execute_result"
    }
   ],
   "source": [
    "# First section is text, but then we need to parse type\n",
    "\n",
    "def structure_record(txt_sections):\n",
    "    typ_s = [(\"TEXT\", txt_sections[0])]\n",
    "\n",
    "    for s in txt_sections[1:]:\n",
    "        s = s.strip()\n",
    "        if s.startswith(\"TEXT\"):\n",
    "            typ_s.append((\"TEXT\", s.replace(\"TEXT\",\"\").strip()))\n",
    "        elif s.startswith(\"![\"):\n",
    "            typ_s.append((\"IMAGE\", s))\n",
    "        else:\n",
    "            # Should we assume text unless we get eg an http at the start of a record?\n",
    "            typ_s.append((\"RESOURCE\", s))\n",
    "\n",
    "    return typ_s\n",
    "\n",
    "typ_s = structure_record(txt_sections)\n",
    "typ_s"
   ]
  },
  {
   "cell_type": "code",
   "execution_count": 13,
   "id": "7354edfd",
   "metadata": {},
   "outputs": [],
   "source": [
    "#%pip install dateparser\n",
    "# https://dateparser.readthedocs.io/en/latest/usage.html\n",
    "from dateparser.date import DateDataParser\n",
    "\n",
    "ddp = DateDataParser(languages=['en'])"
   ]
  },
  {
   "cell_type": "code",
   "execution_count": 220,
   "id": "792f8084",
   "metadata": {},
   "outputs": [],
   "source": [
    "import re\n",
    "\n",
    "dt = \"%Y-%m-%d\"\n",
    "\n",
    "def parse_sections(txt_sections, fn=None):\n",
    "    \"\"\"Parse file section.\"\"\"\n",
    "    records = []\n",
    "    for section in txt_sections:\n",
    "        txt_lines = [l.strip() for l in section.split('\\n') if l.strip()]\n",
    "        #print(txt_lines)\n",
    "        record = {\"fn\":fn}\n",
    "        for i, line in enumerate(txt_lines):\n",
    "            line = line.strip()\n",
    "            # This is inefficient...\n",
    "            # We should test as fallback...\n",
    "            try_url = line.startswith(\"http\")\n",
    "            try_date = ddp.get_date_data(line.replace('Publication date', '').strip())\n",
    "            try_pages = re.search(r\"^pp?\\.?\\s?([0-9ivxlc\\?].*)\", line)\n",
    "\n",
    "            if try_url:\n",
    "                record[\"url\"] = line\n",
    "            elif try_date[\"date_obj\"]:\n",
    "                if \"published_date\" in record:\n",
    "                    record[\"date\"] = try_date.date_obj.strftime(dt)\n",
    "                else:\n",
    "                    record[\"published_date\"] = try_date.date_obj.strftime(dt)\n",
    "            elif try_pages:\n",
    "                record[\"pages\"] = try_pages.group(1)\n",
    "            elif not \"publication\" in record:\n",
    "                record[\"publication\"] = line\n",
    "\n",
    "            # We take pages as the last item of metadata...\n",
    "            if try_pages:\n",
    "                break\n",
    "        \n",
    "        txt = f'{record[\"pages\"]}'.join(section.split(try_pages.group(0))[1:]).strip()\n",
    "        if len(txt.split(\"\\n\")[0]) > 200:\n",
    "            record[\"title\"] = txt[:100]\n",
    "            record[\"text\"] = txt[100:]\n",
    "        else:\n",
    "            record[\"title\"] = txt.split(\"\\n\")[0]\n",
    "            record[\"text\"] = txt.replace(record[\"title\"], \"\").strip()\n",
    "        #if len(txt_lines[i+1])>200:\n",
    "        #    record[\"title\"] = txt_lines[i+1][:100]\n",
    "        #    record[\"text\"] = \"\\n\\n\".join(txt_lines[i+1:])[100:]\n",
    "        #else:\n",
    "        #    record[\"title\"] = txt_lines[i+1]\n",
    "        #    record[\"text\"] = \"\\n\\n\".join(txt_lines[i+2:])\n",
    "        records.append(record)\n",
    "\n",
    "    return records"
   ]
  },
  {
   "cell_type": "code",
   "execution_count": 221,
   "id": "a7300a21",
   "metadata": {},
   "outputs": [
    {
     "data": {
      "text/plain": [
       "[{'fn': None,\n",
       "  'url': 'https://www.britishnewspaperarchive.co.uk/viewer/bl/0000069/18780403/007/0002',\n",
       "  'publication': 'Hampshire Telegraph',\n",
       "  'published_date': '1878-04-03',\n",
       "  'pages': '2',\n",
       "  'title': 'STATEMENT IN PARLIAMENT',\n",
       "  'text': \"In the Houseof Commons, on Monday, Captain Price asked the First Lord of the Admiralty what was the amount of ballast in Her Majesty's ship Eurydice when she left England, and was there any reason to suppose any was removed abroad; what were her angles of maximum and vanishing stability, ascertained from the experiments said to have been made on her, and were these angles communicated to Captain Hare; were the Eurydice's hammocks made buoyant by any method recommended to the the Admiralty, or were there life-belts sufficient for the officers and men; and what is the objection to the hammocks being made buoyant either by means of cork mattresses or waterproof sheets, seeing that they are so stowed as to be immediately accessible in cases of sudden emergency ? \\n\\nMr. W. H. SMITH said: The amount of ballast in the Eurydice when she left England was thirty tons. There was no reason to suppose any wa8 removed abroad. The angles of maximum and vanishing stability were not ascertained. The hammocks were not made buoyant. There is reason to believe the usual establishment of life-belts three was on board, viz., ten per cent. of the complement, or about thirty life-belts. Cork mattresses and waterproof sheets have been tried, and have proved unsatisfactory on various points. The men do not like them, moreover. I may add that it would have been impossible to get them out of the hammock nettings in time in the sudden disaster which befel the Eurydice. It is the intention of the Admiralty to direct a complete and searching inquiry into the loss of the ship in the form of a court-martial upon the survivors. (Hear, hear.)\\n\\n[EXCERPTED]\"}]"
      ]
     },
     "execution_count": 221,
     "metadata": {},
     "output_type": "execute_result"
    }
   ],
   "source": [
    "parse_sections([typ_s[1][1]])"
   ]
  },
  {
   "cell_type": "code",
   "execution_count": 227,
   "id": "5a68c8e1",
   "metadata": {},
   "outputs": [],
   "source": [
    "def admonition_generator(record):\n",
    "    \"\"\"Generate MyST admonition markdown for the record.\"\"\"\n",
    "    admonition = f\"\"\"\n",
    "```{{admonition}} {record[\"title\"]}\n",
    ":class: note dropdown\n",
    "\n",
    "[{record[\"publication\"]}]({record[\"url\"]}), {record[\"published_date\"]}, p. {record[\"pages\"]}\n",
    "\n",
    "{record[\"text\"]}\n",
    "\n",
    "```\n",
    "\"\"\"\n",
    "    return admonition"
   ]
  },
  {
   "cell_type": "code",
   "execution_count": 228,
   "id": "b0018dcc",
   "metadata": {},
   "outputs": [
    {
     "name": "stdout",
     "output_type": "stream",
     "text": [
      "\n",
      "```{admonition} STATEMENT IN PARLIAMENT\n",
      ":class: note dropdown\n",
      "\n",
      "[Hampshire Telegraph](https://www.britishnewspaperarchive.co.uk/viewer/bl/0000069/18780403/007/0002), 1878-04-03, p. 2\n",
      "\n",
      "In the Houseof Commons, on Monday, Captain Price asked the First Lord of the Admiralty what was the amount of ballast in Her Majesty's ship Eurydice when she left England, and was there any reason to suppose any was removed abroad; what were her angles of maximum and vanishing stability, ascertained from the experiments said to have been made on her, and were these angles communicated to Captain Hare; were the Eurydice's hammocks made buoyant by any method recommended to the the Admiralty, or were there life-belts sufficient for the officers and men; and what is the objection to the hammocks being made buoyant either by means of cork mattresses or waterproof sheets, seeing that they are so stowed as to be immediately accessible in cases of sudden emergency ? \n",
      "\n",
      "Mr. W. H. SMITH said: The amount of ballast in the Eurydice when she left England was thirty tons. There was no reason to suppose any wa8 removed abroad. The angles of maximum and vanishing stability were not ascertained. The hammocks were not made buoyant. There is reason to believe the usual establishment of life-belts three was on board, viz., ten per cent. of the complement, or about thirty life-belts. Cork mattresses and waterproof sheets have been tried, and have proved unsatisfactory on various points. The men do not like them, moreover. I may add that it would have been impossible to get them out of the hammock nettings in time in the sudden disaster which befel the Eurydice. It is the intention of the Admiralty to direct a complete and searching inquiry into the loss of the ship in the form of a court-martial upon the survivors. (Hear, hear.)\n",
      "\n",
      "[EXCERPTED]\n",
      "\n",
      "```\n",
      "\n"
     ]
    }
   ],
   "source": [
    "print(admonition_generator(parse_sections([typ_s[1][1]])[0]))"
   ]
  },
  {
   "cell_type": "code",
   "execution_count": 240,
   "id": "fe6e174a",
   "metadata": {},
   "outputs": [
    {
     "data": {
      "text/plain": [
       "[('TEXT',\n",
       "  '# H.M.S. Eurydice, Training Ship\\n\\nIn 1877, H.M.S. Eurydice was refitted as a training ship. For many years, the fleet had been moving over to armoured steamships and rigged sailing ships were no longer appropriate for modern naval warfare. However, it was still felt that sailors should still be able to handle traditionally rigged vessels and that training ratings on them would be to their benefit as seamen.\\n\\n![](../images/ILN_1878_loss_of_euridyce_apr_06_011.jpg)\\nIllustrated London News — H.M.S. Eurydice as she lay in Portsmouth harbour before her last voyage - from a photograph, April 6, 1878\\n\\n## On the Training of Sailors\\n\\nThe Eurydice was thus converted over to a training ship in the Spring of 1877, before embarking on a voyage to the West Indies in Autumn 1877.'),\n",
       " ('RESOURCE',\n",
       "  \"https://www.britishnewspaperarchive.co.uk/viewer/bl/0000919/18770206/042/0005\\n\\nSouth Wales Daily News\\nTuesday 06 February 1877\\np5\\n\\nSEAMANSHIP OF YOUNG SAILORS.\\n\\nThe Admiralty are about to take practical measures for improving the seamanship of our young sailors. At present a boy having served a certain time on board a training-ship is transferred to a flagship, where he becomes an ordinary seaman. He is then draughted to a sea-going ship, and may, under favourable conditions, become an expert and efficient seaman, knowing the name and use of every rope on board, and capable of turning his hands to anything that may be required in the severest weather. It may happen, however, that he is sent to a ram of Rupert type, or a mastless ship like the Devastation where he can learn little or nothing of his profession; and as vessels of these classes are increasing, and likely to increase, it is necessary that special measures should be taken to bestow a thorough sea training upon young seamen, so that they may find themselves at home, no matter what the character of the ship may be to which they are despatched. A step in the right direction has been taken by the fitting out of the Eurydice, a sixth-rate wooden fripate of the old class as a sea-going training-ship for ordinary seamen. The Eurydice is 140ft. in length between perpendiculars. 78ft. in extreme breadth, and 921 tons burthen, old measurement. When ready for commission she will furnish accommodation for 280 young seamen, in addition to her commander and staff of officers. She will carry six 64-pounder 71cwt. guns, mounted on rear truck carriages, three on each side of the main deck. She will be ship rigged, and will probably have an independent commander's commission. Before being draughted for service in sea-going ships young ordinary seamen will undergo a six months' practical training at sea on board the Eurydice, which is totally guiltless of machinery of any kind and it cannot be doubted that the professional schooling which they will thereby receive will go far to improve the efficiency of our seamen as sailors.\\n\\n\\n[This article seems to have been syndicated widely.]\"),\n",
       " ('RESOURCE',\n",
       "  'https://www.britishnewspaperarchive.co.uk/viewer/bl/0000495/18770210/054/0008\\n\\nHampshire Advertiser\\nSaturday 10 February 1877\\np7\\n\\nThe Eurydice, training brig, received her masts at Portsmouth on Monday, and will be taken in hand and rigged by her own crew. \\n\\nAPPOINTMENTS.\\n\\nCaptain M. A. S, Hare to the Eurydice.\\n\\nLieutenants ... Francis H. Tabor Stanley, A. B. Burney, and William E. Black to the Eurydice; ...'),\n",
       " ('RESOURCE',\n",
       "  \"https://www.britishnewspaperarchive.co.uk/viewer/bl/0001681/18770214/029/0006\\nNaval & Military Gazette and Weekly Chronicle of the United Service\\nWednesday 14 February 1877\\n\\np124\\n\\nMovements of Her Majesty's Ships\\n\\nEurydice, 26, sailing-ship, Captain M. A. S. Hare, is being rapidly prepared a training-ship for ordinary seamen. Her lower masts and bowsprit were placed in her on the 5th inst. She will be fully rigged by her crew on being commissioned.\"),\n",
       " ('RESOURCE',\n",
       "  'https://www.britishnewspaperarchive.co.uk/viewer/bl/0000183/18770223/025/0005\\nLondon Evening Standard\\nFriday 23 February 1877\\n\\np5\\n\\nNaval and Military Intelligence\\n\\n...\\n\\nIt has long been felt that an evil has arisen from a large number of ordinary seamen after being released from the restraint of the training ships being kept for a time in the depot ships at the home ports, previous to being drafted for foreign stations. To remedy this evil the Lords of the Admiralty have commissioned the Eurydice as a training ship at Portsmouth for ordinary seamen in the Channel. Thus while the men will be at home and available for foreign service they will be kept under proper training in a position where discipline can be properly maintained, and be saved from the temptations inseparable from nightly leave.'),\n",
       " ('RESOURCE',\n",
       "  \"https://www.britishnewspaperarchive.co.uk/viewer/bl/0001681/18771003/009/0005\\nNaval & Military Gazette and Weekly Chronicle of the United Service\\nWednesday 03 October 1877\\np5\\n\\nMovements of Her Majesty's Ships.\\n\\nEurydice. 6, training ship, Captain Marcus A. S. Hare, came into Portsmouth Harbour on Wednesday last, and was taken into the ship basin on Thursday to make good defects.\"),\n",
       " ('RESOURCE',\n",
       "  'https://www.britishnewspaperarchive.co.uk/viewer/bl/0000183/18771017/006/0002\\nLondon Evening Standard\\nWednesday 17 October 1877\\np2\\n\\nNaval and Military Intelligence\\n\\nEurydice, Captain Hare, is having defects made good at Portsmouth before starting on a winter training cruise. A fresh draft of young seamen will be sent to her so soon as she is ready for sea.'),\n",
       " ('RESOURCE', '##\\xa0Maiden Voyage as a Training Vessel, October, 1877'),\n",
       " ('RESOURCE',\n",
       "  'https://www.britishnewspaperarchive.co.uk/viewer/bl/0000495/18771027/017/0004\\nHampshire Advertiser\\nSaturday 27 October 1877\\n\\np4\\n\\nThe Eurydice, training ship, Captain M. A. S. Hare, was to go out of the ship basin at Portsmouth on Wednesday.'),\n",
       " ('RESOURCE',\n",
       "  'https://www.britishnewspaperarchive.co.uk/viewer/bl/0001702/18771031/063/0006\\n\\nShipping and Mercantile Gazette\\nWednesday 31 October 1877\\np6\\n\\nNAVAL AND MILITARY - THE ROYAL NAVY\\n\\nPortsmouth, Oct. 30.—The Eurydice, training ship for seamen, sailed to-day for the West Indies, but in consequence of the weather she has put into St. Helen’s Roads.'),\n",
       " ('RESOURCE',\n",
       "  'https://www.britishnewspaperarchive.co.uk/viewer/bl/0000495/18771110/066/0008\\nHampshire Advertiser\\n\\nSaturday 10 November 1877\\np8\\n\\nDevonport, Thursday, Nov. 8\\n\\nThe Eurydice, 6, sailing corvette, and training ship for ordinary seamen, sailed on Saturday for Lisbon, Madeira, and the West Indies.\\n\\n...\\n\\nThe Liberty, training brig, sailed on Saturday, in company with the Eurydice, for the West Indies.'),\n",
       " ('TEXT',\n",
       "  '![](../images/623829-1470753518.jpg)\\nHMS Eurydice at St Lucia before her last voyage home, 1878 1878\\nAlbumen print | 14.5 x 21.5 cm (image) | RCIN 2580515\\nPhotograph of sailing ship surrounded by small boats, off St Lucia; tree covered cliffs\\nProvenance\\nAlbum compiled by the Reverend J N Dalton (1839-1931) and presented to King George V\\nhttps://www.rct.uk/collection/2580515/hms-eurydice-at-st-lucia-before-her-last-voyage-home-1878'),\n",
       " ('TEXT', '## Rumour of Disaster'),\n",
       " ('RESOURCE',\n",
       "  'https://www.britishnewspaperarchive.co.uk/viewer/bl/0001681/18771121/038/0004\\nNaval & Military Gazette and Weekly Chronicle of the United Service\\n\\nWednesday 21 November 1877\\np4\\n\\nMovements of Her Majesty\\'s Ships\\n\\n...\\n\\nEurydice, 4 training-ship for ordinary seamean, Captain Marcus A S. Hare\\n\\nMuch excitement prevailed Portsmouth during last week, consequent on a rumour that during the recent heavy gale this vessel lost her topmasts and topsail yard, and that several men were carried overboard with them and drowned. On inquiry we learn that nothing official is yet to hand. On the 17th of November all apprehensions were removed by the receipt of the following telegram:— \"Eurydice, Lisbon, Friday, November 16th. 8 55 p.m.—Arrived all well; will leave on the 24th. Send letters and papers to Barbadoes.\"\\n\\n...'),\n",
       " ('TEXT',\n",
       "  'Rumour had it that a calamity had befallen the ship, but a telegram reported in the *Naval & Military Gazette and Weekly Chronicle of the United Service* of Wednesday 21 November 1877, received 17th of November and dated November 16th, 1877, revealed that all was well.\\n\\nIn passing, we might note that this news articles reveals how telegraphic cable communication was available between the West Indies and Britain by this time. A little bit of digging turns up the following history of the cable that presumably carried the telegram signal.\\n\\n```{admonition} Great Western Telegraph Company\\n:class: seealso dropdown\\n\\nTelegraph Cables (1899)\\nby C. J. Cooke\\nTransactions and Proceedings of the Royal Society of New Zealand\\nVolume 32, 1899, pp 324-329. Art. XXXVIII.\\nhttps://archive.org/details/transactionsofro99roya/page/n349/mode/2up?q=Telegraph\\nTranscript: https://atlantic-cable.com/Article/1899Cooke/index.htm\\n\"Great Western Telegraph Company was formed to connect the United States with Europe by way of the West Indies,\" then  \\'changed their title to the \"Western and Brazilian Telegraph Company\".\\'?\\n\\nhttps://www.gracesguide.co.uk/Great_Western_Telegraph_Co\\nGreat Western Telegraph Co\\n1872 Company incorporated to connect by telegraph cable New York with England, and the West Indies with New York and England, with prospect of further connection to Brazil. Sir William Thomson and Fleeming Jenkin were the engineers. Hooper\\'s Telegraph Works were contracted to provide the cable; arrangements with the Great Northern Telegraph Co to make use of its cables\\n1873 The company was in liquidation but the cables were being laid by Hoopers and would be operated by other companies\\n\\nhttps://www.gracesguide.co.uk/Western_and_Brazilian_Telegraph_Co\\nWestern and Brazilian Telegraph Co\\n1873 Sir William Thomson and Professor Fleeming Jenkin were connected with the manufacture and laying of cables off the coast of Brazil for the Western and Brazilian Telegraph Company.\\n\\nhttps://www.gracesguide.co.uk/Hoopers_Telegraph_and_India-Rubber_Works\\nHoopers Telegraph and India-Rubber Works\\nJump to:navigation, search\\nof 31 Lombard Street, London, EC\\n1845 William Hooper, a chemist, set up a factory around 1845 in Mitcham, Surrey, to produce rubber goods mostly for the medical profession. He experimented with rubber insulation for electric cables and eventually found a way of insulating cables in a continuous process.\\nc.1857 or later: The Indian Government placed Hooper\\'s first order, followed by another order for cable to link India and Ceylon. W. T. Henley carried out the armouring of the cable.\\n1860 Company established by William Hooper trading under his own name.\\n1870 Hooper formed Hooper\\'s Telegraph Works Ltd. to undertake both manufacture and laying of submarine cables. The first order for the new company was from the Great Northern Telegraph Co for a cable connecting Vladivostock to Hong Kong; Siemens Brothers and Co carried out the armouring of this cable.\\n1873 Hooper\\'s laid the cable (which had been made for an Atlantic crossing) off the east coast of South America, having been offered this concession by the Telegraph Construction and Maintenance Co on the condition that Hooper\\'s dropped their plans for a transatlantic cable.\\n\\n```\\n\\nThe historical company information comes from [Grace\\'s Guide](https://www.gracesguide.co.uk).\\n\\n```{admonition} Grace\\'s Guide To British Industrial History\\n:class: seealso dropdown\\n\\n[Grace\\'s Guide To British Industrial History](https://www.gracesguide.co.uk);  source of historical information on industry and manufacturing in the UK. Additions are being made daily by a team of volunteers who give freely of their time and expertise.\\n\\nGrace’s Guide is a Registered Charity and it relies upon donations and sponsors. Grace\\'s Guide Ltd is a charity (No.1154342) for the advancement of education of the history of Industry and Engineering in the UK.\\n\\n```')]"
      ]
     },
     "execution_count": 240,
     "metadata": {},
     "output_type": "execute_result"
    }
   ],
   "source": [
    "# Parse types\n",
    "\n",
    "def create_admontions(typ_s):\n",
    "    parsed = []\n",
    "    for s in typ_s:\n",
    "        if s[0] ==\"TEXT\" or s[0]==\"IMAGE\" or s[0].startswith(\"![\"):\n",
    "            # parse image\n",
    "            parsed.append( s )\n",
    "        elif s[0] == \"RESOURCE\":\n",
    "            # parse resource\n",
    "            # Put things into an admonition block\n",
    "            #print(\"\\n\\n\\*****\\n\"+s[1])\n",
    "            _parsed = admonition_generator(parse_sections([s[1]])[0])\n",
    "\n",
    "            parsed.append( (s[0], _parsed) )\n",
    "        else:\n",
    "            # This should be null\n",
    "            pass\n",
    "\n",
    "    return parsed\n",
    "\n",
    "parsed = create_admontions(typ_s)\n",
    "parsed"
   ]
  },
  {
   "cell_type": "code",
   "execution_count": 241,
   "id": "26b1c60a",
   "metadata": {},
   "outputs": [],
   "source": [
    "myst_txt = \"\\n\\n\".join([t[1] for t in parsed ])\n",
    "\n",
    "with open(\"test.md\", \"w\") as f:\n",
    "    f.write(myst_txt)"
   ]
  },
  {
   "cell_type": "code",
   "execution_count": 242,
   "id": "dfb29846",
   "metadata": {},
   "outputs": [],
   "source": [
    "for f in raw_files:\n",
    "    txt = get_file_contents(f\"{f}.md\")\n",
    "    txt_sections = get_sections(txt)\n",
    "    typ_s = structure_record(txt_sections)\n",
    "    parsed = create_admontions(typ_s)\n",
    "    with open(f\"__{f}.md\", \"w\") as f:\n",
    "        myst_txt = \"\\n\\n\".join([t[1] for t in parsed ])\n",
    "        f.write(myst_txt)"
   ]
  },
  {
   "cell_type": "code",
   "execution_count": 238,
   "id": "d402b0eb",
   "metadata": {},
   "outputs": [
    {
     "data": {
      "text/plain": [
       "'training_ship'"
      ]
     },
     "execution_count": 238,
     "metadata": {},
     "output_type": "execute_result"
    }
   ],
   "source": [
    "f"
   ]
  },
  {
   "cell_type": "code",
   "execution_count": null,
   "id": "222eb843",
   "metadata": {},
   "outputs": [],
   "source": []
  }
 ],
 "metadata": {
  "kernelspec": {
   "display_name": "Python 3",
   "language": "python",
   "name": "python3"
  },
  "language_info": {
   "codemirror_mode": {
    "name": "ipython",
    "version": 3
   },
   "file_extension": ".py",
   "mimetype": "text/x-python",
   "name": "python",
   "nbconvert_exporter": "python",
   "pygments_lexer": "ipython3",
   "version": "3.9.8"
  }
 },
 "nbformat": 4,
 "nbformat_minor": 5
}
