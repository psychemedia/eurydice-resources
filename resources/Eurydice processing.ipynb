{
 "cells": [
  {
   "cell_type": "markdown",
   "id": "2c53f95e",
   "metadata": {},
   "source": [
    "# Eurydice processing\n",
    "\n",
    "Process hack `.md` files:\n",
    "    \n",
    "- split on `--`; first item is aways assumed to be `TEXT`;\n",
    "- check for `TEXT`\n",
    "- add article entries to db;\n",
    "- add images to db;\n",
    "- rewrite articles to useful MyST format;\n",
    "- rewrite images to useful MyST format."
   ]
  },
  {
   "cell_type": "code",
   "execution_count": 1,
   "id": "c241332e",
   "metadata": {},
   "outputs": [
    {
     "data": {
      "text/plain": [
       "['launch_of_eurydice',\n",
       " 'sea_trial_shenanigans',\n",
       " 'training_ship',\n",
       " 'last_four_days_eurydice_verney',\n",
       " 'foundering_of_the_eurydice',\n",
       " 'inquest',\n",
       " 'immediate_plans',\n",
       " 'struggle_to_raise_continues',\n",
       " 'life_aside',\n",
       " 'raising_the_eurydice',\n",
       " 'life_aside_2',\n",
       " 'eurydice_court_martial',\n",
       " 'eurydice_in_port',\n",
       " 'fundraising_relief',\n",
       " 'eurydice_bodies_funerals_and_memorials',\n",
       " 'eurydice_poems',\n",
       " 'eurydice_reminiscences',\n",
       " 'eurydice_tracked_in_parliament']"
      ]
     },
     "execution_count": 1,
     "metadata": {},
     "output_type": "execute_result"
    }
   ],
   "source": [
    "import yaml\n",
    "\n",
    "with open(\"_toc.yml\", \"r\") as f:\n",
    "    toc = yaml.safe_load(f)\n",
    "    \n",
    "raw_files = [f[\"file\"].strip('_') for p in toc[\"parts\"] for f in p[\"chapters\"] if f[\"file\"].startswith(\"__\")]\n",
    "raw_files"
   ]
  },
  {
   "cell_type": "code",
   "execution_count": 2,
   "id": "42569302",
   "metadata": {},
   "outputs": [],
   "source": [
    "from sqlite_utils import Database\n",
    "\n",
    "db_name = \"eurydice-demo.db\"\n",
    "\n",
    "# Uncomment the following lines to connect to a pre-existing database\n",
    "db = Database(db_name)"
   ]
  },
  {
   "cell_type": "code",
   "execution_count": 3,
   "id": "c5912b7b",
   "metadata": {},
   "outputs": [],
   "source": [
    "# Do not run this cell if your database already exists!\n",
    "\n",
    "# While developing the script, recreate database each time...\n",
    "db = Database(db_name, recreate=True)"
   ]
  },
  {
   "cell_type": "code",
   "execution_count": 4,
   "id": "e2e4752f",
   "metadata": {},
   "outputs": [
    {
     "data": {
      "text/plain": [
       "<Table sources (url, fn, publication, published_date, title, date, author, pages, text)>"
      ]
     },
     "execution_count": 4,
     "metadata": {},
     "output_type": "execute_result"
    }
   ],
   "source": [
    "# This schema has been evolved iteratively as I have identified structure\n",
    "# that can be usefully mined...\n",
    "\n",
    "db[\"sources\"].create({\n",
    "    \"url\": str,\n",
    "    \"fn\": str,\n",
    "    \"publication\": str,\n",
    "    \"published_date\": str, # this may range from year to actual date\n",
    "    \"title\": int, # Title of section\n",
    "    \"date\": str, # optional; the second date field; may be eg correspondence date\n",
    "    \"author\": str, # attempt at provenance\n",
    "    \"pages\": str, # or pages like\n",
    "    \"text\": str,\n",
    "},# pk=(\"url\", \"title\") # Need an autoincrement; no natural key?\n",
    ")\n",
    "\n",
    "# Enable full text search\n",
    "# This creates an extra virtual table (books_fts) to support the full text search\n",
    "db[\"sources\"].enable_fts([\"publication\",\"title\", \"text\", \"published_date\"], create_triggers=True)"
   ]
  },
  {
   "cell_type": "code",
   "execution_count": 5,
   "id": "e32a1f5a",
   "metadata": {},
   "outputs": [
    {
     "data": {
      "text/plain": [
       "'# H.M.S. Eurydice, Training Ship\\n\\nIn 1877, H.M.S. Eurydice was refitted as a training ship. For many'"
      ]
     },
     "execution_count": 5,
     "metadata": {},
     "output_type": "execute_result"
    }
   ],
   "source": [
    "fn = \"training_ship.md\"\n",
    "\n",
    "def get_file_contents(fn):\n",
    "    \"\"\"Open file from filename and get file contents.\"\"\"\n",
    "    with open(fn) as f:\n",
    "        txt = f.read().strip()\n",
    "    return txt\n",
    "\n",
    "txt = get_file_contents(fn)\n",
    "txt[:100]"
   ]
  },
  {
   "cell_type": "code",
   "execution_count": 6,
   "id": "1cf8ccc6",
   "metadata": {},
   "outputs": [
    {
     "data": {
      "text/plain": [
       "['# H.M.S. Eurydice, Training Ship\\n\\nIn 1877, H.M.S. Eurydice was refitted as a training ship. For many years, the fleet had been moving over to armoured steamships and rigged sailing ships were no longer appropriate for modern naval warfare. However, it was still felt that sailors should still be able to handle traditionally rigged vessels and that training ratings on them would be to their benefit as seamen.\\n\\n![](../images/ILN_1878_loss_of_euridyce_apr_06_011.jpg)\\nIllustrated London News — H.M.S. Eurydice as she lay in Portsmouth harbour before her last voyage - from a photograph, April 6, 1878\\n\\n## On the Training of Sailors\\n\\nThe Eurydice was thus converted over to a training ship in the Spring of 1877, before embarking on a voyage to the West Indies in Autumn 1877.',\n",
       " \"https://www.britishnewspaperarchive.co.uk/viewer/bl/0000919/18770206/042/0005\\n\\nSouth Wales Daily News\\nTuesday 06 February 1877\\np5\\n\\nSEAMANSHIP OF YOUNG SAILORS.\\n\\nThe Admiralty are about to take practical measures for improving the seamanship of our young sailors. At present a boy having served a certain time on board a training-ship is transferred to a flagship, where he becomes an ordinary seaman. He is then draughted to a sea-going ship, and may, under favourable conditions, become an expert and efficient seaman, knowing the name and use of every rope on board, and capable of turning his hands to anything that may be required in the severest weather. It may happen, however, that he is sent to a ram of Rupert type, or a mastless ship like the Devastation where he can learn little or nothing of his profession; and as vessels of these classes are increasing, and likely to increase, it is necessary that special measures should be taken to bestow a thorough sea training upon young seamen, so that they may find themselves at home, no matter what the character of the ship may be to which they are despatched. A step in the right direction has been taken by the fitting out of the Eurydice, a sixth-rate wooden fripate of the old class as a sea-going training-ship for ordinary seamen. The Eurydice is 140ft. in length between perpendiculars. 78ft. in extreme breadth, and 921 tons burthen, old measurement. When ready for commission she will furnish accommodation for 280 young seamen, in addition to her commander and staff of officers. She will carry six 64-pounder 71cwt. guns, mounted on rear truck carriages, three on each side of the main deck. She will be ship rigged, and will probably have an independent commander's commission. Before being draughted for service in sea-going ships young ordinary seamen will undergo a six months' practical training at sea on board the Eurydice, which is totally guiltless of machinery of any kind and it cannot be doubted that the professional schooling which they will thereby receive will go far to improve the efficiency of our seamen as sailors.\\n\\n\\n[This article seems to have been syndicated widely.]\",\n",
       " 'https://www.britishnewspaperarchive.co.uk/viewer/bl/0000495/18770210/054/0008\\n\\nHampshire Advertiser\\nSaturday 10 February 1877\\np7\\n\\nHampshire Advertiser, Portsmouth Branch\\n\\nThe Eurydice, training brig, received her masts at Portsmouth on Monday, and will be taken in hand and rigged by her own crew.\\n\\nAPPOINTMENTS.\\n\\nCaptain M. A. S, Hare to the Eurydice.\\n\\nLieutenants ... Francis H. Tabor Stanley, A. B. Burney, and William E. Black to the Eurydice; ...',\n",
       " \"https://www.britishnewspaperarchive.co.uk/viewer/bl/0001681/18770214/029/0006\\nNaval & Military Gazette and Weekly Chronicle of the United Service\\nWednesday 14 February 1877\\n\\np124\\n\\nMovements of Her Majesty's Ships\\n\\nEurydice, 26, sailing-ship, Captain M. A. S. Hare, is being rapidly prepared a training-ship for ordinary seamen. Her lower masts and bowsprit were placed in her on the 5th inst. She will be fully rigged by her crew on being commissioned.\",\n",
       " 'https://www.britishnewspaperarchive.co.uk/viewer/bl/0000183/18770223/025/0005\\nLondon Evening Standard\\nFriday 23 February 1877\\n\\np5\\n\\nNaval and Military Intelligence\\n\\n...\\n\\nIt has long been felt that an evil has arisen from a large number of ordinary seamen after being released from the restraint of the training ships being kept for a time in the depot ships at the home ports, previous to being drafted for foreign stations. To remedy this evil the Lords of the Admiralty have commissioned the Eurydice as a training ship at Portsmouth for ordinary seamen in the Channel. Thus while the men will be at home and available for foreign service they will be kept under proper training in a position where discipline can be properly maintained, and be saved from the temptations inseparable from nightly leave.',\n",
       " \"https://www.britishnewspaperarchive.co.uk/viewer/bl/0001681/18771003/009/0005\\nNaval & Military Gazette and Weekly Chronicle of the United Service\\nWednesday 03 October 1877\\np5\\n\\nMovements of Her Majesty's Ships.\\n\\nEurydice. 6, training ship, Captain Marcus A. S. Hare, came into Portsmouth Harbour on Wednesday last, and was taken into the ship basin on Thursday to make good defects.\",\n",
       " 'https://www.britishnewspaperarchive.co.uk/viewer/bl/0000183/18771017/006/0002\\nLondon Evening Standard\\nWednesday 17 October 1877\\np2\\n\\nNaval and Military Intelligence\\n\\nEurydice, Captain Hare, is having defects made good at Portsmouth before starting on a winter training cruise. A fresh draft of young seamen will be sent to her so soon as she is ready for sea.',\n",
       " 'TEXT\\n\\n## Maiden Voyage as a Training Vessel, October, 1877',\n",
       " 'https://www.britishnewspaperarchive.co.uk/viewer/bl/0000495/18771027/017/0004\\nHampshire Advertiser\\nSaturday 27 October 1877\\n\\np4\\n\\nThe Eurydice, training ship, Captain M. A. S. Hare, was to go out of the ship basin at Portsmouth on Wednesday.',\n",
       " 'https://www.britishnewspaperarchive.co.uk/viewer/bl/0001702/18771031/063/0006\\n\\nShipping and Mercantile Gazette\\nWednesday 31 October 1877\\np6\\n\\nNAVAL AND MILITARY - THE ROYAL NAVY\\n\\nPortsmouth, Oct. 30.—The Eurydice, training ship for seamen, sailed to-day for the West Indies, but in consequence of the weather she has put into St. Helen’s Roads.',\n",
       " 'https://www.britishnewspaperarchive.co.uk/viewer/bl/0000495/18771110/066/0008\\nHampshire Advertiser\\n\\nSaturday 10 November 1877\\np8\\n\\nDevonport, Thursday, Nov. 8\\n\\nThe Eurydice, 6, sailing corvette, and training ship for ordinary seamen, sailed on Saturday for Lisbon, Madeira, and the West Indies.\\n\\n...\\n\\nThe Liberty, training brig, sailed on Saturday, in company with the Eurydice, for the West Indies.',\n",
       " 'TEXT\\n\\n![](../images/623829-1470753518.jpg)\\nHMS Eurydice at St Lucia before her last voyage home, 1878 1878\\nAlbumen print | 14.5 x 21.5 cm (image) | RCIN 2580515\\nPhotograph of sailing ship surrounded by small boats, off St Lucia; tree covered cliffs\\nProvenance\\nAlbum compiled by the Reverend J N Dalton (1839-1931) and presented to King George V\\nhttps://www.rct.uk/collection/2580515/hms-eurydice-at-st-lucia-before-her-last-voyage-home-1878',\n",
       " 'TEXT\\n\\n## Rumour of Disaster\\n\\n\\nRumour had it that a calamity had befallen the ship, but a telegram reported in the *Naval & Military Gazette and Weekly Chronicle of the United Service* of Wednesday 21 November 1877, received 17th of November and dated November 16th, 1877, revealed that all was well.',\n",
       " 'https://www.britishnewspaperarchive.co.uk/viewer/bl/0001681/18771121/038/0004\\nNaval & Military Gazette and Weekly Chronicle of the United Service\\n\\nWednesday 21 November 1877\\np4\\n\\nMovements of Her Majesty\\'s Ships\\n\\n...\\n\\nEurydice, 4 training-ship for ordinary seamean, Captain Marcus A S. Hare\\n\\nMuch excitement prevailed Portsmouth during last week, consequent on a rumour that during the recent heavy gale this vessel lost her topmasts and topsail yard, and that several men were carried overboard with them and drowned. On inquiry we learn that nothing official is yet to hand. On the 17th of November all apprehensions were removed by the receipt of the following telegram:— \"Eurydice, Lisbon, Friday, November 16th. 8 55 p.m.—Arrived all well; will leave on the 24th. Send letters and papers to Barbadoes.\"\\n\\n...',\n",
       " 'TEXT\\n\\nIn passing, we might note that the previous news article reveals how telegraphic cable communication was available between the West Indies and Britain by this time. A little bit of digging turns up the following history of the cable that presumably carried the telegram signal.\\n\\n```{admonition} Great Western Telegraph Company\\n:class: seealso dropdown\\n\\nTelegraph Cables (1899)\\nby C. J. Cooke\\nTransactions and Proceedings of the Royal Society of New Zealand\\nVolume 32, 1899, pp 324-329. Art. XXXVIII.\\nhttps://archive.org/details/transactionsofro99roya/page/n349/mode/2up?q=Telegraph\\nTranscript: https://atlantic-cable.com/Article/1899Cooke/index.htm\\n\"Great Western Telegraph Company was formed to connect the United States with Europe by way of the West Indies,\" then  \\'changed their title to the \"Western and Brazilian Telegraph Company\".\\'?\\n\\nhttps://www.gracesguide.co.uk/Great_Western_Telegraph_Co\\nGreat Western Telegraph Co\\n1872 Company incorporated to connect by telegraph cable New York with England, and the West Indies with New York and England, with prospect of further connection to Brazil. Sir William Thomson and Fleeming Jenkin were the engineers. Hooper\\'s Telegraph Works were contracted to provide the cable; arrangements with the Great Northern Telegraph Co to make use of its cables\\n1873 The company was in liquidation but the cables were being laid by Hoopers and would be operated by other companies\\n\\nhttps://www.gracesguide.co.uk/Western_and_Brazilian_Telegraph_Co\\nWestern and Brazilian Telegraph Co\\n1873 Sir William Thomson and Professor Fleeming Jenkin were connected with the manufacture and laying of cables off the coast of Brazil for the Western and Brazilian Telegraph Company.\\n\\nhttps://www.gracesguide.co.uk/Hoopers_Telegraph_and_India-Rubber_Works\\nHoopers Telegraph and India-Rubber Works\\nJump to:navigation, search\\nof 31 Lombard Street, London, EC\\n1845 William Hooper, a chemist, set up a factory around 1845 in Mitcham, Surrey, to produce rubber goods mostly for the medical profession. He experimented with rubber insulation for electric cables and eventually found a way of insulating cables in a continuous process.\\nc.1857 or later: The Indian Government placed Hooper\\'s first order, followed by another order for cable to link India and Ceylon. W. T. Henley carried out the armouring of the cable.\\n1860 Company established by William Hooper trading under his own name.\\n1870 Hooper formed Hooper\\'s Telegraph Works Ltd. to undertake both manufacture and laying of submarine cables. The first order for the new company was from the Great Northern Telegraph Co for a cable connecting Vladivostock to Hong Kong; Siemens Brothers and Co carried out the armouring of this cable.\\n1873 Hooper\\'s laid the cable (which had been made for an Atlantic crossing) off the east coast of South America, having been offered this concession by the Telegraph Construction and Maintenance Co on the condition that Hooper\\'s dropped their plans for a transatlantic cable.\\n\\n```\\n\\nThe historical company information comes from [Grace\\'s Guide](https://www.gracesguide.co.uk).\\n\\n```{admonition} Grace\\'s Guide To British Industrial History\\n:class: seealso dropdown\\n\\n[Grace\\'s Guide To British Industrial History](https://www.gracesguide.co.uk);  source of historical information on industry and manufacturing in the UK. Additions are being made daily by a team of volunteers who give freely of their time and expertise.\\n\\nGrace’s Guide is a Registered Charity and it relies upon donations and sponsors. Grace\\'s Guide Ltd is a charity (No.1154342) for the advancement of education of the history of Industry and Engineering in the UK.\\n\\n```']"
      ]
     },
     "execution_count": 6,
     "metadata": {},
     "output_type": "execute_result"
    }
   ],
   "source": [
    "def get_sections(txt):\n",
    "    \"\"\"Get sections from file.\"\"\"\n",
    "    txt_sections = [s.strip('-').strip() for s in txt.split(\"--\") if s.strip('-').strip()]\n",
    "    return txt_sections\n",
    "\n",
    "txt_sections = get_sections(txt)\n",
    "txt_sections"
   ]
  },
  {
   "cell_type": "code",
   "execution_count": 7,
   "id": "7c0c0b81",
   "metadata": {},
   "outputs": [
    {
     "data": {
      "text/plain": [
       "[('TEXT',\n",
       "  '# H.M.S. Eurydice, Training Ship\\n\\nIn 1877, H.M.S. Eurydice was refitted as a training ship. For many years, the fleet had been moving over to armoured steamships and rigged sailing ships were no longer appropriate for modern naval warfare. However, it was still felt that sailors should still be able to handle traditionally rigged vessels and that training ratings on them would be to their benefit as seamen.\\n\\n![](../images/ILN_1878_loss_of_euridyce_apr_06_011.jpg)\\nIllustrated London News — H.M.S. Eurydice as she lay in Portsmouth harbour before her last voyage - from a photograph, April 6, 1878\\n\\n## On the Training of Sailors\\n\\nThe Eurydice was thus converted over to a training ship in the Spring of 1877, before embarking on a voyage to the West Indies in Autumn 1877.'),\n",
       " ('RESOURCE',\n",
       "  \"https://www.britishnewspaperarchive.co.uk/viewer/bl/0000919/18770206/042/0005\\n\\nSouth Wales Daily News\\nTuesday 06 February 1877\\np5\\n\\nSEAMANSHIP OF YOUNG SAILORS.\\n\\nThe Admiralty are about to take practical measures for improving the seamanship of our young sailors. At present a boy having served a certain time on board a training-ship is transferred to a flagship, where he becomes an ordinary seaman. He is then draughted to a sea-going ship, and may, under favourable conditions, become an expert and efficient seaman, knowing the name and use of every rope on board, and capable of turning his hands to anything that may be required in the severest weather. It may happen, however, that he is sent to a ram of Rupert type, or a mastless ship like the Devastation where he can learn little or nothing of his profession; and as vessels of these classes are increasing, and likely to increase, it is necessary that special measures should be taken to bestow a thorough sea training upon young seamen, so that they may find themselves at home, no matter what the character of the ship may be to which they are despatched. A step in the right direction has been taken by the fitting out of the Eurydice, a sixth-rate wooden fripate of the old class as a sea-going training-ship for ordinary seamen. The Eurydice is 140ft. in length between perpendiculars. 78ft. in extreme breadth, and 921 tons burthen, old measurement. When ready for commission she will furnish accommodation for 280 young seamen, in addition to her commander and staff of officers. She will carry six 64-pounder 71cwt. guns, mounted on rear truck carriages, three on each side of the main deck. She will be ship rigged, and will probably have an independent commander's commission. Before being draughted for service in sea-going ships young ordinary seamen will undergo a six months' practical training at sea on board the Eurydice, which is totally guiltless of machinery of any kind and it cannot be doubted that the professional schooling which they will thereby receive will go far to improve the efficiency of our seamen as sailors.\\n\\n\\n[This article seems to have been syndicated widely.]\"),\n",
       " ('RESOURCE',\n",
       "  'https://www.britishnewspaperarchive.co.uk/viewer/bl/0000495/18770210/054/0008\\n\\nHampshire Advertiser\\nSaturday 10 February 1877\\np7\\n\\nHampshire Advertiser, Portsmouth Branch\\n\\nThe Eurydice, training brig, received her masts at Portsmouth on Monday, and will be taken in hand and rigged by her own crew.\\n\\nAPPOINTMENTS.\\n\\nCaptain M. A. S, Hare to the Eurydice.\\n\\nLieutenants ... Francis H. Tabor Stanley, A. B. Burney, and William E. Black to the Eurydice; ...'),\n",
       " ('RESOURCE',\n",
       "  \"https://www.britishnewspaperarchive.co.uk/viewer/bl/0001681/18770214/029/0006\\nNaval & Military Gazette and Weekly Chronicle of the United Service\\nWednesday 14 February 1877\\n\\np124\\n\\nMovements of Her Majesty's Ships\\n\\nEurydice, 26, sailing-ship, Captain M. A. S. Hare, is being rapidly prepared a training-ship for ordinary seamen. Her lower masts and bowsprit were placed in her on the 5th inst. She will be fully rigged by her crew on being commissioned.\"),\n",
       " ('RESOURCE',\n",
       "  'https://www.britishnewspaperarchive.co.uk/viewer/bl/0000183/18770223/025/0005\\nLondon Evening Standard\\nFriday 23 February 1877\\n\\np5\\n\\nNaval and Military Intelligence\\n\\n...\\n\\nIt has long been felt that an evil has arisen from a large number of ordinary seamen after being released from the restraint of the training ships being kept for a time in the depot ships at the home ports, previous to being drafted for foreign stations. To remedy this evil the Lords of the Admiralty have commissioned the Eurydice as a training ship at Portsmouth for ordinary seamen in the Channel. Thus while the men will be at home and available for foreign service they will be kept under proper training in a position where discipline can be properly maintained, and be saved from the temptations inseparable from nightly leave.'),\n",
       " ('RESOURCE',\n",
       "  \"https://www.britishnewspaperarchive.co.uk/viewer/bl/0001681/18771003/009/0005\\nNaval & Military Gazette and Weekly Chronicle of the United Service\\nWednesday 03 October 1877\\np5\\n\\nMovements of Her Majesty's Ships.\\n\\nEurydice. 6, training ship, Captain Marcus A. S. Hare, came into Portsmouth Harbour on Wednesday last, and was taken into the ship basin on Thursday to make good defects.\"),\n",
       " ('RESOURCE',\n",
       "  'https://www.britishnewspaperarchive.co.uk/viewer/bl/0000183/18771017/006/0002\\nLondon Evening Standard\\nWednesday 17 October 1877\\np2\\n\\nNaval and Military Intelligence\\n\\nEurydice, Captain Hare, is having defects made good at Portsmouth before starting on a winter training cruise. A fresh draft of young seamen will be sent to her so soon as she is ready for sea.'),\n",
       " ('TEXT', '## Maiden Voyage as a Training Vessel, October, 1877'),\n",
       " ('RESOURCE',\n",
       "  'https://www.britishnewspaperarchive.co.uk/viewer/bl/0000495/18771027/017/0004\\nHampshire Advertiser\\nSaturday 27 October 1877\\n\\np4\\n\\nThe Eurydice, training ship, Captain M. A. S. Hare, was to go out of the ship basin at Portsmouth on Wednesday.'),\n",
       " ('RESOURCE',\n",
       "  'https://www.britishnewspaperarchive.co.uk/viewer/bl/0001702/18771031/063/0006\\n\\nShipping and Mercantile Gazette\\nWednesday 31 October 1877\\np6\\n\\nNAVAL AND MILITARY - THE ROYAL NAVY\\n\\nPortsmouth, Oct. 30.—The Eurydice, training ship for seamen, sailed to-day for the West Indies, but in consequence of the weather she has put into St. Helen’s Roads.'),\n",
       " ('RESOURCE',\n",
       "  'https://www.britishnewspaperarchive.co.uk/viewer/bl/0000495/18771110/066/0008\\nHampshire Advertiser\\n\\nSaturday 10 November 1877\\np8\\n\\nDevonport, Thursday, Nov. 8\\n\\nThe Eurydice, 6, sailing corvette, and training ship for ordinary seamen, sailed on Saturday for Lisbon, Madeira, and the West Indies.\\n\\n...\\n\\nThe Liberty, training brig, sailed on Saturday, in company with the Eurydice, for the West Indies.'),\n",
       " ('TEXT',\n",
       "  '![](../images/623829-1470753518.jpg)\\nHMS Eurydice at St Lucia before her last voyage home, 1878 1878\\nAlbumen print | 14.5 x 21.5 cm (image) | RCIN 2580515\\nPhotograph of sailing ship surrounded by small boats, off St Lucia; tree covered cliffs\\nProvenance\\nAlbum compiled by the Reverend J N Dalton (1839-1931) and presented to King George V\\nhttps://www.rct.uk/collection/2580515/hms-eurydice-at-st-lucia-before-her-last-voyage-home-1878'),\n",
       " ('TEXT',\n",
       "  '## Rumour of Disaster\\n\\n\\nRumour had it that a calamity had befallen the ship, but a telegram reported in the *Naval & Military Gazette and Weekly Chronicle of the United Service* of Wednesday 21 November 1877, received 17th of November and dated November 16th, 1877, revealed that all was well.'),\n",
       " ('RESOURCE',\n",
       "  'https://www.britishnewspaperarchive.co.uk/viewer/bl/0001681/18771121/038/0004\\nNaval & Military Gazette and Weekly Chronicle of the United Service\\n\\nWednesday 21 November 1877\\np4\\n\\nMovements of Her Majesty\\'s Ships\\n\\n...\\n\\nEurydice, 4 training-ship for ordinary seamean, Captain Marcus A S. Hare\\n\\nMuch excitement prevailed Portsmouth during last week, consequent on a rumour that during the recent heavy gale this vessel lost her topmasts and topsail yard, and that several men were carried overboard with them and drowned. On inquiry we learn that nothing official is yet to hand. On the 17th of November all apprehensions were removed by the receipt of the following telegram:— \"Eurydice, Lisbon, Friday, November 16th. 8 55 p.m.—Arrived all well; will leave on the 24th. Send letters and papers to Barbadoes.\"\\n\\n...'),\n",
       " ('TEXT',\n",
       "  'In passing, we might note that the previous news article reveals how telegraphic cable communication was available between the West Indies and Britain by this time. A little bit of digging turns up the following history of the cable that presumably carried the telegram signal.\\n\\n```{admonition} Great Western Telegraph Company\\n:class: seealso dropdown\\n\\nTelegraph Cables (1899)\\nby C. J. Cooke\\nTransactions and Proceedings of the Royal Society of New Zealand\\nVolume 32, 1899, pp 324-329. Art. XXXVIII.\\nhttps://archive.org/details/transactionsofro99roya/page/n349/mode/2up?q=Telegraph\\nTranscript: https://atlantic-cable.com/Article/1899Cooke/index.htm\\n\"Great Western Telegraph Company was formed to connect the United States with Europe by way of the West Indies,\" then  \\'changed their title to the \"Western and Brazilian Telegraph Company\".\\'?\\n\\nhttps://www.gracesguide.co.uk/Great_Western_Telegraph_Co\\nGreat Western Telegraph Co\\n1872 Company incorporated to connect by telegraph cable New York with England, and the West Indies with New York and England, with prospect of further connection to Brazil. Sir William Thomson and Fleeming Jenkin were the engineers. Hooper\\'s Telegraph Works were contracted to provide the cable; arrangements with the Great Northern Telegraph Co to make use of its cables\\n1873 The company was in liquidation but the cables were being laid by Hoopers and would be operated by other companies\\n\\nhttps://www.gracesguide.co.uk/Western_and_Brazilian_Telegraph_Co\\nWestern and Brazilian Telegraph Co\\n1873 Sir William Thomson and Professor Fleeming Jenkin were connected with the manufacture and laying of cables off the coast of Brazil for the Western and Brazilian Telegraph Company.\\n\\nhttps://www.gracesguide.co.uk/Hoopers_Telegraph_and_India-Rubber_Works\\nHoopers Telegraph and India-Rubber Works\\nJump to:navigation, search\\nof 31 Lombard Street, London, EC\\n1845 William Hooper, a chemist, set up a factory around 1845 in Mitcham, Surrey, to produce rubber goods mostly for the medical profession. He experimented with rubber insulation for electric cables and eventually found a way of insulating cables in a continuous process.\\nc.1857 or later: The Indian Government placed Hooper\\'s first order, followed by another order for cable to link India and Ceylon. W. T. Henley carried out the armouring of the cable.\\n1860 Company established by William Hooper trading under his own name.\\n1870 Hooper formed Hooper\\'s Telegraph Works Ltd. to undertake both manufacture and laying of submarine cables. The first order for the new company was from the Great Northern Telegraph Co for a cable connecting Vladivostock to Hong Kong; Siemens Brothers and Co carried out the armouring of this cable.\\n1873 Hooper\\'s laid the cable (which had been made for an Atlantic crossing) off the east coast of South America, having been offered this concession by the Telegraph Construction and Maintenance Co on the condition that Hooper\\'s dropped their plans for a transatlantic cable.\\n\\n```\\n\\nThe historical company information comes from [Grace\\'s Guide](https://www.gracesguide.co.uk).\\n\\n```{admonition} Grace\\'s Guide To British Industrial History\\n:class: seealso dropdown\\n\\n[Grace\\'s Guide To British Industrial History](https://www.gracesguide.co.uk);  source of historical information on industry and manufacturing in the UK. Additions are being made daily by a team of volunteers who give freely of their time and expertise.\\n\\nGrace’s Guide is a Registered Charity and it relies upon donations and sponsors. Grace\\'s Guide Ltd is a charity (No.1154342) for the advancement of education of the history of Industry and Engineering in the UK.\\n\\n```')]"
      ]
     },
     "execution_count": 7,
     "metadata": {},
     "output_type": "execute_result"
    }
   ],
   "source": [
    "# First section is text, but then we need to parse type\n",
    "\n",
    "def structure_record(txt_sections):\n",
    "    typ_s = [(\"TEXT\", txt_sections[0])]\n",
    "\n",
    "    for s in txt_sections[1:]:\n",
    "        s = s.strip()\n",
    "        if s.startswith(\"TEXT\"):\n",
    "            typ_s.append((\"TEXT\", s.replace(\"TEXT\",\"\").strip()))\n",
    "        elif s.startswith(\"![\"):\n",
    "            typ_s.append((\"IMAGE\", s))\n",
    "        else:\n",
    "            # Should we assume text unless we get eg an http at the start of a record?\n",
    "            typ_s.append((\"RESOURCE\", s))\n",
    "\n",
    "    return typ_s\n",
    "\n",
    "typ_s = structure_record(txt_sections)\n",
    "typ_s"
   ]
  },
  {
   "cell_type": "code",
   "execution_count": 8,
   "id": "1db41568",
   "metadata": {},
   "outputs": [],
   "source": [
    "#%pip install dateparser\n",
    "# https://dateparser.readthedocs.io/en/latest/usage.html\n",
    "from dateparser.date import DateDataParser\n",
    "\n",
    "ddp = DateDataParser(languages=['en'])"
   ]
  },
  {
   "cell_type": "code",
   "execution_count": 9,
   "id": "bf572e64",
   "metadata": {},
   "outputs": [],
   "source": [
    "import re\n",
    "\n",
    "dt = \"%Y-%m-%d\"\n",
    "\n",
    "def parse_sections(txt_sections, fn=None):\n",
    "    \"\"\"Parse file section.\"\"\"\n",
    "    records = []\n",
    "    for section in txt_sections:\n",
    "        txt_lines = [l.strip() for l in section.split('\\n') if l.strip()]\n",
    "        #print(txt_lines)\n",
    "        record = {\"fn\":fn}\n",
    "        for i, line in enumerate(txt_lines):\n",
    "            line = line.strip()\n",
    "            # This is inefficient...\n",
    "            # We should test as fallback...\n",
    "            try_url = line.startswith(\"http\")\n",
    "            try_date = ddp.get_date_data(line.replace('Publication date', '').strip())\n",
    "            try_pages = re.search(r\"^pp?\\.?\\s?([0-9ivxlcm\\?].*)\", line)\n",
    "\n",
    "            if try_url:\n",
    "                record[\"url\"] = line\n",
    "            elif try_date[\"date_obj\"]:\n",
    "                if \"published_date\" in record:\n",
    "                    record[\"date\"] = try_date.date_obj.strftime(dt)\n",
    "                else:\n",
    "                    record[\"published_date\"] = try_date.date_obj.strftime(dt)\n",
    "            elif try_pages:\n",
    "                record[\"pages\"] = try_pages.group(1)\n",
    "            elif not \"publication\" in record:\n",
    "                record[\"publication\"] = line\n",
    "\n",
    "            # We take pages as the last item of metadata...\n",
    "            if try_pages:\n",
    "                break\n",
    "        \n",
    "        txt = f'{record[\"pages\"]}'.join(section.split(try_pages.group(0))[1:]).strip()\n",
    "        if len(txt.split(\"\\n\")[0]) > 200:\n",
    "            record[\"title\"] = txt[:100]\n",
    "            record[\"text\"] = txt[100:]\n",
    "        else:\n",
    "            record[\"title\"] = txt.split(\"\\n\")[0]\n",
    "            record[\"text\"] = txt.replace(record[\"title\"], \"\").strip()\n",
    "        #if len(txt_lines[i+1])>200:\n",
    "        #    record[\"title\"] = txt_lines[i+1][:100]\n",
    "        #    record[\"text\"] = \"\\n\\n\".join(txt_lines[i+1:])[100:]\n",
    "        #else:\n",
    "        #    record[\"title\"] = txt_lines[i+1]\n",
    "        #    record[\"text\"] = \"\\n\\n\".join(txt_lines[i+2:])\n",
    "        records.append(record)\n",
    "\n",
    "    return records"
   ]
  },
  {
   "cell_type": "code",
   "execution_count": 10,
   "id": "98e2f487",
   "metadata": {},
   "outputs": [
    {
     "name": "stderr",
     "output_type": "stream",
     "text": [
      "/usr/local/lib/python3.9/site-packages/dateparser/date_parser.py:35: PytzUsageWarning: The localize method is no longer necessary, as this time zone supports the fold attribute (PEP 495). For more details on migrating to a PEP 495-compliant implementation, see https://pytz-deprecation-shim.readthedocs.io/en/latest/migration.html\n",
      "  date_obj = stz.localize(date_obj)\n"
     ]
    },
    {
     "data": {
      "text/plain": [
       "[{'fn': None,\n",
       "  'url': 'https://www.britishnewspaperarchive.co.uk/viewer/bl/0000919/18770206/042/0005',\n",
       "  'publication': 'South Wales Daily News',\n",
       "  'published_date': '1877-02-06',\n",
       "  'pages': '5',\n",
       "  'title': 'SEAMANSHIP OF YOUNG SAILORS.',\n",
       "  'text': \"The Admiralty are about to take practical measures for improving the seamanship of our young sailors. At present a boy having served a certain time on board a training-ship is transferred to a flagship, where he becomes an ordinary seaman. He is then draughted to a sea-going ship, and may, under favourable conditions, become an expert and efficient seaman, knowing the name and use of every rope on board, and capable of turning his hands to anything that may be required in the severest weather. It may happen, however, that he is sent to a ram of Rupert type, or a mastless ship like the Devastation where he can learn little or nothing of his profession; and as vessels of these classes are increasing, and likely to increase, it is necessary that special measures should be taken to bestow a thorough sea training upon young seamen, so that they may find themselves at home, no matter what the character of the ship may be to which they are despatched. A step in the right direction has been taken by the fitting out of the Eurydice, a sixth-rate wooden fripate of the old class as a sea-going training-ship for ordinary seamen. The Eurydice is 140ft. in length between perpendiculars. 78ft. in extreme breadth, and 921 tons burthen, old measurement. When ready for commission she will furnish accommodation for 280 young seamen, in addition to her commander and staff of officers. She will carry six 64-pounder 71cwt. guns, mounted on rear truck carriages, three on each side of the main deck. She will be ship rigged, and will probably have an independent commander's commission. Before being draughted for service in sea-going ships young ordinary seamen will undergo a six months' practical training at sea on board the Eurydice, which is totally guiltless of machinery of any kind and it cannot be doubted that the professional schooling which they will thereby receive will go far to improve the efficiency of our seamen as sailors.\\n\\n\\n[This article seems to have been syndicated widely.]\"}]"
      ]
     },
     "execution_count": 10,
     "metadata": {},
     "output_type": "execute_result"
    }
   ],
   "source": [
    "parse_sections([typ_s[1][1]])"
   ]
  },
  {
   "cell_type": "code",
   "execution_count": 11,
   "id": "d322e611",
   "metadata": {},
   "outputs": [],
   "source": [
    "from datetime import datetime\n",
    "import humanize\n",
    "\n",
    "def admonition_generator(record):\n",
    "    \"\"\"Generate MyST admonition markdown for the record.\"\"\"\n",
    "    dt_ = datetime.fromisoformat(record[\"published_date\"])\n",
    "    # The humanize package gives us things like 3rd, 27th, etc.\n",
    "    daynum = humanize.ordinal(dt_.day)\n",
    "    # Format the date to something like: Wednesday, April 3rd, 1878\n",
    "    # %A is the day of the week (Monday, Tuesday, etc.)\n",
    "    # %B is the month (March, April, etc.)\n",
    "    # %Y is the 4-digit year (eg 1878)\n",
    "    dt = dt_.strftime(f'%A, %B {daynum}, %Y')\n",
    "    admonition = f\"\"\"\n",
    "```{{admonition}} {record[\"title\"]} - {dt}\n",
    ":class: note dropdown\n",
    "\n",
    "[{record[\"publication\"]}]({record[\"url\"]}), {record[\"published_date\"]}, p. {record[\"pages\"]}\n",
    "\n",
    "{record[\"text\"]}\n",
    "\n",
    "```\n",
    "\"\"\"\n",
    "    return admonition"
   ]
  },
  {
   "cell_type": "code",
   "execution_count": 12,
   "id": "91298c0d",
   "metadata": {},
   "outputs": [
    {
     "name": "stdout",
     "output_type": "stream",
     "text": [
      "\n",
      "```{admonition} SEAMANSHIP OF YOUNG SAILORS. - Tuesday, February 6th, 1877\n",
      ":class: note dropdown\n",
      "\n",
      "[South Wales Daily News](https://www.britishnewspaperarchive.co.uk/viewer/bl/0000919/18770206/042/0005), 1877-02-06, p. 5\n",
      "\n",
      "The Admiralty are about to take practical measures for improving the seamanship of our young sailors. At present a boy having served a certain time on board a training-ship is transferred to a flagship, where he becomes an ordinary seaman. He is then draughted to a sea-going ship, and may, under favourable conditions, become an expert and efficient seaman, knowing the name and use of every rope on board, and capable of turning his hands to anything that may be required in the severest weather. It may happen, however, that he is sent to a ram of Rupert type, or a mastless ship like the Devastation where he can learn little or nothing of his profession; and as vessels of these classes are increasing, and likely to increase, it is necessary that special measures should be taken to bestow a thorough sea training upon young seamen, so that they may find themselves at home, no matter what the character of the ship may be to which they are despatched. A step in the right direction has been taken by the fitting out of the Eurydice, a sixth-rate wooden fripate of the old class as a sea-going training-ship for ordinary seamen. The Eurydice is 140ft. in length between perpendiculars. 78ft. in extreme breadth, and 921 tons burthen, old measurement. When ready for commission she will furnish accommodation for 280 young seamen, in addition to her commander and staff of officers. She will carry six 64-pounder 71cwt. guns, mounted on rear truck carriages, three on each side of the main deck. She will be ship rigged, and will probably have an independent commander's commission. Before being draughted for service in sea-going ships young ordinary seamen will undergo a six months' practical training at sea on board the Eurydice, which is totally guiltless of machinery of any kind and it cannot be doubted that the professional schooling which they will thereby receive will go far to improve the efficiency of our seamen as sailors.\n",
      "\n",
      "\n",
      "[This article seems to have been syndicated widely.]\n",
      "\n",
      "```\n",
      "\n"
     ]
    }
   ],
   "source": [
    "print(admonition_generator(parse_sections([typ_s[1][1]])[0]))"
   ]
  },
  {
   "cell_type": "code",
   "execution_count": 13,
   "id": "d929eac2",
   "metadata": {},
   "outputs": [
    {
     "data": {
      "text/plain": [
       "['![](../images/ILN_1878_loss_of_euridyce_apr_06_03x.png)\\nIllustrated London News — H.M.S. Eurydice as she lay at eight a.m. on March 25 off Dunnose Point, Isle of Wight, April 6, 1878',\n",
       " '![](../images/ILN_1878_loss_of_euridyce_apr_06_03x.png)\\nIllustrated London News — H.M.S. Eurydice as she lay at eight a.m. on March 25 off Dunnose Point, Isle of Wight, April 6, 1878']"
      ]
     },
     "execution_count": 13,
     "metadata": {},
     "output_type": "execute_result"
    }
   ],
   "source": [
    "# Parse image\n",
    "# if we have an image, we need to pattern match until we get to a \\n\\n\n",
    "# then create a figure and replace the original image matched pattern\n",
    "xx=\"\"\"\n",
    "\n",
    "ssdsdd\n",
    "\n",
    "![](../images/ILN_1878_loss_of_euridyce_apr_06_03x.png)\n",
    "Illustrated London News — H.M.S. Eurydice as she lay at eight a.m. on March 25 off Dunnose Point, Isle of Wight, April 6, 1878\n",
    "\n",
    "asaa\n",
    "\n",
    "![](../images/ILN_1878_loss_of_euridyce_apr_06_03x.png)\n",
    "Illustrated London News — H.M.S. Eurydice as she lay at eight a.m. on March 25 off Dunnose Point, Isle of Wight, April 6, 1878\n",
    "\n",
    "asaa\n",
    "\"\"\"\n",
    "\n",
    "# The following says: .*? lazy search, (?=\\n\\n) lookahead to next \\n\\n\n",
    "# re.MULTILINE | re.DOTALL give us the search over multiple lines\n",
    "p = re.findall(r'!\\[.*?(?=\\n\\n)', xx, re.MULTILINE | re.DOTALL)\n",
    "p"
   ]
  },
  {
   "cell_type": "code",
   "execution_count": 14,
   "id": "25fd9416",
   "metadata": {},
   "outputs": [
    {
     "data": {
      "text/plain": [
       "'\\nIllustrated London News — H.M.S. Eurydice as she lay at eight a.m. on March 25 off Dunnose Point, Isle of Wight, April 6, 1878'"
      ]
     },
     "execution_count": 14,
     "metadata": {},
     "output_type": "execute_result"
    }
   ],
   "source": [
    " re.findall(\"!\\[[^\\]]*\\]\\(([^\\)]*)\\)(.*)$\", p[0], re.MULTILINE | re.DOTALL)[0][1]"
   ]
  },
  {
   "cell_type": "code",
   "execution_count": 15,
   "id": "6da726b0",
   "metadata": {},
   "outputs": [],
   "source": [
    "def generate_figure(doc):\n",
    "    \n",
    "    images = re.findall(r'!\\[.*?(?=\\n\\n)', doc, re.MULTILINE | re.DOTALL)\n",
    "    for image in images:\n",
    "        path =  re.findall(\"!\\[[^\\]]*\\]\\(([^\\)]*)\\)(.*)$\", image, re.MULTILINE | re.DOTALL)\n",
    "        if not path:\n",
    "            continue\n",
    "        txt = f\"\"\"\n",
    "```{{figure}} {path[0][0]}\n",
    "---\n",
    "---\n",
    "{path[0][1]}\n",
    "```\n",
    "\n",
    "\"\"\"\n",
    "        doc = doc.replace(image, txt)\n",
    "    return doc"
   ]
  },
  {
   "cell_type": "code",
   "execution_count": 45,
   "id": "3d4b40d9",
   "metadata": {},
   "outputs": [],
   "source": [
    "# Parse types\n",
    "\n",
    "def create_admontions(typ_s):\n",
    "    parsed = []\n",
    "    for s in typ_s:\n",
    "        if s[0] ==\"TEXT\" or s[0]==\"IMAGE\" or s[0].startswith(\"![\"):\n",
    "            # parse image\n",
    "            parsed.append( s )\n",
    "        elif s[0] == \"RESOURCE\":\n",
    "            # parse resource\n",
    "            # Put things into an admonition block\n",
    "            #print(\"\\n\\n\\*****\\n\"+s[1])\n",
    "            _parsed = admonition_generator(parse_sections([s[1]])[0])\n",
    "\n",
    "            parsed.append( (s[0], _parsed) )\n",
    "        else:\n",
    "            # This should be null\n",
    "            pass\n",
    "\n",
    "    return parsed"
   ]
  },
  {
   "cell_type": "code",
   "execution_count": 43,
   "id": "73265380",
   "metadata": {},
   "outputs": [
    {
     "name": "stdout",
     "output_type": "stream",
     "text": [
      "\n",
      "\n",
      "\\*****\n",
      "https://books.google.co.uk/books?id=UKFUAAAAcAAJ&pg=PT14&dq=27+%26+28+Vict.+bembridge&hl=en&newbks=1&newbks_redir=0&sa=X&ved=2ahUKEwjVk86zlKX3AhUYgFwKHXOGBxYQ6AF6BAgHEAI#v=onepage&q=%20bembridge&f=false\n",
      "\n",
      "The Statutes of the United Kingdom of Great Britain and Ireland, Volume 27\n",
      "\n",
      "1864\n",
      "\n",
      "p 1018\n",
      "\n",
      "Cap. cccxxviii.\n",
      "\"The Bembridge Railway, Tramway, and Pier Act, 1864.\" [29th July 1864.]\n",
      "\n",
      "Recites that the making of a Railiway from the authorised Line of Railway from Ryde to Lower Shanklin, near Yar Bridge, to Bembridge Point, with a Pier or Landing Place there, and a Tramway from the said intended Railway to Bembridge Down, all in the Parish of Brading in the Isle of Wight and County of Southampton, would be of great public and local Advantage; that cerrtain flooded and uninclosed and Waste Lands on the Shore of the Sea in Brading Harbour, and adjoining or near the proposed Railway, which are in the present State incapable of Cultivation, may, by reason of the Works of the Railway, be conveniently reclaimed, and it is expedient that Powers should be given for the Reclamation and Improvement of the same; and that the Company and the Isle of Wight Railway Company should be empowered to enter into Contracts and Arrangements as herin-after provided.\n",
      "\n",
      "\n",
      "\\*****\n",
      "https://www.britishnewspaperarchive.co.uk/viewer/bl/0002569/18770310/140/0004\n",
      "Isle of Wight Journal\n",
      "Saturday 10 March 1877\n",
      "\n",
      "p4\n",
      "\n",
      "BRADING.\n",
      "\n",
      "We would call the attention of the inhabitants of Brading to a report lower down with reference to their harbour. It seems that no one examined the Act of Parliament obtained by the new company, and if the inhabitants do not look out they will find bye-and-bye that they will have no harbour at all, which would indeed be a calamity.\n",
      "\n",
      "\n",
      "\\*****\n",
      "https://www.britishnewspaperarchive.co.uk/viewer/bl/0002569/18770310/034/0004\n",
      "\n",
      "Isle of Wight Journal\n",
      "Saturday 10 March 1877\n",
      "\n",
      "p4-5\n",
      "\n",
      "BEMBRIDGE. IMPORTANT PUBLIC MEETING\n",
      "\n",
      "BRADING HARBOUR\n",
      "\n",
      "In accordance with a requisition, a public meeting wan convened by the Rev. John Le Mesurier (vicar), and churchwardens, in the girls' school-room, Bembridge, to consider the best means of preserving rights and privileges of the inhabitants of Bembridge in respect to Brading Harbour. The Rev. J. le Mesurier occupied the chair, and the meeting was well-represented by all classes more or less interested ia the harbour.\n",
      "\n",
      "The first called upon Capt. John Douglas McDonald, R.N., who was the means of gettiag the requisition signed for convening the meeting.\n",
      "\n",
      "Captain MCDONALD commenced by raying theta did not wish to put himself prominently forward on this question, but by pure accident it came to his knowledge that they were being defrauded out of their rights and privileges in the Brading Harbour. They were specially indebttd to a friend in London to whom he wrote for information. All the replies in  answer to letters were to the effect that they were too late. He did not wish to be done, however, so he started a letter off at once to the authorities, which he would read later on. In the first place all this had arisen from the negligence of that parish in not attending to what was in print prior to 1874. He thought everyone was taken in by the heading \"to get an Act of Parliament for the improvment of Brading Harbour and works attached.' Not to start under any wrong impression, he did not think there was anyone present who did not wish to see a railway or good road—(hear, hear),—or an improvment to the harbour, and would not mind paying a little toll, but they would all like to have some part of the beach left to them as a public right of way. This the company had obtained, and it was now actual law, and, as far as he could understand, they could not move anywhere on the beach without paying a toll. He, for one, wished to live in Bembridge for some years to come, and would not put up with that without a struggle, and he hoped they would all join in using lawful means to avert such a thing. The the tolls they would have to pay, if the Act was allowed to proceed, would be more than the public taxes in any part of the Kingdom. Feeling this very deeply he wrote officially to the Board of Trade and to the Lords Commissioners of the Admiralty. He had been in correspondence with a friend in town for some time before that. The letter to the Secretary of the Admiralty was to the following effect :—\n",
      "\n",
      "I beg to call the attention of their Lordships to he above-named Act, which has given full power to a company to enclose the harbour now existing at Bembridge, or, at least, to reduce its proportions as to render it of little service. When I state from the best authority that over 655 vessels of the usual coasting craft, carrying coals, timber, &c., entered the harbour during the year 1876, of which number about 600 discharged their cargo at the quay at Brading, the rest either at St. Helen's or here, you can form some estimate of the value of Brading Harbour as it now exists. Moreover, it is the resort of all the pilot vessels, fishing craft, small yachts, &c., in this locality, most of whom have moorings laid down in the bight of the harbour. Also numerous yachts are in the habit of being laid up here for the winter. Under the above state of the case I trust their Lordships will hesitate to give their sanction to clause 38 contained in the said Act, without a full and complete inquiry into the merits of the case.\n",
      "\n",
      "A similar letter was sent to the Board of Trade, and the following was their reply :—\n",
      "\n",
      "I am directed by the Board of trade to acknoledge the receipt of your letter of the 27th ult., on the subject of tho works which the Brading Harbour Improvement and Pier Company propose to construct inn Brading Haven, in pursuance of the authority conferred upon them by the above Act. In reply. I am to point out, as indeed your letter admits, that Parliament has authorised the construction of the embankment to which you object. It has further, by the 38th section at the Act to which you call attention, conferred on the Lords Commissioners of the Admiralty the duty of approving of the working drawings, and I am to observe that is it obvious that the Board of Trade have no power to repeal or alter an Act of Parliament.\n",
      "\n",
      "They had not got a reply from the Admiralty, but they would hear that that was going on all right, and that it was their sheet anchor. With reference to the reply from the Board of Trade, he would say they ought not to have signed away the  public right of water. The speaker then quoted from \"Phear\" on the rights of water. This harbour, fortunately for them, happened to be under the jurisdiction of the Admiralty, and was enclosed in the plan furnished to the authorities at Portsmouth. No shingle could be taken away without their permissionm and their rights extended up to Brading. HE wanted them now to select a committee to act in the matter.\n",
      "\n",
      "Captain John Macdonald, R.N., then explained the differnce between the original and amended plan, and it was clearly shown that if carried out Brading Harbout would be a harbout of refuge no longer.\n",
      "\n",
      "Different sections of the Act were then read, including schedule of charges.\n",
      "\n",
      "Mr de Pass next addressed the meeting, and on one or two points he differed from the previous speaker. He argued that it would be of no use for them to endeavour to upset the whole Act of Parliament, but they should bring all their forces to bear to keep the company to their first plan. The difference between the first and second plan was in having a harbour for vessels or having no harbour. (Hear, hear.)\n",
      "\n",
      "Captain McDonald said he quite agreed with regard to the old plen, but there was one one thing they had forgotten—that was about the tolls which could be levied even when the old plans were completed. It had been an open place in the harbour from time immemorial, and as long as he could stir a hand in the matter a toll should not be paid unless the people had a place to land their boats. (Hear, hear.) If they had a harbour they wanted a free one. (Appllause.) If the choice was between a harbour and a railway he would rather have the harbour. If the harbour was shut up where were the fishermen, &c., to get their bait. (Hear, hear.)\n",
      "\n",
      "Mr. de Pass: Two plans had been deposited. The first plan might hare been opposed successfully and there would have been an end to it. Now the company had deposited a second, which meant to shut up the harbour entirely, which would be great oppression. The original Act was named the \"Bembridge Improvement Act\". The people of Bembridge went to sleep—(laughter)—and did not go to Brading to see the Act. The Act was passed for the improvement of Bembridge, and they believed it to be an improvement till their eyes were opened, and saw that this little part of their rights was being taken away. Bembridge Harbour was free, and if the people of Brading liked to allow their harbor to be shut up, it was their affair, but he did not think they would allow it. He did not think it could be closed up by the signature of any party unless it was proved that no real good could accrue to Bembridge without destroying the harbour. He afterwards referred to the tolls, and argued that they would be obliged to come down as the public would not patronise the company.\n",
      "\n",
      "Captain McDonlaod said that according to the plans they were not allowed the smallest portion as being free.\n",
      "\n",
      "Captain Clayton advocated forming a committee at once, which wasaccordingly done, consisting of the following:— Captain McDonald, Captain Clayton, Messrs. T. E. Osborn, Searl, W. W. Osborne, Mursell, Weaver, Damp and Jones.\n",
      "\n",
      "The meeting then broke up.\n",
      "\n",
      "\n",
      "\\*****\n",
      "https://www.britishnewspaperarchive.co.uk/viewer/bl/0000495/18770314/028/0003\n",
      "\n",
      "Hampshire Advertiser\n",
      "Wednesday 14 March 1877\n",
      "\n",
      "p3\n",
      "\n",
      "BEMBRIDGE, March 14.\n",
      "\n",
      "\" Improvements.\"\n",
      "\n",
      "— Anyone who has visited this part of the Island, and noticed the beautiful sandy beach, the picturesque asa and land views, and the healthy climate, must have felt aome little surprise that it haa not been so well frequented as other places. Its beauties and advantages have at last been discovered, however, and, as with the rest of the Island, things are looking up here. The chief reason whioh has prevented Bembridge from being oftener visited has been the fact of it being rather difficult of access. Although only a short distance from Ryde there is no getting a carriage there, unless one goes round the harbour, which adds several miles to the journey. If a carriage is taken to St. Helen's, it has to be left there, and passengers are ferried over in small boats for 1d. The harbour here is of considerable width, and the channel of some depth, but an unfortunate bar across ita month has prevented it being useful to large vessels, though yachts, barges, &c., find no difficulty in navigating it, and no less than 655 coasting craft, carrying coal, timber, &c., entered the harbour in 1876, and 600 discharged cargoes at Brading. This being the case, the inhabitants naturally wish to preserve the harbour, though desirous, at the same time, of seeing as many improvements carried out as possible. The great improvement is a projected railway, and, while welcoming it on one account as likely to benefit them, they are strongly opposed to the company, who have obtained powers to improve the harbour aas well as make a railway, and they propose a scale of tolls, at which the inhabitants are highly indignant. No vessels could come in without a toll, and all the old rights and privileges of the fishermen will be gone for ever. Although the Act of the company has actually passed, Captain McDonald, R.N., has taken an active part in calling attention to its provisions, and haa written to the Lords Commissioners of the Admiralty and the Board of Trade, but hitherto without a favourable reply. This gentleman was instrumental in calling a public meeting of the inhabitants last week, when it was clearly shown that the company had trenched conaiderably upon their original plans, and that the harbour would no longer be free if they carried out all that was intended. A committee, consisting of the following gentleman, was appointed to do what they could to preserve the rights of the inhabitants : — Captain McDonald Capt Clayton, Messrs. T. E. Osborn, Searl, W. Osborn, Mursell, Weaver, Damp, and Jones.\n",
      "\n",
      "\n",
      "\\*****\n",
      "https://www.britishnewspaperarchive.co.uk/viewer/bl/0000495/18770314/028/0003\n",
      "Hampshire Advertiser\n",
      "Wednesday 14 March 1877\n",
      "p3\n",
      "\n",
      "BEMBRIDGE, March 14.\n",
      "\n",
      "\" Improvements.\" — Anyone who has visited this part of the Island, and noticed the beautiful sandy beach, the picturesque sea and land views, and the healthy climate, must have felt some little surprise that it has not been so well frequented aa other places. Its beauties and advantages have at last been discovered, however, and, as with the rest of the Island, things are looking up here. The chief reason which haa prevented Bembridge from being oftener visited has been the fact of it being rather difficult of access. Although only a short distance from Ryde there is no getting a carriage there, unless one goes round the harbour, whioh adds several miles to the journey. If a carriage is taken to St. Helen's, it has to be left there, and passengers are ferried over in small boats for 1d. The harbour here is of considerable width, and the channel of some depth, but an unfortunate bar across its mouth has prevented it being useful to large vessels, though yachts, barges, &c., find no difficulty in navigating it, and no less than 655 coasting craft, carrying coal, timber, &c., entered the harbour in 1876, and 600 discharged cargoes at Brading. This being the case, the inhabitants naturally wish to preserve the harbour, though desirous, at the same time, of seeing as many improvements carried out as possible. The great improvement ia a projected railway, and, while welcoming it on one account as likely to benefit them, they are strongly opposed to the company, who have obtained powers to improve the harbour as well aa make a railway, and they propose a scale of tolls, at which the inhabitants are highly indignant. No vessels could come in without a toll, aod all the old rights and privileges of the fishermen will be gone for ever. Although the Act of the company has actually passed, Captain McDonald, R.N., has taken an active part in calling attention to its provisions, and has written to the Lords Commissioners of the Admiralty and the Board of Trade, but hitherto without a favourable reply. This gentleman was instrumental in calling a public meeting of the inhabitants last week, when it was clearly shown that the company had trenched coniderably upon their original plans, and that the harbour would no longer be free if they carried out all that was intended. A committee, consisting of the following gentleman, was appointed to do what they could to preserve the rights of the inhabitants : — Captain McDonald, Capt Clayton, Messrs. T. E. Osborn, Searl, W. Osborn, Morsell, Weaver, Damp, and Jones.\n",
      "\n",
      "\n",
      "\\*****\n",
      "https://www.britishnewspaperarchive.co.uk/viewer/bl/0000495/18771024/031/0004\n",
      "\n",
      "Hampshire Advertiser\n",
      "Wednesday 24 October 1877\n",
      "\n",
      "p4\n",
      "\n",
      "BRADING, Oct. 24.\n",
      "\n",
      "Reclamation of Mudlands at Brading Harbour.\n",
      "\n",
      "Brading Harbour, although a pretty sheet of water at high tide, presents nothing but a vast expanse of mud flats when tbe water is out, and the channel, which runs between them to Brading quay, is very intricate. Nowhere does the water flow over the mud flats more than two or three feet, and nothing is easier tban for a vessel to get aground in making her way up the harbour. The celebrated Hugh Middleton, the engineer who did so much for the water supply of London, as long ago as the 17th century, is said to have conceived the idea of reclaiming these mud flats, and converting them into arable land, but owing to tbe defective engineering appliances of those days, he did net succeed, and old inhabitants of St. Helen's say that wood work aid other relics of his attempt existed till quite recently, A company bas been formed with much the same object in view as Hugh Middleton, with the addition of a railway. They are now actively at work, and have already reclaimed a plot of land at Bembridge, which will be converted into a railway station. An embankment is now being constructed across tbe harbour to shut out the sea, and thus reclaim about 800 acres of land. A large quay will be made at St. Helen's Mill, where goods will be landed and carried by railway to Brading. instead of being taken by boats. The entrance to the harbour will also be improved, so that vessels of larger burden cau enter. A railway is now in course of construction for the conveyance of passengers to Bembridge and St. Helen's. As both these are pretty places, and possess a good beach, there seems every probability that they will, ere long, become watering places of importance.\n",
      "\n",
      "\n",
      "\\*****\n",
      "https://www.britishnewspaperarchive.co.uk/viewer/bl/0000495/18771103/004/0002\n",
      "Hampshire Advertiser\n",
      "Saturday 03 November 1877\n",
      "\n",
      "p1\n",
      "\n",
      "THE RECLAMATION OF BRADING HAVEN.\n",
      "\n",
      "It may not be uninteresting to many of our Isle of Wight readers, now that the reclamation of Brading Harbour is a work in progress, to know that such a work was attempted so far back as 1616, by Sir Hugh Myddleton, whose successful enterprise in connection with the New River Company has given him enduring fame. Smiles, in his \" Lives of Engineers,\" refers to this work, and says that it is probable \" that, at some early period, neither swamp nor lake existed at Brading Haven, but a green and fertile valley, for in the course of tbe works undertaken by Sir Hugh for its recovery from the sea, a well, strongly cased with stone, was discovered near the middle of the Haven, indicating tbe existence of a former settled pppulation on the soil. The sea must, however, have burst in and destroyed the settlement, layiug the whole valley under water. In King James's reign, when the recovering of drowned lands began to receive an unusual degree of attention, the project of reclaiming Brading Haven was again revived; and in the year 1616 a grant was made of the drowned lands to one John Gibb, the King reserving to himself a rental of £20 per annum •• • It appears that Gibb sold his right to one Sir Bevis Thelwall, who at once invited Sir Hugh Myddleton to join him in undertaking the work. • • • A satisfactory arrangement having been made with the King, Myddleton began tne work of reclaiming the Haven in the course of tbe same year (1620). He sent to Holland for Dutch workmen, familiar with such undertakings, and it is obvious that be mainly followed the Dutch method of reclamation, although it would also appear that be also employed some invention of his own. No description is given of the paiticular method a opted by Sir Hugh in forming his embankment, but it would appear that he proceeded by driving piles into the bottom oi the Haven, near Bembridge Point, where it is about the narrowest, and thus formed a strong embankment at its junction with the sea, but, as would appear, without making adequate provision for the egress of the inland waters.\"\n",
      "\n",
      "A very curious contemporary manuscript by Sir John Oglander, is still preserved amongst the archives of the Oglander family, who hold a great part of the ueighbounng land, from which it would appear that after the ground was recovered, it was not of much value. The best portion was that nearest Brading ; 200 acres were worth about 6s 8d the acre, and all the rest about 2s 6d the acre (!). Wheat, barley, cabbage, and oats, all failed to grow on it ; but rape succeeded best ; all the others came to nothing. At last, on the 8th of May, 1630, there came a very high spring tide, when the sea made a breach, and, not being attended to soon euougb, got worse and worse, till at last it was all covered again with the sea. The total amount lost in the attempt is said to be about £7000. The manuscript referred to further says that though the country people were much against the reclamation of the harbour, yet it \" caused a great deal more health in tbese parts than was ever known before.\" The gates whioh served for a sluice were dug up some years ago near the boatbouse on St. Helen's, \" Duvver.\"\n",
      "\n",
      "\n",
      "\\*****\n",
      "https://www.britishnewspaperarchive.co.uk/viewer/bl/0000069/18771124/001/0001\n",
      "Hampshire Telegraph\n",
      "Saturday 24 November 1877\n",
      "p1\n",
      "\n",
      "IN PARLIAMENT, SESSION 1878. BRADING HARBOUR DISTRICT GAS.\n",
      "\n",
      "INCORPORATION of Company, power to erect Works and to supply Gas in the Parishes of Brading and Saint Helen's, in the Isle of Wight and County of Southampton. Powers to Brading Harbour Improvement and Railway Company. Power to levy Tolls. Incorporation and Amendmont of Acts.\n",
      "\n",
      "NOTICE IS HEREBY GIVEN,-That application will be made to Parliament in the ensuing Session for a Bill for the following or some of the following purposes :—\n",
      "\n",
      "1.-To incorporate a Company, hereinafter called the Company, and to empower the Company to manufacture Gas, and supply with Gas, the following Parishes and places in the Isle of Wight ant County of Southampton, that is to say—the parishes of Brading, and St. Helen's, Bembridge, and Sea View.\n",
      "\n",
      "2.—To authorise the Company to purchase, take on lease, or otherwise, acquire by agreement the following Plot or Parcel of Land situate in the Parish of Brading, in the Isle of Wight and County of Southampton, that is to say, a square piece of land of the area of about 20,000 square yards, situate on the west side and adjoining the Railway now in course of construction between St. Helens and Bemnbridge, the north-east angle of which piece of land is 300 yards or thereabouts, measured in. a southerly direction from the commencement of the New Quay now in course of construction, near St. Helens Mill, in the parish of St Helens, in the Isle of Wight and County of Southampton, and thereon, or on some part or parts, to construct and maintain, and from time to time to alter, improve, extend, enlarge, and renew, Gas Works, and works for the manufacture, conversion, utilisation, and distribution of materials used in and about the manufacture of gas, and of residual produocts resulting therefrom, and to manufacture and store gas, and to manufacture and sell and let meters and other fittings.\n",
      "\n",
      "3.—To authorise the Company to lay down and maintain within the said Parishes, pipes and apparatus in, over, under, and across and for that purpose, to break up, alter, stop up, divert, and interfere with streets, roads, lanes, rivers, watercourses, streams, railways, tramways, sewers, drains, pipes, and telegraph apparatus.\n",
      "\n",
      "4.—To authorise the Brading Harbour Improvement and Railway Company hereinafter called the \"Harbour Company,\" to subscribe for and hold shares in the Capital of the Company and to enable the Company on the one hand and the Harbour Company on the other hand, to enter into arrangements and agreements for any of the purposes of the Bill, and particularly to authorise the Company to lay down and maintain pipes and apparatus along and across, the lands, railway, embankment, and works of the Harbour Company, and the approaches thereto, and to enable the Harbour Company to sell and dispose of any land belonging to them for any purposes of the Bill, and to grant all necessary rights ond easements.\n",
      "\n",
      "5.—To empower the Company to manufacture, purchase, or hire gas meters, fittings, and other gas a apparatus, and to sell or let the same, and to charge and receive rents, rates, charges, and remuneration for the sale and supply of gas, and gas meters and fittings and other gas apparatus.\n",
      "\n",
      "6.—To incorporate with the Bill all or some of the provisions of the Companies Clauses Consolidation Act, 1845, the Companies Clauses Act, 1863, the Companies Clauses Act, 1869, the Lands Clauses Consolidation Acts, 1845, 1860, and 1869, the Gas 7 Works Clauses Act, 1847, and the Gas Works Clauses Act, 1871.\n",
      "\n",
      "7.—To vary or extinguish all rights or privileges which would intrefere with any of the objects the Bill and to confer other right and privileges, and to alter, enlarge, vary, or repeal all, or some of the nowers and provisions of \"The Brading Harbur Improvement Railway and Works Act, 1874.\"\n",
      "\n",
      "8.—A Plan and Duplicate of the land proposed to be taken, as aforesaid, with a Book of Referenee to such plan, containing the names of the owners or a reputed owners, lessees or reputed lessees, and occupiers of such land, and a copy of ths notice will, on or before the 30th day of November instant, be deposited for public inspection with the Clerk of the Peace for the County of Southampton, at his Office at Winchester and with the Parish Clerks of the said Parishes of Brading and st. Helens, at their repsective residences.\n",
      "\n",
      "Printed copie of the Bill will, on or before the 21st of December, 1877, be deposited in the Private Bill Office of House of Commons.\n",
      "\n",
      "WRIGHT, BONNER & WRIGHT,  \n",
      "48, King William-street, London, E.C.\n",
      "\n",
      "\n",
      "\\*****\n",
      "https://www.britishnewspaperarchive.co.uk/viewer/bl/0002569/18771215/147/0004\n",
      "Isle of Wight Journal\n",
      "Saturday 15 December 1877\n",
      "p4\n",
      "\n",
      "BRANKSEA ISLAND POTTERY COMPANY (LIMITED), POOLE, DORSET.\n",
      "\n",
      "OWING to the increasing demand for DRAINING PIPES. and other Goods of our Manufacture in the Isle of Wight, we have determined to open out a BRANCH DEPOT, and for this purpose have appointed MR. FREDERICK SEYMOUR, Contractor for the Brading Harbour and Railway Company, our SOLE AGENT.\n",
      "\n",
      "A Depot has therefore been opened at Bembridge, where Pipes, Chimney Pots, &c., of every dimension will be kept in stock, so that Builders and Contractors may be enabled to purchase without delay.\n",
      "\n",
      "We beg to thank our customers for past orders, and trust the great facilities we now have for doing business in the Island will secure a continuance of their patronage and further commands, which shall at all times have our prompt attention.\n",
      "\n",
      "R. H. FRY, Manager.\n",
      "\n",
      "\n",
      "\\*****\n",
      "https://www.britishnewspaperarchive.co.uk/viewer/bl/0002569/18771229/053/0005\n",
      "\n",
      "Isle of Wight Journal\n",
      "Saturday 29 December 1877\n",
      "\n",
      "p5\n",
      "\n",
      "BEMBRIDGE. BRADING HARBOUR WORKS.\n",
      "\n",
      "On Saturday last the men engaged on these works were entertained at dinner by employer, Mr. F. Seymour, as a token of his good feeling towards them for the assistance they have given him in carrying out his contract. A large iron house was erected for the occasion on Bembridge point, and most tastefully decorated. Flags of all aatioas were gracefully draped around the walls, running from end to end of the building, while handsome mottoes, expressing welcome and good will to the men, were plentiful. At intervals, showing out between the flags, were stars formed of new shovels and pick-axes, and from the ceiliug hung a battered old navvy's barrow, a true emblem of hard work.\n",
      "\n",
      "The chair was occupied by Mr. Frederick Seymour, with the Rev. Le Mesurier on the right, and the vice-chair by Mr. Pinchbeck. Three hundred of the *employes* and men sat down to an excellent dinner, beautifully served up, and entirely cooked by the men. The scene was most imposing, the tables admirably laid, and everything of the best provided, while choice flowers ornamented the dessert. More surprising was the manner in which the several dishes were served up and cooked owing to the difficulty of finding cooking accommodation. — Grace having been said by the Rev. J. Le Mesurier, Mr. Seymour proposed the health of the Queen, the Royal Family, and the Army and Navy, which toast he felt sure would be heartily responded to, especially as owing to the unsettled state of affairs in the East nobody could tell when the service ot the latter might be required, and he felt sure that with men of the physique those present, her Majesty's &dominions were in safe keeping.—The toast was received with hearty cheers, showing that everyone present believed in maintaining the prestige of the mother country.—In the absence of any military or naval guest, Mr. Le Mesurier kindly returned thanks, and then addressed the men, complimenting them on their excellent conduct hitherto, and saying he should always he happy to assist any individual of their number with his advice. Order re-established, and the men's glasses having been filled with wine, Mr. Seymour mild: Brother working men, I wish to propose a toast which I feel sure you will receive with hearty good-will, and that is the health of the Bradiiig Harbour Company, and their Chairman, Mr. Spencer Balfour, for you must not forget it is owing to them that we are met today in this friendly way ; you must also recollect that although every week you look to me for your wages, I have to look to them for the necessary funds to carry out this great undertaking, which have always been forthomniug. In all our undertakings through life we dependent on each other, and it is union which gives strength. In your case you depend on the contractor, the contractor on his company, who find the money, and when that fails we are the same as a without its main spring. I also take this opportunity of thanking you sincerely for the assistence you have given, and to one and all I am greatly obliged. I compliment you on your good behaviour during the time you have been is my employ; you have had to work under the most trying circumstances. and have had great difficulties to contend against, as must naturally be expected when dealing with the elements, but I must say you have done your duty like men, and if, by God's will, I am enabled to bring this undertaking to a satiafacitory result, I hope you will do me the honour of dining with me again ; and I must also thank my worthy friend at the emd of the table, Mr. Pinchbeck, for the able assistance he has given me, and rest assured, men, he is your best friend. I must also thank the members of the committee for the great trouble they have taken in choosing these pretty decorations, and for the great skill they have shown in providing the good dinner they have enabled me to put before you; and now, my men, I know you want to get to Portsmouth, so I will not detain you, I wish you all a very merry Christmas, and many happy new years. and I trust that many of them will be spent in my employ.\n",
      "\n",
      "Mr. Pinchbeck then proposed \"The health of Mr. Seymour,\" in appropriate terms, which was received with tremendous cheering, a salute of guns outside, and the chorus, joined in by all with great gusto, of \"He's a jolly good fellow.\"\n",
      "\n",
      "An excellent song having been given by one of the men, the pleasant meeting broke up. A steam launch was in readiness to convey the men to Portsmouth, where the majority go every Saturday.\n",
      "\n",
      "[See also following article on Brading.]\n",
      "\n",
      "\n",
      "\\*****\n",
      "https://www.britishnewspaperarchive.co.uk/viewer/bl/0002569/18771229/053/0005\n",
      "\n",
      "Isle of Wight Journal\n",
      "Saturday 29 December 1877\n",
      "\n",
      "p5\n",
      "\n",
      "BRADING. BRADING HARBOUR\n",
      "\n",
      "Captain J. W. D. McDonald, retired captain, R.N., has addressed the following letter to the Shipping and Mercantila Gazette :—\" I forward herewith copies of letters, &., referring to works now being carried out in Brading Harbour, and feel assured that, after a careful study of the metier, you will agree with me that it is quite time there should be some understanding as to what department has the power of controlling or preventing injury to the public rights, as involved in the conservancy of harbours, as well as the preservation of foreshores, &c. At present the result of my experience in the matter leads me to believe that the authorities do not quite understaud what power they have, or where it begins and ends. I may possibly be wrong in the conclusion arrived at, but, to my judgment of the case, it seems a matter of surprise that, although I have been (as you will see by the correspondence) in constant communication with the Lords Commissioners of the Admiralty, as well as the Board of Trade, yet the fact remains, that the Brading Harbour Company may do what they like, without any step being taken by the authorities to put a stop to their encroachments. Surely there should be some sort of supervision over works of this nature. There should be a public functionary to visit and report from time to time as to how the works are progressing, and that they do not exceed the powers granted by the original Act. It most at ought not to be left to a private individual to have to keep up a constant attack on the parties who are paid for and invested with the duties of this particular department. If a coastguardsman sees a fisherman or other person take up a piece of plank or spar washed up on the beach, and carry it away, the individual is informed that he has no right to it, but that it must be deposited in the keeping of the coastguard, and he will be eutitled to a certain amount for the salvage. If he objects to leave his piece of plank or spar, and takes it off, he is liable to a fine or term of imprisonment. If the Coastguiud are invested with this power as regard wreckage or drift wood, what is to prevent their having the power to stop any parties removing shingle or sand from the sea-shore? In one case a person can be stopped for taking away a piece of timber, perhaps worth only 5s., and the other may take away thousands of tons of shingle and sand, and there is no authority to stop him from doing so. It is surely time the public should know who are the real guardians of the public rights in navigable waters, as well as those of foreshores, &c. With respect to the granting of powers to a company, as in the case of the Brading Harbour Act, I venture to submit that, in future, notice of any attempt to interfere with tidal waters and navigable channels should be posted up at the Custom-houses and Coastguard Stations within a radius of 30 or 40 miles of the proposed alterations, so that the coasting and seafaring population may know what is proposed; also that the Coastguard officers be instructed to make inquiries as to the feeling of the inhabitants of the district, as well as to receive any remonstrance from pilots or fishermen resident in the district, such reports to be forwarded to the authorities. It is also essential that an inquiry should be instituted by qualified officers into the bearing or effect the alterations would have on Government works and national requirements. These observatious are made with the view of obtaining some certain, sure, and definite means of redress, as well as the prevention of injustice in trampling under foot the public right as involved in the question of conservancy of harbours, free navigation, and foreshores. At present, any inquisitive traveller will find our Coastguard Stations decorated with public notices about the numbering of fishing boats, concealment of wreckage, inducements to enter the Royal Navy, a long list of penalties for the infringment of Board of Trade Regulations, protection of seagulls (with penalties), treatment of the apparently drowned, and others *ad infinitum*. I should much like to see notices in some protecting the rights of the coasting and seafaring as well as the fishing communities.\" Our contemporary, in a leading article, says :\"The 'Piers and Harbours Act' does not, it is generally admitted, confer sufficient power on the Board of Trade, in the public interest, for the prevention of local abuses. Rivers and harbours should be under the control of a Government Department responsible to Parliament. To a certain extent the Board of Trade stands in an intermediary position, but its officers are not armed with the requisite authority for the defence of national rights; for we take it that navigable channels should not be arbitrarily and independently assuaged by any self-imposed body of Commissioners, however honourable they may be.\"\n",
      "\n",
      "[See also previous article on Bembridge.]\n",
      "\n",
      "\n",
      "\\*****\n",
      "https://www.britishnewspaperarchive.co.uk/viewer/bl/0002569/18770317/045/0005\n",
      "Isle of Wight Journal\n",
      "Saturday 17 March 1877\n",
      "p5\n",
      "\n",
      "BRADING OYSTER FISHERY.\n",
      "\n",
      "As a proof of the value of an oyster fishery when properly managed the award which has just been made in this case will, we imagine, interest not only proprietors, but the oyster-loving public. It appears that the Brading Harbour Improvement Commissioners wished to take an oyster fishery in this harbour which Major Boyle had purchased and worked since 1871. To this, of course, the Major, who has devoted nearly the whole of his time to the cultivation of the oyster at these ponds since he purchased them, objected, unless he received what he considered a fair compensation. This was a matter on which there was a very great difference of opinion, and to decide the point it was agreed to refer it to arbitration. Mr. J. H. Chatton was agreed on as the umpire, with Mr. Gann as his asseoser, the arbitrators being Mr. H. D. Martin Ind Mr. R. C. Driver. Major Boyle had obtained the assistance of Mr. J. Binfield Bird. surveyor, of Cowes, who has for many years practically studied the question of oyster culture, and on whose valuation the case was opened. He had also the valuation of Capt. Johnson, the manager of the Medina and Newtown River Oyster Fishery Company.—The case was opened by Mr. J. W. Fardell, solicitor, of Ryde, who gave an account of the fishery from its commencement, after which Major Boyle was examined. He said that seven years ago he became interested in the Company, and eventually he bought them out, as they had paid no dividend. He then investigated the afiairs, and found that the labourers had never been paid, and that no stock of oysters had been kept on the ground. Eventually they sold the lease to him for £300, and he took it on and began to breed oysters. He bred them every year but one till the last. In 1872 they took out 450,000 oysters, and the average of deaths was about five per cent, during five years. The Major then handed in a statement of what he had purchased in each year. Last year they had had a most wonderful spat ; the wire netting, the cultch, and the bottom of the pond were covered with it. Some of it, casually picked from the pond, was here produced, and it was covered with young oysters about the size of a sixpence. If no notice bad been given him he should have kept on selling and also purchasing brood. —Edward Mursell was then examined by Mr. Fardell. He stated that he had lived on the place all his life and had to do with oysters ever since be was twelve years old. He was now 38; he dredged oysters for his father: he was in the employ of the first manager, Captain Calbach, and then Major Boyle engaged him as foreman. The old system under which he had worked did not do; but he was sure the one Major Boyle had carried out would be a success. He should think there was now about fifteen millions of young oysters in the pond, out of which they could save quite fourteen millions. In the channel all the large oysters were placed, and he should think there were quite 450,000 at the present time. It was an out-and-out growing ground. His wagns was £6O per year. Captain E. Johnson, manager of the Medina River and Newtown River Oyster Fishery, said he had been extensively engaged in the breeding of oysters. He had inspected this Oyster Fishery, and he believed there were over fifteen millions or about 280 to a square foot. He obtained from Major Boyle the number purchased and those sold, and the number stated left 485,000 in all. He believed there were quite 450,000 in the river.—Mr. Wright, on the part of the defendants, opened his case by stating that the Company were not compelled to take the oysters and they declined to do so, they not being marketable. The lease was worth nothing, the clauses being bad, and the spat was worth nothing, and the stock was overdone. He could not admit the amount for goodwill, and for a forced sale too much money was asked.—Mr. Brazier, oyster merchant from Southwick and Brightlingsea, was then called. He said he surveyed the harbour and breeding ponds. There was a large quantity of spat. He selected those he could fish up by the rake: there were only ten on a shell, on an average 250,000 might be put on the hurdles. The total amount of spat he put at 1,850,000, which at 5s. per 1,000 would be £412 10s. No. 2 pond was unfinished. He also examined the ground in the Harbour, which was 200 yards long by 120 wide. The oysters were very thin on the bottom. He took up 100 oysters and he estimated that there could not be more than 200,000, which at 50s. per 1,000 gave £500. He thought there was nothing in the business and no chance of success. Had never heard of a claim for the profit rental; 40 spat could grow on a shell. He valued the spat at £912 10s. The Fishery would never be a profitable one. His value for making ponds and all would be £1,564 5s. He counted a dozen or fourteen on an oyster shell. He was paying 7s. for channel oysters, and he had purchased 11,000 tubs at 2s. per 100. He got for them 9s., and for small channel 6s. 7d. and 8s. per 100; the spat was a splendid one.— Mr. Collard, of the Herne Bay Company, of which he is a director, said he went over the Fishery and he came to the conclusion that the value of the spat channel oysters laid down, construction of ponds, at a compulsory sale was £2,976. He had failed in artificial breeding himself. He had a sea fishery at Southdeep, and the fresh water had come down with snow water, which had killed them. It really was a very heavy spat. The laying ground was clean, and the very best he had ever seen, and he would not part with it on any account. —Cross-examined : He made out the profit, and then the goodwill. There was a market for the spat. He never saw so many oysters and so few clocks[?] on any ground. The valuations were :—For Major Boyle—Captain Johanson, £9,761 10s. ; Mr. J. Binfield Bird, £9,525. For the Company—Mr. Collard, £2,976; Mr. Brazier, £1,564. The umpires' award is £8,000 showing that Mr. J. Bird's valuation is taken as not far off the mark, Mr. Bird, in his report, stating that on or about the 17th of June and the 2nd of July a wonderful fall of spat had appeared, prior to which the pond had been most carefully prepared, and 12,000 parent oysters placed in it: 800 yards of wire netting was arranged, and 800,000 oyster shells placed on the top. Fascines, hurdles, tiles, slates, and clean shingle were also provided, and the result is thet the whole is literally covered with spat, many single oyster-shells having 50 on each, and although from the immense number it is impossible to form a correct idea of the quantity, yet he considedered 15 millions would be a low estimate. Major Boyle may congratulate himself on the success in breeding the oyster, and Mr. Bird on his so successfully and admirably valuing an exceedingly difficult property.\n",
      "\n",
      "\n",
      "\\*****\n",
      "https://www.britishnewspaperarchive.co.uk/viewer/bl/0000069/18770321/012/0003\n",
      "\n",
      "Hampshire Telegraph\n",
      "Wednesday 21 March 1877\n",
      "p3\n",
      "\n",
      "BRADING.\n",
      "\n",
      "OYSTER FISHERY.—The Brading Harbour Improvement Commisasioners desiring to take an oyster fishery in this harbour which Major Boyle had purchased and worked since 1871, that gentlemen, who has devoted nearly the whole of his time to the cultivation of the oyster at these ponds since he purchased them, objected unless he received a fair compensation — a matter on which there was such a great difference of opinion that to decide the point it was agreed to refer it to arbitration— Mr. J. H. Clutton was agreed on as the umpire, with Mr. Gann as his assessor, the arbitrators being Mr. H. D. Martin and Mr. R. C. Driver. Major Boyle obtained the assistance of Mr. J. Binfield Bird, surveyor of Cowes, who has for many years practically studied the question of oyster culture, and on whose valuation the case was opened. He had also the valuation of Capt. Johnson, the manager of the Medina and Newtown River Oyster Fishery Company.— The case was opened by Mr. Fardell, solicitor, of Ryde. Major Boyle was then examined, and Edward Mursell, who had lived on the place all his life, was also called.—Mr Wright, on the part of the defendants, stated that the Company were not compelled to take the oysters, and they declined to do so, they not being marketable. The lease was worth nothing, the clauses being bad, and the spat was worth nothing, and the stock was overdone. He could not admit the amount for goodwill, and for a forced sale too much money was asked.—Mr. Brazier, an oyster merchant, and Mr. Collard, of the Herne Bay Company, of which he is a director, were called for the defendants.— The umpire eventually awarded 8000l.\n",
      "\n",
      "\n",
      "\\*****\n",
      "https://www.britishnewspaperarchive.co.uk/viewer/bl/0000495/18770808/025/0004\n",
      "Hampshire Advertiser\n",
      "Wednesday 08 August 1877\n",
      "p4\n",
      "\n",
      "BRADING August 8\n",
      "\n",
      "English Oyster Breeding.— Mr. Howard Martin, Surveyor to the Brading Harbour Improvement and Railway Company, writes as follows from 145, High-street, Croydon ; — \" In the present condition of the oyster trade and the breeding of oysters in Great Britain it may interest your readers to hear that for the second year in succession a ' fall of spat ' of a very remarkable character has taken place in the oyster-breeding ponds in Brading Harbour, Isle of Wisrht. In one of the ponds, about 3 1/4 acres in extent, the collectors placed to receive the spat throughout the pond are covered with the minute oysters, and an adjoining pond, about 2 acres in area, contains nearly as many in proportion. It is impossible to estimate the number with any accuracy, but there must be many millions in the two ponds. The fall of last year in a third pond (when the fishery was in the hands of Major Boyle, the then lessee) was nearly as large in proportion, as this greater success following it gives ground for the hope that, in places as favourably situated as the Brading Harbour fisheries, the breeding of oysters in enclosed ponds on the English coast will become, in the hands of those who follow right methods, a business with at least no more than that ordinary business risk of failure which every breeder of any kind of live stock must incur. The importance to the food supply of the nation of a solution of the problems involved in breeding oysters in England in enclosed ponds is sufficient, I think, to be my apology for this communication. I shall be pleased to allow any of your readers who take an interest in the matter to see the spat.\"\n",
      "\n",
      "\n",
      "\\*****\n",
      "https://www.britishnewspaperarchive.co.uk/viewer/bl/0002569/18770811/034/0005\n",
      "Isle of Wight Journal\n",
      "Saturday 11 August 1877\n",
      "p5\n",
      "\n",
      "BRADING.\n",
      "\n",
      "At the oyster ponds at Brading Harbour, there has been a very remarkable fall of \"spat\" for the second year in succession. In one of the ponds, about 3 1/4 acres in extent, the collectors are covered with minute oysters, and an adjoining pond of some two acres contain an almost proportionate quantity.\n",
      "\n",
      "\n",
      "\\*****\n",
      "https://www.britishnewspaperarchive.co.uk/viewer/bl/0000495/18770905/028/0004\n",
      "Hampshire Advertiser\n",
      "Wednesday 05 September 1877\n",
      "\n",
      "p4\n",
      "\n",
      "BRADING, Sept 5. OYSTERS. — The Times says that for the second year in succession a remarkable fall of spat has occurred in the oyster breeding ponds in Brading: Harbour, Isle of Wight. The collectors placed to receive the spat throughout the pond are covered with the minute oyster.\n",
      "\n",
      "\n",
      "\\*****\n",
      "https://www.britishnewspaperarchive.co.uk/viewer/bl/0001003/18770915/039/0004\n",
      "Croydon Guardian and Surrey County Gazette\n",
      "Saturday 15 September 1877\n",
      "\n",
      "ISLE OF WIGHT.—\n",
      "\n",
      "Sale of valuable Oyster Fisheries, with many millions of Spat and other Stock all ages.\n",
      "\n",
      "Messrs. Podmore & Martin aw instructed by the Directors of the Brading Harbour Improvement Railway and Works Company, to Sell by Auction, at the Auction Mart, Tokenhouse Yard, E.C., on WEDNESDAY, 3rd October, 1877, at Two o'clock precisely, in One Lot, unless previously disposed of by private contract, BRADING OYSTER FISHERIES, consisting of three large and thoroughly-stocked breeding ponds in which extraordinary falls of spat have been obtained during the present and last year, and laying grounds in Brading Harbour, with the necessary market ponds, &c., together with about 60 millions of spat this and of last year's falls, and the stock on the laying grounds of all ages. The Fisheries are admirably adapted for profitable breeding, and for a depôt for the laying and sale of French Oysters, which improve with extraordinary rapidity on the grounds, and, owing to their situation, are workable at a very small annual expense.\n",
      "\n",
      "The fisheries may be viewed with the Auctioneers’ orders, and particulars and conditions of sale with plan may be eb, tained of Messrs. Wright, Bonner, and Wright, Solicitors, 48, King William-street, E.C. ; at the place of sale; and of the Auctioneers, 145, High-street, Croydon, and Horsham.\n"
     ]
    },
    {
     "ename": "KeyError",
     "evalue": "'pages'",
     "output_type": "error",
     "traceback": [
      "\u001b[0;31m---------------------------------------------------------------------------\u001b[0m",
      "\u001b[0;31mKeyError\u001b[0m                                  Traceback (most recent call last)",
      "Input \u001b[0;32mIn [43]\u001b[0m, in \u001b[0;36m<cell line: 1>\u001b[0;34m()\u001b[0m\n\u001b[0;32m----> 1\u001b[0m parsed \u001b[38;5;241m=\u001b[39m \u001b[43mcreate_admontions\u001b[49m\u001b[43m(\u001b[49m\u001b[43mtyp_s\u001b[49m\u001b[43m)\u001b[49m\n\u001b[1;32m      2\u001b[0m parsed \u001b[38;5;241m=\u001b[39m generate_figure(parsed)\n\u001b[1;32m      3\u001b[0m parsed\n",
      "Input \u001b[0;32mIn [42]\u001b[0m, in \u001b[0;36mcreate_admontions\u001b[0;34m(typ_s)\u001b[0m\n\u001b[1;32m      9\u001b[0m \u001b[38;5;28;01melif\u001b[39;00m s[\u001b[38;5;241m0\u001b[39m] \u001b[38;5;241m==\u001b[39m \u001b[38;5;124m\"\u001b[39m\u001b[38;5;124mRESOURCE\u001b[39m\u001b[38;5;124m\"\u001b[39m:\n\u001b[1;32m     10\u001b[0m     \u001b[38;5;66;03m# parse resource\u001b[39;00m\n\u001b[1;32m     11\u001b[0m     \u001b[38;5;66;03m# Put things into an admonition block\u001b[39;00m\n\u001b[1;32m     12\u001b[0m     \u001b[38;5;28mprint\u001b[39m(\u001b[38;5;124m\"\u001b[39m\u001b[38;5;130;01m\\n\u001b[39;00m\u001b[38;5;130;01m\\n\u001b[39;00m\u001b[38;5;124m\\\u001b[39m\u001b[38;5;124m*****\u001b[39m\u001b[38;5;130;01m\\n\u001b[39;00m\u001b[38;5;124m\"\u001b[39m\u001b[38;5;241m+\u001b[39ms[\u001b[38;5;241m1\u001b[39m])\n\u001b[0;32m---> 13\u001b[0m     _parsed \u001b[38;5;241m=\u001b[39m admonition_generator(\u001b[43mparse_sections\u001b[49m\u001b[43m(\u001b[49m\u001b[43m[\u001b[49m\u001b[43ms\u001b[49m\u001b[43m[\u001b[49m\u001b[38;5;241;43m1\u001b[39;49m\u001b[43m]\u001b[49m\u001b[43m]\u001b[49m\u001b[43m)\u001b[49m[\u001b[38;5;241m0\u001b[39m])\n\u001b[1;32m     15\u001b[0m     parsed\u001b[38;5;241m.\u001b[39mappend( (s[\u001b[38;5;241m0\u001b[39m], _parsed) )\n\u001b[1;32m     16\u001b[0m \u001b[38;5;28;01melse\u001b[39;00m:\n\u001b[1;32m     17\u001b[0m     \u001b[38;5;66;03m# This should be null\u001b[39;00m\n",
      "Input \u001b[0;32mIn [9]\u001b[0m, in \u001b[0;36mparse_sections\u001b[0;34m(txt_sections, fn)\u001b[0m\n\u001b[1;32m     33\u001b[0m     \u001b[38;5;28;01mif\u001b[39;00m try_pages:\n\u001b[1;32m     34\u001b[0m         \u001b[38;5;28;01mbreak\u001b[39;00m\n\u001b[0;32m---> 36\u001b[0m txt \u001b[38;5;241m=\u001b[39m \u001b[38;5;124mf\u001b[39m\u001b[38;5;124m'\u001b[39m\u001b[38;5;132;01m{\u001b[39;00mrecord[\u001b[38;5;124m\"\u001b[39m\u001b[38;5;124mpages\u001b[39m\u001b[38;5;124m\"\u001b[39m]\u001b[38;5;132;01m}\u001b[39;00m\u001b[38;5;124m'\u001b[39m\u001b[38;5;241m.\u001b[39mjoin(section\u001b[38;5;241m.\u001b[39msplit(try_pages\u001b[38;5;241m.\u001b[39mgroup(\u001b[38;5;241m0\u001b[39m))[\u001b[38;5;241m1\u001b[39m:])\u001b[38;5;241m.\u001b[39mstrip()\n\u001b[1;32m     37\u001b[0m \u001b[38;5;28;01mif\u001b[39;00m \u001b[38;5;28mlen\u001b[39m(txt\u001b[38;5;241m.\u001b[39msplit(\u001b[38;5;124m\"\u001b[39m\u001b[38;5;130;01m\\n\u001b[39;00m\u001b[38;5;124m\"\u001b[39m)[\u001b[38;5;241m0\u001b[39m]) \u001b[38;5;241m>\u001b[39m \u001b[38;5;241m200\u001b[39m:\n\u001b[1;32m     38\u001b[0m     record[\u001b[38;5;124m\"\u001b[39m\u001b[38;5;124mtitle\u001b[39m\u001b[38;5;124m\"\u001b[39m] \u001b[38;5;241m=\u001b[39m txt[:\u001b[38;5;241m100\u001b[39m]\n",
      "\u001b[0;31mKeyError\u001b[0m: 'pages'"
     ]
    }
   ],
   "source": [
    "parsed = create_admontions(typ_s)\n",
    "parsed = generate_figure(parsed)\n",
    "parsed"
   ]
  },
  {
   "cell_type": "code",
   "execution_count": 18,
   "id": "37f4b6af",
   "metadata": {},
   "outputs": [],
   "source": [
    "myst_txt = \"\\n\\n\".join([t[1] for t in parsed ])\n",
    "\n",
    "with open(\"test.md\", \"w\") as f:\n",
    "    f.write(myst_txt)"
   ]
  },
  {
   "cell_type": "code",
   "execution_count": 47,
   "id": "46235e65",
   "metadata": {},
   "outputs": [],
   "source": [
    "for f in raw_files:\n",
    "    txt = get_file_contents(f\"{f}.md\")\n",
    "    txt_sections = get_sections(txt)\n",
    "    typ_s = structure_record(txt_sections)\n",
    "    parsed = create_admontions(typ_s)\n",
    "    with open(f\"__{f}.md\", \"w\") as f:\n",
    "        myst_txt = \"\\n\\n\".join([t[1] for t in parsed ])\n",
    "        myst_txt = generate_figure(myst_txt)\n",
    "        f.write(myst_txt)"
   ]
  },
  {
   "cell_type": "code",
   "execution_count": 39,
   "id": "2fbae82b",
   "metadata": {},
   "outputs": [
    {
     "data": {
      "text/plain": [
       "'life_aside_2'"
      ]
     },
     "execution_count": 39,
     "metadata": {},
     "output_type": "execute_result"
    }
   ],
   "source": [
    "f"
   ]
  },
  {
   "cell_type": "code",
   "execution_count": null,
   "id": "035d5733",
   "metadata": {},
   "outputs": [],
   "source": []
  },
  {
   "cell_type": "code",
   "execution_count": null,
   "id": "9cbbb82d",
   "metadata": {},
   "outputs": [],
   "source": []
  },
  {
   "cell_type": "code",
   "execution_count": null,
   "id": "00ad821d",
   "metadata": {},
   "outputs": [],
   "source": []
  }
 ],
 "metadata": {
  "kernelspec": {
   "display_name": "Python 3 (ipykernel)",
   "language": "python",
   "name": "python3"
  },
  "language_info": {
   "codemirror_mode": {
    "name": "ipython",
    "version": 3
   },
   "file_extension": ".py",
   "mimetype": "text/x-python",
   "name": "python",
   "nbconvert_exporter": "python",
   "pygments_lexer": "ipython3",
   "version": "3.9.12"
  }
 },
 "nbformat": 4,
 "nbformat_minor": 5
}
