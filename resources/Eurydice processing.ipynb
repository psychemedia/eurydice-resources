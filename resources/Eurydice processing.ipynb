{
 "cells": [
  {
   "cell_type": "markdown",
   "id": "51d12e4f",
   "metadata": {},
   "source": [
    "# Eurydice processing\n",
    "\n",
    "Process hack `.md` files:\n",
    "    \n",
    "- split on `--`; first item is aways assumed to be `TEXT`;\n",
    "- check for `TEXT`\n",
    "- add article entries to db;\n",
    "- add images to db;\n",
    "- rewrite articles to useful MyST format;\n",
    "- rewrite images to useful MyST format."
   ]
  },
  {
   "cell_type": "code",
   "execution_count": 248,
   "id": "442c131f",
   "metadata": {},
   "outputs": [
    {
     "data": {
      "text/plain": [
       "['launch_of_eurydice',\n",
       " 'sea_trial_shenanigans',\n",
       " 'training_ship',\n",
       " 'last_four_days_eurydice_verney',\n",
       " 'foundering_of_the_eurydice',\n",
       " 'immediate_plans',\n",
       " 'struggle_to_raise_continues',\n",
       " 'life_aside',\n",
       " 'raising_the_eurydice',\n",
       " 'life_aside_2',\n",
       " 'eurydice_in_port',\n",
       " 'fundraising_relief',\n",
       " 'eurydice_bodies_funerals_and_memorials',\n",
       " 'eurydice_poems',\n",
       " 'eurydice_reminiscences',\n",
       " 'inquest',\n",
       " 'eurydice_court_martial',\n",
       " 'eurydice_tracked_in_parliament']"
      ]
     },
     "execution_count": 248,
     "metadata": {},
     "output_type": "execute_result"
    }
   ],
   "source": [
    "import yaml\n",
    "\n",
    "with open(\"_toc.yml\", \"r\") as f:\n",
    "    toc = yaml.safe_load(f)\n",
    "    \n",
    "raw_files = [f[\"file\"].strip('_') for p in toc[\"parts\"] for f in p[\"chapters\"] if f[\"file\"].startswith(\"__\")]\n",
    "raw_files"
   ]
  },
  {
   "cell_type": "code",
   "execution_count": 6,
   "id": "f0b8a5fc",
   "metadata": {},
   "outputs": [],
   "source": [
    "from sqlite_utils import Database\n",
    "\n",
    "db_name = \"eurydice-demo.db\"\n",
    "\n",
    "# Uncomment the following lines to connect to a pre-existing database\n",
    "db = Database(db_name)"
   ]
  },
  {
   "cell_type": "code",
   "execution_count": 7,
   "id": "f689573b",
   "metadata": {},
   "outputs": [],
   "source": [
    "# Do not run this cell if your database already exists!\n",
    "\n",
    "# While developing the script, recreate database each time...\n",
    "db = Database(db_name, recreate=True)"
   ]
  },
  {
   "cell_type": "code",
   "execution_count": 8,
   "id": "ca87adcf",
   "metadata": {},
   "outputs": [
    {
     "data": {
      "text/plain": [
       "<Table sources (url, fn, publication, published_date, title, date, author, pages, text)>"
      ]
     },
     "execution_count": 8,
     "metadata": {},
     "output_type": "execute_result"
    }
   ],
   "source": [
    "# This schema has been evolved iteratively as I have identified structure\n",
    "# that can be usefully mined...\n",
    "\n",
    "db[\"sources\"].create({\n",
    "    \"url\": str,\n",
    "    \"fn\": str,\n",
    "    \"publication\": str,\n",
    "    \"published_date\": str, # this may range from year to actual date\n",
    "    \"title\": int, # Title of section\n",
    "    \"date\": str, # optional; the second date field; may be eg correspondence date\n",
    "    \"author\": str, # attempt at provenance\n",
    "    \"pages\": str, # or pages like\n",
    "    \"text\": str,\n",
    "},# pk=(\"url\", \"title\") # Need an autoincrement; no natural key?\n",
    ")\n",
    "\n",
    "# Enable full text search\n",
    "# This creates an extra virtual table (books_fts) to support the full text search\n",
    "db[\"sources\"].enable_fts([\"publication\",\"title\", \"text\", \"published_date\"], create_triggers=True)"
   ]
  },
  {
   "cell_type": "code",
   "execution_count": 9,
   "id": "37851c1c",
   "metadata": {},
   "outputs": [
    {
     "data": {
      "text/plain": [
       "'# H.M.S. Eurydice, Training Ship\\n\\nIn 1877, H.M.S. Eurydice was refitted as a training ship. For many'"
      ]
     },
     "execution_count": 9,
     "metadata": {},
     "output_type": "execute_result"
    }
   ],
   "source": [
    "fn = \"training_ship.md\"\n",
    "\n",
    "def get_file_contents(fn):\n",
    "    \"\"\"Open file from filename and get file contents.\"\"\"\n",
    "    with open(fn) as f:\n",
    "        txt = f.read().strip()\n",
    "    return txt\n",
    "\n",
    "txt = get_file_contents(fn)\n",
    "txt[:100]"
   ]
  },
  {
   "cell_type": "code",
   "execution_count": 11,
   "id": "43cefa38",
   "metadata": {},
   "outputs": [
    {
     "data": {
      "text/plain": [
       "['# H.M.S. Eurydice, Training Ship\\n\\nIn 1877, H.M.S. Eurydice was refitted as a training ship. For many years, the fleet had been miving over to aromoured steamships and rigged sailing ships were no longer appropriate for modern naval warfare. However, it was still felt that sailors should still be able to handle traditionally rigged vessels and that training ratings on them would be to their benefit as seamen.\\n\\nThe Eurydice was thus converted over to a training ship in the Spring of 1877, before embarking on a voyage to the West Indies in Autumn 1877. Rumour had it that a calamity had befallen the ship, but a telegram reported in the *Naval & Military Gazette and Weekly Chronicle of the United Service* of Wednesday 21 November 1877, received 17th of November and dated November 16th, 1877, revealed that all was well.\\n\\nIn passing, we might note that this news articles reveals how tegraphic cable communication was available between the West Indies and Britain by this time. A little bit of digging turns up the following history of the cable that presumably carried the telegram signal.\\n\\nTelegraph Cables (1899)\\nby C. J. Cooke\\nTransactions and Proceedings of the Royal Society of New Zealand\\nVolume 32, 1899, pp 324-329. Art. XXXVIII.\\nhttps://archive.org/details/transactionsofro99roya/page/n349/mode/2up?q=Telegraph\\nTranscript: https://atlantic-cable.com/Article/1899Cooke/index.htm\\n\"Great Western Telegraph Company was formed to connect the United States with Europe by way of the West Indies,\" then  \\'changed their title to the \"Western and Brazilian Telegraph Company\".\\'?\\n\\nhttps://www.gracesguide.co.uk/Great_Western_Telegraph_Co\\nGreat Western Telegraph Co\\n1872 Company incorporated to connect by telegraph cable New York with England, and the West Indies with New York and England, with prospect of further connection to Brazil. Sir William Thomson and Fleeming Jenkin were the engineers. Hooper\\'s Telegraph Works were contracted to provide the cable; arrangements with the Great Northern Telegraph Co to make use of its cables\\n1873 The company was in liquidation but the cables were being laid by Hoopers and would be operated by other companies\\n\\n\\nGrace\\'s Guide To British Industrial History;  source of historical information on industry and manufacturing in the UK. Additions are being made daily by a team of volunteers who give freely of their time and expertise.\\nGrace’s Guide is a Registered Charity and it relies upon donations and sponsors. Grace\\'s Guide Ltd is a charity (No.1154342) for the advancement of education of the history of Industry and Engineering in the UK.\\n\\nhttps://www.gracesguide.co.uk/Western_and_Brazilian_Telegraph_Co\\nWestern and Brazilian Telegraph Co\\n1873 Sir William Thomson and Professor Fleeming Jenkin were connected with the manufacture and laying of cables off the coast of Brazil for the Western and Brazilian Telegraph Company.\\n\\nhttps://www.gracesguide.co.uk/Hoopers_Telegraph_and_India-Rubber_Works\\nHoopers Telegraph and India-Rubber Works\\nJump to:navigation, search\\nof 31 Lombard Street, London, EC\\n1845 William Hooper, a chemist, set up a factory around 1845 in Mitcham, Surrey, to produce rubber goods mostly for the medical profession. He experimented with rubber insulation for electric cables and eventually found a way of insulating cables in a continuous process.\\nc.1857 or later: The Indian Government placed Hooper\\'s first order, followed by another order for cable to link India and Ceylon. W. T. Henley carried out the armouring of the cable.\\n1860 Company established by William Hooper trading under his own name.\\n1870 Hooper formed Hooper\\'s Telegraph Works Ltd. to undertake both manufacture and laying of submarine cables. The first order for the new company was from the Great Northern Telegraph Co for a cable connecting Vladivostock to Hong Kong; Siemens Brothers and Co carried out the armouring of this cable.\\n1873 Hooper\\'s laid the cable (which had been made for an Atlantic crossing) off the east coast of South America, having been offered this concession by the Telegraph Construction and Maintenance Co on the condition that Hooper\\'s dropped their plans for a transatlantic cable.',\n",
       " \"https://www.britishnewspaperarchive.co.uk/viewer/bl/0000919/18770206/042/0005\\n\\nSouth Wales Daily News\\nTuesday 06 February 1877\\np5\\n\\nSEAMANSHIP OF YOUNG SAILORS.\\n\\nThe Admiralty are about to take practical measures for improving the seamanship of our young sailors. At present a boy having served a certain time on board a training-ship is transferred to a flagship, where he becomes an ordinary seaman. He is then draughted to a sea-going ship, and may, under favourable conditions, become an expert and efficient seaman, knowing the name and use of every rope on board, and capable of turning his hands to anything that may be required in the severest weather. It may happen, however, that he is sent to a ram of Rupert type, or a mastless ship like the Devastation where he can learn little or nothing of his profession; and as vessels of these classes are increasing, and likely to increase, it is necessary that special measures should be taken to bestow a thorough sea training upon young seamen, so that they may find themselves at home, no matter what the character of the ship may be to which they are despatched. A step in the right direction has been taken by the fitting out of the Eurydice, a sixth-rate wooden fripate of the old class as a sea-going training-ship for ordinary seamen. The Eurydice is 140ft. in length between perpendiculars. 78ft. in extreme breadth, and 921 tons burthen, old measurement. When ready for commission she will furnish accommodation for 280 young seamen, in addition to her commander and staff of officers. She will carry six 64-pounder 71cwt. guns, mounted on rear truck carriages, three on each side of the main deck. She will be ship rigged, and will probably have an independent commander's commission. Before being draughted for service in sea-going ships young ordinary seamen will undergo a six months' practical training at sea on board the Eurydice, which is totally guiltless of machinery of any kind and it cannot be doubted that the professional schooling which they will thereby receive will go far to improve the efficiency of our seamen as sailors.\\n\\n\\n[This article seems to have been syndicated widely.]\",\n",
       " 'https://www.britishnewspaperarchive.co.uk/viewer/bl/0000495/18770210/054/0008\\n\\nHampshire Advertiser\\nSaturday 10 February 1877\\np7\\n\\nThe Eurydice, training brig, received her masts at Portsmouth on Monday, and will be taken in hand and rigged by her own crew. \\n\\nAPPOINTMNTS.\\n\\nCaptain M. A. S, Hare to the Eurydice.\\n\\nLieutenants ... Francis H. Tabor Stanley, A. B. Burney, and William E. Black to the Eurydice; ...',\n",
       " \"https://www.britishnewspaperarchive.co.uk/viewer/bl/0001681/18770214/029/0006\\nNaval & Military Gazette and Weekly Chronicle of the United Service\\nWednesday 14 February 1877\\n\\np124\\n\\nMovements of Her Majesty's Ships\\n\\nEurydice, 26, sailing-ship, Captain M. A. S. Hare, is being rapidly prepared a training-ship for ordinary seamen. Her lower masts and bowsprit were placed in her on the 5th inst. She will be fully rigged by her crew on being commissioned.\",\n",
       " 'https://www.britishnewspaperarchive.co.uk/viewer/bl/0000183/18770223/025/0005\\nLondon Evening Standard\\nFriday 23 February 1877\\n\\np5\\n\\nNaval and Military Intelligence\\n\\n...\\n\\nIt has long been felt that an evil has arisen from a large number of ordinary seamen after being released from the restraint of the training ships being kept for a time in the depot ships at the home ports, previous to being drafted for foreign stations. To remedy this evil the Lords of the Admiralty have commissioned the Eurydice as a training ship at Portsmouth for ordinary seamen in the Channel. Thus while the men will be at home and available for foreign service they will be kept under proper training in a position where discipline can be properly maintained, and be saved from the temptations inseparable from nightly leave.',\n",
       " \"https://www.britishnewspaperarchive.co.uk/viewer/bl/0001681/18771003/009/0005\\nNaval & Military Gazette and Weekly Chronicle of the United Service\\nWednesday 03 October 1877\\np5\\n\\nMovements of Her Majesty's Ships.\\n\\nEurydice. 6, training ship, Captain Marcus A. S. Hare, came into Portsmouth Harbour on Wednesday last, and was taken into the ship basin on Thursday to make good defects.\",\n",
       " 'https://www.britishnewspaperarchive.co.uk/viewer/bl/0000183/18771017/006/0002\\nLondon Evening Standard\\nWednesday 17 October 1877\\np2\\n\\nNaval and Military Intelligence\\n\\nEurydice, Captain Hare, is having defects made good at Portsmouth before starting on a winter training cruise. A fresh draft of young seamen will be sent to her so soon as she is ready for sea.',\n",
       " 'https://www.britishnewspaperarchive.co.uk/viewer/bl/0000495/18771027/017/0004\\nHampshire Advertiser\\nSaturday 27 October 1877\\n\\np4\\n\\nThe Eurydice, training ship, Captain M. A. S. Hare, was to go out of the ship basin at Portsmouth on Wednesday.',\n",
       " 'TEXT\\n\\n![](../images/ILN_1878_loss_of_euridyce_apr_06_011.jpg)\\nIllustrated London News — H.M.S. Eurydice as she lay in Portsmouth harbour before her last voyage - from a photograph, April 6, 1878',\n",
       " 'https://www.britishnewspaperarchive.co.uk/viewer/bl/0001702/18771031/063/0006\\n\\nShipping and Mercantile Gazette\\nWednesday 31 October 1877\\np6\\n\\nNAVAL AND MILITARY - THE ROYAL NAVY\\n\\nPortsmouth, Oct. 30.—The Eurydice, training ship for seamen, sailed to-day for the West Indies, but in consequence of the weather she has put into St. Helen’s Roads.',\n",
       " 'https://www.britishnewspaperarchive.co.uk/viewer/bl/0000495/18771110/066/0008\\nHampshire Advertiser\\n\\nSaturday 10 November 1877\\np8\\n\\nDevonport, Thursday, Nov. 8\\n\\nThe Eurydice, 6, sailing corvette, and training ship for ordinary seamen, sailed on Saturday for Lisbon, Madeira, and the West Indies.\\n\\n...\\n\\nThe Liberty, training brig, sailed on Saturday, in company with the Eurydice, for the West Indies.',\n",
       " 'TEXT\\n\\n![](../images/623829-1470753518.jpg)\\nHMS Eurydice at St Lucia before her last voyage home, 1878 1878\\nAlbumen print | 14.5 x 21.5 cm (image) | RCIN 2580515\\nPhotograph of sailing ship surrounded by small boats, off St Lucia; tree covered cliffs\\nProvenance\\nAlbum compiled by the Reverend J N Dalton (1839-1931) and presented to King George V\\nhttps://www.rct.uk/collection/2580515/hms-eurydice-at-st-lucia-before-her-last-voyage-home-1878',\n",
       " 'https://www.britishnewspaperarchive.co.uk/viewer/bl/0001681/18771121/038/0004\\nNaval & Military Gazette and Weekly Chronicle of the United Service\\n\\nWednesday 21 November 1877\\np4\\n\\nMovements of Her Majesty\\'s Ships\\n\\n...\\n\\nEurydice, 4 training-ship for ordinary seamean, Captain Marcus A S. Hare\\n\\nMuch excitement prevailed Portsmouth during last week, consequent on a rumour that during the recent heavy gale this vessel lost her topmasts and topsail yard, and that several men were carried overboard with them and drowned. On inquiry we learn that nothing official is yet to hand. On the 17th of November all apprehensions were removed by the receipt of the following telegram:— \"Eurydice, Lisbon, Friday, November 16th. 8 55 p.m.—Arrived all well; will leave on the 24th. Send letters and papers to Barbadoes.\"\\n\\n...']"
      ]
     },
     "execution_count": 11,
     "metadata": {},
     "output_type": "execute_result"
    }
   ],
   "source": [
    "def get_sections(txt):\n",
    "    \"\"\"Get sections from file.\"\"\"\n",
    "    txt_sections = [s.strip('-').strip() for s in txt.split(\"--\") if s.strip('-').strip()]\n",
    "    return txt_sections\n",
    "\n",
    "txt_sections = get_sections(txt)\n",
    "txt_sections"
   ]
  },
  {
   "cell_type": "code",
   "execution_count": 81,
   "id": "bb9ed368",
   "metadata": {},
   "outputs": [
    {
     "data": {
      "text/plain": [
       "[('TEXT',\n",
       "  '# H.M.S. Eurydice, Training Ship\\n\\nIn 1877, H.M.S. Eurydice was refitted as a training ship. For many years, the fleet had been miving over to aromoured steamships and rigged sailing ships were no longer appropriate for modern naval warfare. However, it was still felt that sailors should still be able to handle traditionally rigged vessels and that training ratings on them would be to their benefit as seamen.\\n\\nThe Eurydice was thus converted over to a training ship in the Spring of 1877, before embarking on a voyage to the West Indies in Autumn 1877. Rumour had it that a calamity had befallen the ship, but a telegram reported in the *Naval & Military Gazette and Weekly Chronicle of the United Service* of Wednesday 21 November 1877, received 17th of November and dated November 16th, 1877, revealed that all was well.\\n\\nIn passing, we might note that this news articles reveals how tegraphic cable communication was available between the West Indies and Britain by this time. A little bit of digging turns up the following history of the cable that presumably carried the telegram signal.\\n\\nTelegraph Cables (1899)\\nby C. J. Cooke\\nTransactions and Proceedings of the Royal Society of New Zealand\\nVolume 32, 1899, pp 324-329. Art. XXXVIII.\\nhttps://archive.org/details/transactionsofro99roya/page/n349/mode/2up?q=Telegraph\\nTranscript: https://atlantic-cable.com/Article/1899Cooke/index.htm\\n\"Great Western Telegraph Company was formed to connect the United States with Europe by way of the West Indies,\" then  \\'changed their title to the \"Western and Brazilian Telegraph Company\".\\'?\\n\\nhttps://www.gracesguide.co.uk/Great_Western_Telegraph_Co\\nGreat Western Telegraph Co\\n1872 Company incorporated to connect by telegraph cable New York with England, and the West Indies with New York and England, with prospect of further connection to Brazil. Sir William Thomson and Fleeming Jenkin were the engineers. Hooper\\'s Telegraph Works were contracted to provide the cable; arrangements with the Great Northern Telegraph Co to make use of its cables\\n1873 The company was in liquidation but the cables were being laid by Hoopers and would be operated by other companies\\n\\n\\nGrace\\'s Guide To British Industrial History;  source of historical information on industry and manufacturing in the UK. Additions are being made daily by a team of volunteers who give freely of their time and expertise.\\nGrace’s Guide is a Registered Charity and it relies upon donations and sponsors. Grace\\'s Guide Ltd is a charity (No.1154342) for the advancement of education of the history of Industry and Engineering in the UK.\\n\\nhttps://www.gracesguide.co.uk/Western_and_Brazilian_Telegraph_Co\\nWestern and Brazilian Telegraph Co\\n1873 Sir William Thomson and Professor Fleeming Jenkin were connected with the manufacture and laying of cables off the coast of Brazil for the Western and Brazilian Telegraph Company.\\n\\nhttps://www.gracesguide.co.uk/Hoopers_Telegraph_and_India-Rubber_Works\\nHoopers Telegraph and India-Rubber Works\\nJump to:navigation, search\\nof 31 Lombard Street, London, EC\\n1845 William Hooper, a chemist, set up a factory around 1845 in Mitcham, Surrey, to produce rubber goods mostly for the medical profession. He experimented with rubber insulation for electric cables and eventually found a way of insulating cables in a continuous process.\\nc.1857 or later: The Indian Government placed Hooper\\'s first order, followed by another order for cable to link India and Ceylon. W. T. Henley carried out the armouring of the cable.\\n1860 Company established by William Hooper trading under his own name.\\n1870 Hooper formed Hooper\\'s Telegraph Works Ltd. to undertake both manufacture and laying of submarine cables. The first order for the new company was from the Great Northern Telegraph Co for a cable connecting Vladivostock to Hong Kong; Siemens Brothers and Co carried out the armouring of this cable.\\n1873 Hooper\\'s laid the cable (which had been made for an Atlantic crossing) off the east coast of South America, having been offered this concession by the Telegraph Construction and Maintenance Co on the condition that Hooper\\'s dropped their plans for a transatlantic cable.'),\n",
       " ('RESOURCE',\n",
       "  \"https://www.britishnewspaperarchive.co.uk/viewer/bl/0000919/18770206/042/0005\\n\\nSouth Wales Daily News\\nTuesday 06 February 1877\\np5\\n\\nSEAMANSHIP OF YOUNG SAILORS.\\n\\nThe Admiralty are about to take practical measures for improving the seamanship of our young sailors. At present a boy having served a certain time on board a training-ship is transferred to a flagship, where he becomes an ordinary seaman. He is then draughted to a sea-going ship, and may, under favourable conditions, become an expert and efficient seaman, knowing the name and use of every rope on board, and capable of turning his hands to anything that may be required in the severest weather. It may happen, however, that he is sent to a ram of Rupert type, or a mastless ship like the Devastation where he can learn little or nothing of his profession; and as vessels of these classes are increasing, and likely to increase, it is necessary that special measures should be taken to bestow a thorough sea training upon young seamen, so that they may find themselves at home, no matter what the character of the ship may be to which they are despatched. A step in the right direction has been taken by the fitting out of the Eurydice, a sixth-rate wooden fripate of the old class as a sea-going training-ship for ordinary seamen. The Eurydice is 140ft. in length between perpendiculars. 78ft. in extreme breadth, and 921 tons burthen, old measurement. When ready for commission she will furnish accommodation for 280 young seamen, in addition to her commander and staff of officers. She will carry six 64-pounder 71cwt. guns, mounted on rear truck carriages, three on each side of the main deck. She will be ship rigged, and will probably have an independent commander's commission. Before being draughted for service in sea-going ships young ordinary seamen will undergo a six months' practical training at sea on board the Eurydice, which is totally guiltless of machinery of any kind and it cannot be doubted that the professional schooling which they will thereby receive will go far to improve the efficiency of our seamen as sailors.\\n\\n\\n[This article seems to have been syndicated widely.]\"),\n",
       " ('RESOURCE',\n",
       "  'https://www.britishnewspaperarchive.co.uk/viewer/bl/0000495/18770210/054/0008\\n\\nHampshire Advertiser\\nSaturday 10 February 1877\\np7\\n\\nThe Eurydice, training brig, received her masts at Portsmouth on Monday, and will be taken in hand and rigged by her own crew. \\n\\nAPPOINTMNTS.\\n\\nCaptain M. A. S, Hare to the Eurydice.\\n\\nLieutenants ... Francis H. Tabor Stanley, A. B. Burney, and William E. Black to the Eurydice; ...'),\n",
       " ('RESOURCE',\n",
       "  \"https://www.britishnewspaperarchive.co.uk/viewer/bl/0001681/18770214/029/0006\\nNaval & Military Gazette and Weekly Chronicle of the United Service\\nWednesday 14 February 1877\\n\\np124\\n\\nMovements of Her Majesty's Ships\\n\\nEurydice, 26, sailing-ship, Captain M. A. S. Hare, is being rapidly prepared a training-ship for ordinary seamen. Her lower masts and bowsprit were placed in her on the 5th inst. She will be fully rigged by her crew on being commissioned.\"),\n",
       " ('RESOURCE',\n",
       "  'https://www.britishnewspaperarchive.co.uk/viewer/bl/0000183/18770223/025/0005\\nLondon Evening Standard\\nFriday 23 February 1877\\n\\np5\\n\\nNaval and Military Intelligence\\n\\n...\\n\\nIt has long been felt that an evil has arisen from a large number of ordinary seamen after being released from the restraint of the training ships being kept for a time in the depot ships at the home ports, previous to being drafted for foreign stations. To remedy this evil the Lords of the Admiralty have commissioned the Eurydice as a training ship at Portsmouth for ordinary seamen in the Channel. Thus while the men will be at home and available for foreign service they will be kept under proper training in a position where discipline can be properly maintained, and be saved from the temptations inseparable from nightly leave.'),\n",
       " ('RESOURCE',\n",
       "  \"https://www.britishnewspaperarchive.co.uk/viewer/bl/0001681/18771003/009/0005\\nNaval & Military Gazette and Weekly Chronicle of the United Service\\nWednesday 03 October 1877\\np5\\n\\nMovements of Her Majesty's Ships.\\n\\nEurydice. 6, training ship, Captain Marcus A. S. Hare, came into Portsmouth Harbour on Wednesday last, and was taken into the ship basin on Thursday to make good defects.\"),\n",
       " ('RESOURCE',\n",
       "  'https://www.britishnewspaperarchive.co.uk/viewer/bl/0000183/18771017/006/0002\\nLondon Evening Standard\\nWednesday 17 October 1877\\np2\\n\\nNaval and Military Intelligence\\n\\nEurydice, Captain Hare, is having defects made good at Portsmouth before starting on a winter training cruise. A fresh draft of young seamen will be sent to her so soon as she is ready for sea.'),\n",
       " ('RESOURCE',\n",
       "  'https://www.britishnewspaperarchive.co.uk/viewer/bl/0000495/18771027/017/0004\\nHampshire Advertiser\\nSaturday 27 October 1877\\n\\np4\\n\\nThe Eurydice, training ship, Captain M. A. S. Hare, was to go out of the ship basin at Portsmouth on Wednesday.'),\n",
       " ('TEXT',\n",
       "  '![](../images/ILN_1878_loss_of_euridyce_apr_06_011.jpg)\\nIllustrated London News — H.M.S. Eurydice as she lay in Portsmouth harbour before her last voyage - from a photograph, April 6, 1878'),\n",
       " ('RESOURCE',\n",
       "  'https://www.britishnewspaperarchive.co.uk/viewer/bl/0001702/18771031/063/0006\\n\\nShipping and Mercantile Gazette\\nWednesday 31 October 1877\\np6\\n\\nNAVAL AND MILITARY - THE ROYAL NAVY\\n\\nPortsmouth, Oct. 30.—The Eurydice, training ship for seamen, sailed to-day for the West Indies, but in consequence of the weather she has put into St. Helen’s Roads.'),\n",
       " ('RESOURCE',\n",
       "  'https://www.britishnewspaperarchive.co.uk/viewer/bl/0000495/18771110/066/0008\\nHampshire Advertiser\\n\\nSaturday 10 November 1877\\np8\\n\\nDevonport, Thursday, Nov. 8\\n\\nThe Eurydice, 6, sailing corvette, and training ship for ordinary seamen, sailed on Saturday for Lisbon, Madeira, and the West Indies.\\n\\n...\\n\\nThe Liberty, training brig, sailed on Saturday, in company with the Eurydice, for the West Indies.'),\n",
       " ('TEXT',\n",
       "  '![](../images/623829-1470753518.jpg)\\nHMS Eurydice at St Lucia before her last voyage home, 1878 1878\\nAlbumen print | 14.5 x 21.5 cm (image) | RCIN 2580515\\nPhotograph of sailing ship surrounded by small boats, off St Lucia; tree covered cliffs\\nProvenance\\nAlbum compiled by the Reverend J N Dalton (1839-1931) and presented to King George V\\nhttps://www.rct.uk/collection/2580515/hms-eurydice-at-st-lucia-before-her-last-voyage-home-1878'),\n",
       " ('RESOURCE',\n",
       "  'https://www.britishnewspaperarchive.co.uk/viewer/bl/0001681/18771121/038/0004\\nNaval & Military Gazette and Weekly Chronicle of the United Service\\n\\nWednesday 21 November 1877\\np4\\n\\nMovements of Her Majesty\\'s Ships\\n\\n...\\n\\nEurydice, 4 training-ship for ordinary seamean, Captain Marcus A S. Hare\\n\\nMuch excitement prevailed Portsmouth during last week, consequent on a rumour that during the recent heavy gale this vessel lost her topmasts and topsail yard, and that several men were carried overboard with them and drowned. On inquiry we learn that nothing official is yet to hand. On the 17th of November all apprehensions were removed by the receipt of the following telegram:— \"Eurydice, Lisbon, Friday, November 16th. 8 55 p.m.—Arrived all well; will leave on the 24th. Send letters and papers to Barbadoes.\"\\n\\n...')]"
      ]
     },
     "execution_count": 81,
     "metadata": {},
     "output_type": "execute_result"
    }
   ],
   "source": [
    "# First section is text, but then we need to parse type\n",
    "\n",
    "def structure_record(txt_sections):\n",
    "    typ_s = [(\"TEXT\", txt_sections[0])]\n",
    "\n",
    "    for s in txt_sections[1:]:\n",
    "        s = s.strip()\n",
    "        if s.startswith(\"TEXT\"):\n",
    "            typ_s.append((\"TEXT\", s.replace(\"TEXT\",\"\").strip()))\n",
    "        elif s.startswith(\"![\"):\n",
    "            typ_s.append((\"IMAGE\", s))\n",
    "        else:\n",
    "            # Should we assume text unless we get eg an http at the start of a record?\n",
    "            typ_s.append((\"RESOURCE\", s))\n",
    "\n",
    "    return typ_s\n",
    "\n",
    "typ_s = structure_record(txt_sections)\n",
    "typ_s"
   ]
  },
  {
   "cell_type": "code",
   "execution_count": 13,
   "id": "a7498036",
   "metadata": {},
   "outputs": [],
   "source": [
    "#%pip install dateparser\n",
    "# https://dateparser.readthedocs.io/en/latest/usage.html\n",
    "from dateparser.date import DateDataParser\n",
    "\n",
    "ddp = DateDataParser(languages=['en'])"
   ]
  },
  {
   "cell_type": "code",
   "execution_count": 220,
   "id": "13e43255",
   "metadata": {},
   "outputs": [],
   "source": [
    "import re\n",
    "\n",
    "dt = \"%Y-%m-%d\"\n",
    "\n",
    "def parse_sections(txt_sections, fn=None):\n",
    "    \"\"\"Parse file section.\"\"\"\n",
    "    records = []\n",
    "    for section in txt_sections:\n",
    "        txt_lines = [l.strip() for l in section.split('\\n') if l.strip()]\n",
    "        #print(txt_lines)\n",
    "        record = {\"fn\":fn}\n",
    "        for i, line in enumerate(txt_lines):\n",
    "            line = line.strip()\n",
    "            # This is inefficient...\n",
    "            # We should test as fallback...\n",
    "            try_url = line.startswith(\"http\")\n",
    "            try_date = ddp.get_date_data(line.replace('Publication date', '').strip())\n",
    "            try_pages = re.search(r\"^pp?\\.?\\s?([0-9ivxlc\\?].*)\", line)\n",
    "\n",
    "            if try_url:\n",
    "                record[\"url\"] = line\n",
    "            elif try_date[\"date_obj\"]:\n",
    "                if \"published_date\" in record:\n",
    "                    record[\"date\"] = try_date.date_obj.strftime(dt)\n",
    "                else:\n",
    "                    record[\"published_date\"] = try_date.date_obj.strftime(dt)\n",
    "            elif try_pages:\n",
    "                record[\"pages\"] = try_pages.group(1)\n",
    "            elif not \"publication\" in record:\n",
    "                record[\"publication\"] = line\n",
    "\n",
    "            # We take pages as the last item of metadata...\n",
    "            if try_pages:\n",
    "                break\n",
    "        \n",
    "        txt = f'{record[\"pages\"]}'.join(section.split(try_pages.group(0))[1:]).strip()\n",
    "        if len(txt.split(\"\\n\")[0]) > 200:\n",
    "            record[\"title\"] = txt[:100]\n",
    "            record[\"text\"] = txt[100:]\n",
    "        else:\n",
    "            record[\"title\"] = txt.split(\"\\n\")[0]\n",
    "            record[\"text\"] = txt.replace(record[\"title\"], \"\").strip()\n",
    "        #if len(txt_lines[i+1])>200:\n",
    "        #    record[\"title\"] = txt_lines[i+1][:100]\n",
    "        #    record[\"text\"] = \"\\n\\n\".join(txt_lines[i+1:])[100:]\n",
    "        #else:\n",
    "        #    record[\"title\"] = txt_lines[i+1]\n",
    "        #    record[\"text\"] = \"\\n\\n\".join(txt_lines[i+2:])\n",
    "        records.append(record)\n",
    "\n",
    "    return records"
   ]
  },
  {
   "cell_type": "code",
   "execution_count": 221,
   "id": "accda0e2",
   "metadata": {},
   "outputs": [
    {
     "data": {
      "text/plain": [
       "[{'fn': None,\n",
       "  'url': 'https://www.britishnewspaperarchive.co.uk/viewer/bl/0000069/18780403/007/0002',\n",
       "  'publication': 'Hampshire Telegraph',\n",
       "  'published_date': '1878-04-03',\n",
       "  'pages': '2',\n",
       "  'title': 'STATEMENT IN PARLIAMENT',\n",
       "  'text': \"In the Houseof Commons, on Monday, Captain Price asked the First Lord of the Admiralty what was the amount of ballast in Her Majesty's ship Eurydice when she left England, and was there any reason to suppose any was removed abroad; what were her angles of maximum and vanishing stability, ascertained from the experiments said to have been made on her, and were these angles communicated to Captain Hare; were the Eurydice's hammocks made buoyant by any method recommended to the the Admiralty, or were there life-belts sufficient for the officers and men; and what is the objection to the hammocks being made buoyant either by means of cork mattresses or waterproof sheets, seeing that they are so stowed as to be immediately accessible in cases of sudden emergency ? \\n\\nMr. W. H. SMITH said: The amount of ballast in the Eurydice when she left England was thirty tons. There was no reason to suppose any wa8 removed abroad. The angles of maximum and vanishing stability were not ascertained. The hammocks were not made buoyant. There is reason to believe the usual establishment of life-belts three was on board, viz., ten per cent. of the complement, or about thirty life-belts. Cork mattresses and waterproof sheets have been tried, and have proved unsatisfactory on various points. The men do not like them, moreover. I may add that it would have been impossible to get them out of the hammock nettings in time in the sudden disaster which befel the Eurydice. It is the intention of the Admiralty to direct a complete and searching inquiry into the loss of the ship in the form of a court-martial upon the survivors. (Hear, hear.)\\n\\n[EXCERPTED]\"}]"
      ]
     },
     "execution_count": 221,
     "metadata": {},
     "output_type": "execute_result"
    }
   ],
   "source": [
    "parse_sections([typ_s[1][1]])"
   ]
  },
  {
   "cell_type": "code",
   "execution_count": 337,
   "id": "410f307f",
   "metadata": {},
   "outputs": [],
   "source": [
    "from datetime import datetime\n",
    "import humanize\n",
    "\n",
    "def admonition_generator(record):\n",
    "    \"\"\"Generate MyST admonition markdown for the record.\"\"\"\n",
    "    dt_ = datetime.fromisoformat(record[\"published_date\"])\n",
    "    # The humanize package gives us things like 3rd, 27th, etc.\n",
    "    daynum = humanize.ordinal(dt_.day)\n",
    "    # Format the date to something like: Wednesday, April 3rd, 1878\n",
    "    # %A is the day of the week (Monday, Tuesday, etc.)\n",
    "    # %B is the month (March, April, etc.)\n",
    "    # %Y is the 4-digit year (eg 1878)\n",
    "    dt = dt_.strftime(f'%A, %B {daynum}, %Y')\n",
    "    admonition = f\"\"\"\n",
    "```{{admonition}} {record[\"title\"]} - {dt}\n",
    ":class: note dropdown\n",
    "\n",
    "[{record[\"publication\"]}]({record[\"url\"]}), {record[\"published_date\"]}, p. {record[\"pages\"]}\n",
    "\n",
    "{record[\"text\"]}\n",
    "\n",
    "```\n",
    "\"\"\"\n",
    "    return admonition"
   ]
  },
  {
   "cell_type": "code",
   "execution_count": 335,
   "id": "37950872",
   "metadata": {},
   "outputs": [
    {
     "name": "stdout",
     "output_type": "stream",
     "text": [
      "\n",
      "```{admonition} Wednesday, April 3rd, 1878 - STATEMENT IN PARLIAMENT \n",
      ":class: note dropdown\n",
      "\n",
      "[Hampshire Telegraph](https://www.britishnewspaperarchive.co.uk/viewer/bl/0000069/18780403/007/0002), 1878-04-03, p. 2\n",
      "\n",
      "In the Houseof Commons, on Monday, Captain Price asked the First Lord of the Admiralty what was the amount of ballast in Her Majesty's ship Eurydice when she left England, and was there any reason to suppose any was removed abroad; what were her angles of maximum and vanishing stability, ascertained from the experiments said to have been made on her, and were these angles communicated to Captain Hare; were the Eurydice's hammocks made buoyant by any method recommended to the the Admiralty, or were there life-belts sufficient for the officers and men; and what is the objection to the hammocks being made buoyant either by means of cork mattresses or waterproof sheets, seeing that they are so stowed as to be immediately accessible in cases of sudden emergency ? \n",
      "\n",
      "Mr. W. H. SMITH said: The amount of ballast in the Eurydice when she left England was thirty tons. There was no reason to suppose any wa8 removed abroad. The angles of maximum and vanishing stability were not ascertained. The hammocks were not made buoyant. There is reason to believe the usual establishment of life-belts three was on board, viz., ten per cent. of the complement, or about thirty life-belts. Cork mattresses and waterproof sheets have been tried, and have proved unsatisfactory on various points. The men do not like them, moreover. I may add that it would have been impossible to get them out of the hammock nettings in time in the sudden disaster which befel the Eurydice. It is the intention of the Admiralty to direct a complete and searching inquiry into the loss of the ship in the form of a court-martial upon the survivors. (Hear, hear.)\n",
      "\n",
      "[EXCERPTED]\n",
      "\n",
      "```\n",
      "\n"
     ]
    }
   ],
   "source": [
    "print(admonition_generator(parse_sections([typ_s[1][1]])[0]))"
   ]
  },
  {
   "cell_type": "code",
   "execution_count": 276,
   "id": "5f0f0d15",
   "metadata": {},
   "outputs": [
    {
     "data": {
      "text/plain": [
       "['![](../images/ILN_1878_loss_of_euridyce_apr_06_03x.png)\\nIllustrated London News — H.M.S. Eurydice as she lay at eight a.m. on March 25 off Dunnose Point, Isle of Wight, April 6, 1878',\n",
       " '![](../images/ILN_1878_loss_of_euridyce_apr_06_03x.png)\\nIllustrated London News — H.M.S. Eurydice as she lay at eight a.m. on March 25 off Dunnose Point, Isle of Wight, April 6, 1878']"
      ]
     },
     "execution_count": 276,
     "metadata": {},
     "output_type": "execute_result"
    }
   ],
   "source": [
    "# Parse image\n",
    "# if we have an image, we need to pattern match until we get to a \\n\\n\n",
    "# then create a figure and replace the original image matched pattern\n",
    "xx=\"\"\"\n",
    "\n",
    "ssdsdd\n",
    "\n",
    "![](../images/ILN_1878_loss_of_euridyce_apr_06_03x.png)\n",
    "Illustrated London News — H.M.S. Eurydice as she lay at eight a.m. on March 25 off Dunnose Point, Isle of Wight, April 6, 1878\n",
    "\n",
    "asaa\n",
    "\n",
    "![](../images/ILN_1878_loss_of_euridyce_apr_06_03x.png)\n",
    "Illustrated London News — H.M.S. Eurydice as she lay at eight a.m. on March 25 off Dunnose Point, Isle of Wight, April 6, 1878\n",
    "\n",
    "asaa\n",
    "\"\"\"\n",
    "\n",
    "# The following says: .*? lazy search, (?=\\n\\n) lookahead to next \\n\\n\n",
    "# re.MULTILINE | re.DOTALL give us the search over multiple lines\n",
    "p = re.findall(r'!\\[.*?(?=\\n\\n)', xx, re.MULTILINE | re.DOTALL)\n",
    "p"
   ]
  },
  {
   "cell_type": "code",
   "execution_count": 286,
   "id": "80bfe9ba",
   "metadata": {},
   "outputs": [
    {
     "data": {
      "text/plain": [
       "'\\nIllustrated London News — H.M.S. Eurydice as she lay at eight a.m. on March 25 off Dunnose Point, Isle of Wight, April 6, 1878'"
      ]
     },
     "execution_count": 286,
     "metadata": {},
     "output_type": "execute_result"
    }
   ],
   "source": [
    " re.findall(\"!\\[[^\\]]*\\]\\(([^\\)]*)\\)(.*)$\", p[0], re.MULTILINE | re.DOTALL)[0][1]"
   ]
  },
  {
   "cell_type": "code",
   "execution_count": 302,
   "id": "cf2da222",
   "metadata": {},
   "outputs": [],
   "source": [
    "def generate_figure(doc):\n",
    "    \n",
    "    images = re.findall(r'!\\[.*?(?=\\n\\n)', doc, re.MULTILINE | re.DOTALL)\n",
    "    for image in images:\n",
    "        path =  re.findall(\"!\\[[^\\]]*\\]\\(([^\\)]*)\\)(.*)$\", image, re.MULTILINE | re.DOTALL)\n",
    "        if not path:\n",
    "            continue\n",
    "        txt = f\"\"\"\n",
    "```{{figure}} {path[0][0]}\n",
    "---\n",
    "---\n",
    "{path[0][1]}\n",
    "```\n",
    "\n",
    "\"\"\"\n",
    "        doc = doc.replace(image, txt)\n",
    "    return doc"
   ]
  },
  {
   "cell_type": "code",
   "execution_count": 303,
   "id": "8318721b",
   "metadata": {},
   "outputs": [
    {
     "data": {
      "text/plain": [
       "[('TEXT', '# Parliamentary Mentions'),\n",
       " ('RESOURCE',\n",
       "  \"\\n```{admonition} STATEMENT IN PARLIAMENT\\n:class: note dropdown\\n\\n[Hampshire Telegraph](https://www.britishnewspaperarchive.co.uk/viewer/bl/0000069/18780403/007/0002), 1878-04-03, p. 2\\n\\nIn the Houseof Commons, on Monday, Captain Price asked the First Lord of the Admiralty what was the amount of ballast in Her Majesty's ship Eurydice when she left England, and was there any reason to suppose any was removed abroad; what were her angles of maximum and vanishing stability, ascertained from the experiments said to have been made on her, and were these angles communicated to Captain Hare; were the Eurydice's hammocks made buoyant by any method recommended to the the Admiralty, or were there life-belts sufficient for the officers and men; and what is the objection to the hammocks being made buoyant either by means of cork mattresses or waterproof sheets, seeing that they are so stowed as to be immediately accessible in cases of sudden emergency ? \\n\\nMr. W. H. SMITH said: The amount of ballast in the Eurydice when she left England was thirty tons. There was no reason to suppose any wa8 removed abroad. The angles of maximum and vanishing stability were not ascertained. The hammocks were not made buoyant. There is reason to believe the usual establishment of life-belts three was on board, viz., ten per cent. of the complement, or about thirty life-belts. Cork mattresses and waterproof sheets have been tried, and have proved unsatisfactory on various points. The men do not like them, moreover. I may add that it would have been impossible to get them out of the hammock nettings in time in the sudden disaster which befel the Eurydice. It is the intention of the Admiralty to direct a complete and searching inquiry into the loss of the ship in the form of a court-martial upon the survivors. (Hear, hear.)\\n\\n[EXCERPTED]\\n\\n```\\n\"),\n",
       " ('RESOURCE',\n",
       "  '\\n```{admonition} THE EURYDICE.\\n:class: note dropdown\\n\\n[Isle of Wight Observer](https://www.britishnewspaperarchive.co.uk/viewer/bl/0000170/18780608/026/0006), 1878-06-08, p. 6\\n\\nIn the House of Lords on Monday,  \\nLord Dorchester asked Her Majesty\\'s Government whether any and, if so, what steps had been taken since a first attempt, that failed, to raise H.M. S. Eurydice, sunk off Dunnose on the 24th March last ; whether there had been any consultations relating thereto between the dockyard and other naval authorities, and whether any eminent engineers, civil or military, had been invited to give their opinions ; also whether any firms, such as \" The Steamship Salvage Company\" or other persons experienced in such matters, had been invited to afford assistance towards or to tender for raiding the vessel ; and whether there was any objection to produce any papers relating thereto. The noble lord said that there were three or four large firms in this country with special appliances for raising ships. One of them had entered into a contract to raise the Vanguard. Within four miles of where the Eurydice was lying a large ship had been raised by one of these firms. He believed that competent authorities denounced the means taken for raising the Eurydice, and it was scarcely creditable to the first maritime Power in the world that the ship should have been lying for ten weeks in ten fathoms of water.\\n\\nLord Elphinstone, before answering the question just put to him, wished, in reply to an enquiry made by a noble lord on Friday night, to say that there was to be no naval review off Portsmouth this week. As to the question of the noble lord (Lord Dorchester), he was not surprised at it. Many persons who were interested in the matter were imperfectly acquainted with what was doing and had been done. They were unaware of the difficulties to be overcome, and expressed surprise at the apparent slow progress made in raising the Eurydice. He was very glad the noble lord had given him an opportunity of explaining at somewhat greater length than on previous occasions the difficulties the naval authorities had had to contend against. The question embraced four distinct subjects. With regard to papers, there were really none, except a short daily journal kept by the officer in charge of working parties. This would show better than any words of his the difficulties which had to be encountered. It was made up to the 29th ult., and would show that out of the 67 days since the ship sank the working had only been able to work during portions of 27 days, sometimes for not more than one or two hours out of the 24. During 40 days they had been unable to work at all on account of the weather. The divers had only been able to work 80 hours in all. The lighters had to slip their moorings and run into harbour for shelter no fewer than 11 times, and had to slip again last Saturday. There was no objection to laying that journal on the table. He thought he mentioned on a former occasion that the Admiralty decided from the first that the business of raising the Eurydice should be entrusted to the dockyard authorities at Portsmouth, where there was a most efficient staff of officers, both scientific and practical, who meet in consultation almost daily. They were presided over by the Admiral Superintendent, Admiral FolEy, who was assisted by the Chief Constructor, Mr. Robinson ; Captain Polkinghorne, Master Attendant ; Captain Batt, Master Attendant of Chatham dockyard, who was employed for a considerable time in connection with the operations at the wreck of the Vanguard; Captain Dathan, Captain Moss, and Captain Palmer, Staff Commanders. It would be difficult to get together a stronger or a better Board. They were all agreed in thinking that under the circumstances of the case, and with the appliances at their disposal, no plan could be adopted more likely to ensure success than the one they were at present endeavouring to carry out. They were animated with but one desire, and that was to succeed, and no exertions were being spared in order to attain that result. The Admiralty had not invited the opinion of any civil engineer. The matter was one which the scientific and the pracical skill the Department had at its disposal at Portsmouth dockyard was quite able to deal, and he very much doubted whether there was any civil engineer who had had any experience whatever in raising weights such as that with which the authorities had to deal and under similar circumstances. He need scarcely add that it had not been felt necessary to invite the opinion of any military men. For the same reasons as those which he had already mentioned, they had not invited the assistance of the Steamship Salvage Company or any person experienced in raising vessels, and he was not aware that either the Steamship Salvage Company or, indeed, any other person had any experience in raising vessels under the circumstances of the present case. There were cases of ships having been saved, and, indeed, of having been raised in smooth water and out of a strong tideway, but there was no instance on record of a ship having been raised under circumstances similar to or in any approaching those in which the Eurydice was placed. The only case at all resembling the present was that of H.M.S. Pincher, a schooner of 180 tons, sunk in 14 fathoms of water off the Owers, in 1837, and it was four months before they succeeded in getting her into Portsmouth harbour. The Admiralty had been inundated with offers. Now, as to the steps which were being taken, he would remark that they had to deal with a deadweight of between 400 and 500 tons, lying 12 fathoms below water in a strong tideway, with a current running between four and six knots an hour, and with slack water varying from 30 to 90 minutes. Indeed, it would be difficult to find a spot on the whole coast of Great Britain where greater difficulties existed in regard to such an operation — difficulties not only below water on account of the tide, but also difficulties above water on account of the tide and the weather combined for a nasty sea got up at that spot very quickly with the slightest provocation. The Eurydice sank on the 24th March, and it was not until the 27th April that they were able to make an attempt to move che wreck. They did so by means of two corvettes — the Rinaldo and ihe Pearl — which had been temporarily converted into lighters. That attempt failed on account of the breaking of one of the hawsers, and then, after consultation on the part of the Board to which he had referred, it was determined by the authorities at Portsmouth to adopt what might be called tho over-lift principle, which simply meant that, instead of placing the lighters round the sunken ship as before, they would be placed immediately over her. They would be attached to the wreck by eight steel hawsers toggelled through her main-deck ports, and six jewel hawsers would also be passed round the ship. In addition to that, it was intended to make use of her two bower cables, and also of the Russian air bag, which had a lifting capacity of 40 tons. That would give some idea, of the difficulties which had to be overcome. No fewer than 16 different attachments had to be made, and an equal strain brought to bear upon them all. Should it come on to blow, or any sea get up, those attachments must all be slacked and probably let go, the lighters would have to seek shelter in port, as they had had to do no fewer than 11 times already, and the whole work would have to be begun ever again when the weather settled. But that was not all. It was supposed that the bottom where tho Eurydice sank was hard ground, and so it was. There was a crust of hard ground, but below that was soft, fine sand. It would appear that the ship struck the ground with great force, for her starboard cathead was knocked away and a portion of her keel was sticking out under her stern. The result was that the hard crust was broken, and the ship had been gradually settling in the soft sand. During the late gales she was settling bt the rate of 2in. a day Fortunately she was not settling any more at present. But she was now 11 1/2ft. in the sand, and out of that hole she had to be lifted and placed upon a new bed. That once done the main difficulties would be practically overcome ; and if the weather would only hold up he hoped the work might soon be successfully accomplished, although he was bound to add that he no longer looked upon it as in any way a matter of certainty. But this he would say, that not nil the \"eminent engineers,\" civil or even military, aided by the Steamship Salvage Company or any private firm, could have hastened the raising of the Eurydice by one hour. In conclusion, he had a plan of the manner in which it was sought to raise the ship that he would be happy to show the noble lord.\\n\\nLord Dorchester asked whether the attempt to raise her would be more to-morrow.\\n\\nLord Elphinstone said that would depend entirely on the weather.\\n\\n```\\n'),\n",
       " ('RESOURCE',\n",
       "  '\\n```{admonition} H.M.S. EURYDICE.\\n:class: note dropdown\\n\\n[Globe](https://www.britishnewspaperarchive.co.uk/viewer/bl/0001652/18780624/004/0001), 1878-06-24, p. 1\\n\\nNo fewer than three questions are to put to Ministers the House of Commons this evening with regard to the ill-fated Eurydice. Hitherto, owing to a variety of circumstances, it has not been found possible to raise the vessel. Eor many weeks after the disaster the weather was exceptionally rough and tempestuous, the tackle was not found sufficiently powerful to raise so enormous weight, and the prevalence of certain winds, combined with the action of the tide, have caused the hull the ship to become partly imbedded in the sand. The public residing in the Isle of Wight, in the neighbourhood of the scene of the disaster, and who appreciate the enormous difficulties in the way of recovering the ship, have given up the hope of ever seeing it afloat again. So thinks Mr. Baillie Cochrane, the member for the island, who proposes to ask the First Lord of the Admiralty whether, \"as appears tthat the ship cannot be raised,\" it would not better to fix a buoy over the place where she lies \"as a memorial of the gallant men who lost their lives while in the public service.\" Another honourable member, assuming also that the ship cannot be floated by the means at the disposal of the Admiralty, will ask whether \"my lords\" will not invite tenders from parties willing to contract with the Admiralty to raise and deliver the Eurydice afloat in Portsmouth harbour? The latter question assumes that there are responsible persons willing to undertake the raising of the ship at their own risk, circumstance which may doubted. If the Eurydice is destined ever again to \"walk the waters\" the probability is that the Admiralty will find the means of accomplishing the object. But as no public matter, large or small, can be adjusted without the junior member for Dundee, Mr. Edward Jenkins will ask yet another question on this now somewhat threadbare subject. The honourable member proposes to ask the First Lord a question to which answer has already been given in the affirmative, namely, whether is intended to hold on inquiry into the loss of the ship. Mr. Jenkins also proposes to ask how the court is constituted, and the Admiralty has considered whether it would advantageous to the public service that one or two experts, other than officers in her Majesty\\'s navy, should form part of the court and various other details.\\n\\n```\\n'),\n",
       " ('RESOURCE',\n",
       "  \"\\n```{admonition} THE EURYDICE.\\n:class: note dropdown\\n\\n[Isle of Wight Times](https://www.britishnewspaperarchive.co.uk/viewer/bl/0002100/18780627/088/0005), 1878-06-27, p. 5\\n\\nIn the House of Commons on Monday, Mr. David Jenkins said I wish to ask the First Lord of the Admiralty when it is intended to hold a naval inquiry into the loss of her Majesty's ship Eurydice; how it is proposed that the court should be constituted ; and whether he has considered if it would be advantageous to the public service that one or two experts, other than officers in her Majesty's navy, should form part of the oourt : and, whether he inform the House what weight of ballast was put on board when this ship was last commissioned, and of what it consisted; if the water in tanks or any portion of the other stores was relied upon to ensure her stability ; and, if so, what were the nature and weight of such stores.\\n\\nMr. W. H. Smith said the court-martial, in accordance with the Navy Discipline Act, has been delayed simply for the purpose of obtaining some valuable evidence as to the condition of the ship before she sank, which it was expected would be forthcoming when the ship was raised. The Board do not permit experts to be placed upon the court, but the court can call any one they choose in order to obtain evidence. The weight of iron ballast the Eurydice carried was 30 tons, the same as she carried previously. As to the last part of the second question, namely, that with reference to water ballast and stores, that will be the subject of inquiry before the court, and it is one to which I cannot give an answer.\\n\\nMr. D. Jenkins gave notice that on a future day he should call attention to the subject.\\n\\nMr. Baillie Cochrane. M.P. for the Isle of Wight, also asked the First Lord of the Admiralty whether, as it seemed impossible to raise the Eurydice, it would not be better to place a buoy over the place where she lies, with some memorial of the gallant men who perished there.\\n\\nMr. W. H. Smith : It is not considered to be impossible to raise the ship, and further attempts will he made to do so next spring tides, if the weather permits. To place a buoy over the wreck permanently would be a serious obstruction to navigation. (Hear, hear.)\\n\\n[EXCERPTED]\\n\\n```\\n\")]"
      ]
     },
     "execution_count": 303,
     "metadata": {},
     "output_type": "execute_result"
    }
   ],
   "source": [
    "# Parse types\n",
    "\n",
    "def create_admontions(typ_s):\n",
    "    parsed = []\n",
    "    for s in typ_s:\n",
    "        if s[0] ==\"TEXT\" or s[0]==\"IMAGE\" or s[0].startswith(\"![\"):\n",
    "            # parse image\n",
    "            parsed.append( s )\n",
    "        elif s[0] == \"RESOURCE\":\n",
    "            # parse resource\n",
    "            # Put things into an admonition block\n",
    "            #print(\"\\n\\n\\*****\\n\"+s[1])\n",
    "            _parsed = admonition_generator(parse_sections([s[1]])[0])\n",
    "\n",
    "            parsed.append( (s[0], _parsed) )\n",
    "        else:\n",
    "            # This should be null\n",
    "            pass\n",
    "\n",
    "    return parsed\n",
    "\n",
    "parsed = create_admontions(typ_s)\n",
    "parsed"
   ]
  },
  {
   "cell_type": "code",
   "execution_count": 304,
   "id": "9e98166d",
   "metadata": {},
   "outputs": [],
   "source": [
    "myst_txt = \"\\n\\n\".join([t[1] for t in parsed ])\n",
    "\n",
    "with open(\"test.md\", \"w\") as f:\n",
    "    f.write(myst_txt)"
   ]
  },
  {
   "cell_type": "code",
   "execution_count": 338,
   "id": "7cbdb293",
   "metadata": {},
   "outputs": [],
   "source": [
    "for f in raw_files:\n",
    "    txt = get_file_contents(f\"{f}.md\")\n",
    "    txt_sections = get_sections(txt)\n",
    "    typ_s = structure_record(txt_sections)\n",
    "    parsed = create_admontions(typ_s)\n",
    "    with open(f\"__{f}.md\", \"w\") as f:\n",
    "        myst_txt = \"\\n\\n\".join([t[1] for t in parsed ])\n",
    "        myst_txt = generate_figure(myst_txt)\n",
    "        f.write(myst_txt)"
   ]
  },
  {
   "cell_type": "code",
   "execution_count": 313,
   "id": "f060b001",
   "metadata": {},
   "outputs": [
    {
     "data": {
      "text/plain": [
       "'life_aside_2'"
      ]
     },
     "execution_count": 313,
     "metadata": {},
     "output_type": "execute_result"
    }
   ],
   "source": [
    "f"
   ]
  },
  {
   "cell_type": "code",
   "execution_count": null,
   "id": "8d42a1e3",
   "metadata": {},
   "outputs": [],
   "source": []
  }
 ],
 "metadata": {
  "kernelspec": {
   "display_name": "Python 3",
   "language": "python",
   "name": "python3"
  },
  "language_info": {
   "codemirror_mode": {
    "name": "ipython",
    "version": 3
   },
   "file_extension": ".py",
   "mimetype": "text/x-python",
   "name": "python",
   "nbconvert_exporter": "python",
   "pygments_lexer": "ipython3",
   "version": "3.9.8"
  }
 },
 "nbformat": 4,
 "nbformat_minor": 5
}
