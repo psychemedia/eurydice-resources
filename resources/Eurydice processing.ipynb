{
 "cells": [
  {
   "cell_type": "markdown",
   "id": "2c53f95e",
   "metadata": {},
   "source": [
    "# Eurydice processing\n",
    "\n",
    "Process hack `.md` files:\n",
    "    \n",
    "- split on `--`; first item is aways assumed to be `TEXT`;\n",
    "- check for `TEXT`\n",
    "- add article entries to db;\n",
    "- add images to db;\n",
    "- rewrite articles to useful MyST format;\n",
    "- rewrite images to useful MyST format."
   ]
  },
  {
   "cell_type": "code",
   "execution_count": 1,
   "id": "c241332e",
   "metadata": {},
   "outputs": [
    {
     "data": {
      "text/plain": [
       "['launch_of_eurydice',\n",
       " 'sea_trial_shenanigans',\n",
       " 'training_ship',\n",
       " 'last_four_days_eurydice_verney',\n",
       " 'foundering_of_the_eurydice',\n",
       " 'inquest',\n",
       " 'immediate_plans',\n",
       " 'struggle_to_raise_continues',\n",
       " 'life_aside',\n",
       " 'raising_the_eurydice',\n",
       " 'life_aside_2',\n",
       " 'eurydice_court_martial',\n",
       " 'eurydice_in_port',\n",
       " 'fundraising_relief',\n",
       " 'eurydice_bodies_funerals_and_memorials',\n",
       " 'eurydice_poems',\n",
       " 'eurydice_reminiscences',\n",
       " 'eurydice_tracked_in_parliament']"
      ]
     },
     "execution_count": 1,
     "metadata": {},
     "output_type": "execute_result"
    }
   ],
   "source": [
    "import yaml\n",
    "\n",
    "with open(\"_toc.yml\", \"r\") as f:\n",
    "    toc = yaml.safe_load(f)\n",
    "    \n",
    "raw_files = [f[\"file\"].strip('_') for p in toc[\"parts\"] for f in p[\"chapters\"] if f[\"file\"].startswith(\"__\")]\n",
    "raw_files"
   ]
  },
  {
   "cell_type": "code",
   "execution_count": 2,
   "id": "42569302",
   "metadata": {},
   "outputs": [],
   "source": [
    "from sqlite_utils import Database\n",
    "\n",
    "db_name = \"eurydice-demo.db\"\n",
    "\n",
    "# Uncomment the following lines to connect to a pre-existing database\n",
    "db = Database(db_name)"
   ]
  },
  {
   "cell_type": "code",
   "execution_count": 3,
   "id": "c5912b7b",
   "metadata": {},
   "outputs": [],
   "source": [
    "# Do not run this cell if your database already exists!\n",
    "\n",
    "# While developing the script, recreate database each time...\n",
    "db = Database(db_name, recreate=True)"
   ]
  },
  {
   "cell_type": "code",
   "execution_count": 4,
   "id": "e2e4752f",
   "metadata": {},
   "outputs": [
    {
     "data": {
      "text/plain": [
       "<Table sources (url, fn, publication, published_date, title, date, author, pages, text)>"
      ]
     },
     "execution_count": 4,
     "metadata": {},
     "output_type": "execute_result"
    }
   ],
   "source": [
    "# This schema has been evolved iteratively as I have identified structure\n",
    "# that can be usefully mined...\n",
    "\n",
    "db[\"sources\"].create({\n",
    "    \"url\": str,\n",
    "    \"fn\": str,\n",
    "    \"publication\": str,\n",
    "    \"published_date\": str, # this may range from year to actual date\n",
    "    \"title\": int, # Title of section\n",
    "    \"date\": str, # optional; the second date field; may be eg correspondence date\n",
    "    \"author\": str, # attempt at provenance\n",
    "    \"pages\": str, # or pages like\n",
    "    \"text\": str,\n",
    "},# pk=(\"url\", \"title\") # Need an autoincrement; no natural key?\n",
    ")\n",
    "\n",
    "# Enable full text search\n",
    "# This creates an extra virtual table (books_fts) to support the full text search\n",
    "db[\"sources\"].enable_fts([\"publication\",\"title\", \"text\", \"published_date\"], create_triggers=True)"
   ]
  },
  {
   "cell_type": "code",
   "execution_count": 5,
   "id": "e32a1f5a",
   "metadata": {},
   "outputs": [
    {
     "data": {
      "text/plain": [
       "'# H.M.S. Eurydice, Training Ship\\n\\nIn 1877, H.M.S. Eurydice was refitted as a training ship. For many'"
      ]
     },
     "execution_count": 5,
     "metadata": {},
     "output_type": "execute_result"
    }
   ],
   "source": [
    "fn = \"training_ship.md\"\n",
    "\n",
    "def get_file_contents(fn):\n",
    "    \"\"\"Open file from filename and get file contents.\"\"\"\n",
    "    with open(fn) as f:\n",
    "        txt = f.read().strip()\n",
    "    return txt\n",
    "\n",
    "txt = get_file_contents(fn)\n",
    "txt[:100]"
   ]
  },
  {
   "cell_type": "code",
   "execution_count": 6,
   "id": "1cf8ccc6",
   "metadata": {},
   "outputs": [
    {
     "data": {
      "text/plain": [
       "['# H.M.S. Eurydice, Training Ship\\n\\nIn 1877, H.M.S. Eurydice was refitted as a training ship. For many years, the fleet had been moving over to armoured steamships and rigged sailing ships were no longer appropriate for modern naval warfare. However, it was still felt that sailors should still be able to handle traditionally rigged vessels and that training ratings on them would be to their benefit as seamen.\\n\\n![](../images/ILN_1878_loss_of_euridyce_apr_06_011.jpg)\\nIllustrated London News — H.M.S. Eurydice as she lay in Portsmouth harbour before her last voyage - from a photograph, April 6, 1878\\n\\n## On the Training of Sailors\\n\\nThe Eurydice was thus converted over to a training ship in the Spring of 1877, before embarking on a voyage to the West Indies in Autumn 1877.',\n",
       " \"https://www.britishnewspaperarchive.co.uk/viewer/bl/0000919/18770206/042/0005\\n\\nSouth Wales Daily News\\nTuesday 06 February 1877\\np5\\n\\nSEAMANSHIP OF YOUNG SAILORS.\\n\\nThe Admiralty are about to take practical measures for improving the seamanship of our young sailors. At present a boy having served a certain time on board a training-ship is transferred to a flagship, where he becomes an ordinary seaman. He is then draughted to a sea-going ship, and may, under favourable conditions, become an expert and efficient seaman, knowing the name and use of every rope on board, and capable of turning his hands to anything that may be required in the severest weather. It may happen, however, that he is sent to a ram of Rupert type, or a mastless ship like the Devastation where he can learn little or nothing of his profession; and as vessels of these classes are increasing, and likely to increase, it is necessary that special measures should be taken to bestow a thorough sea training upon young seamen, so that they may find themselves at home, no matter what the character of the ship may be to which they are despatched. A step in the right direction has been taken by the fitting out of the Eurydice, a sixth-rate wooden fripate of the old class as a sea-going training-ship for ordinary seamen. The Eurydice is 140ft. in length between perpendiculars. 78ft. in extreme breadth, and 921 tons burthen, old measurement. When ready for commission she will furnish accommodation for 280 young seamen, in addition to her commander and staff of officers. She will carry six 64-pounder 71cwt. guns, mounted on rear truck carriages, three on each side of the main deck. She will be ship rigged, and will probably have an independent commander's commission. Before being draughted for service in sea-going ships young ordinary seamen will undergo a six months' practical training at sea on board the Eurydice, which is totally guiltless of machinery of any kind and it cannot be doubted that the professional schooling which they will thereby receive will go far to improve the efficiency of our seamen as sailors.\\n\\n\\n[This article seems to have been syndicated widely.]\",\n",
       " 'https://www.britishnewspaperarchive.co.uk/viewer/bl/0000495/18770210/054/0008\\n\\nHampshire Advertiser\\nSaturday 10 February 1877\\np7\\n\\nHampshire Advertiser, Portsmouth Branch\\n\\nThe Eurydice, training brig, received her masts at Portsmouth on Monday, and will be taken in hand and rigged by her own crew.\\n\\nAPPOINTMENTS.\\n\\nCaptain M. A. S, Hare to the Eurydice.\\n\\nLieutenants ... Francis H. Tabor Stanley, A. B. Burney, and William E. Black to the Eurydice; ...',\n",
       " \"https://www.britishnewspaperarchive.co.uk/viewer/bl/0001681/18770214/029/0006\\nNaval & Military Gazette and Weekly Chronicle of the United Service\\nWednesday 14 February 1877\\n\\np124\\n\\nMovements of Her Majesty's Ships\\n\\nEurydice, 26, sailing-ship, Captain M. A. S. Hare, is being rapidly prepared a training-ship for ordinary seamen. Her lower masts and bowsprit were placed in her on the 5th inst. She will be fully rigged by her crew on being commissioned.\",\n",
       " 'https://www.britishnewspaperarchive.co.uk/viewer/bl/0000183/18770223/025/0005\\nLondon Evening Standard\\nFriday 23 February 1877\\n\\np5\\n\\nNaval and Military Intelligence\\n\\n...\\n\\nIt has long been felt that an evil has arisen from a large number of ordinary seamen after being released from the restraint of the training ships being kept for a time in the depot ships at the home ports, previous to being drafted for foreign stations. To remedy this evil the Lords of the Admiralty have commissioned the Eurydice as a training ship at Portsmouth for ordinary seamen in the Channel. Thus while the men will be at home and available for foreign service they will be kept under proper training in a position where discipline can be properly maintained, and be saved from the temptations inseparable from nightly leave.',\n",
       " \"https://www.britishnewspaperarchive.co.uk/viewer/bl/0001681/18771003/009/0005\\nNaval & Military Gazette and Weekly Chronicle of the United Service\\nWednesday 03 October 1877\\np5\\n\\nMovements of Her Majesty's Ships.\\n\\nEurydice. 6, training ship, Captain Marcus A. S. Hare, came into Portsmouth Harbour on Wednesday last, and was taken into the ship basin on Thursday to make good defects.\",\n",
       " 'https://www.britishnewspaperarchive.co.uk/viewer/bl/0000183/18771017/006/0002\\nLondon Evening Standard\\nWednesday 17 October 1877\\np2\\n\\nNaval and Military Intelligence\\n\\nEurydice, Captain Hare, is having defects made good at Portsmouth before starting on a winter training cruise. A fresh draft of young seamen will be sent to her so soon as she is ready for sea.',\n",
       " 'TEXT\\n\\n## Maiden Voyage as a Training Vessel, October, 1877',\n",
       " 'https://www.britishnewspaperarchive.co.uk/viewer/bl/0000495/18771027/017/0004\\nHampshire Advertiser\\nSaturday 27 October 1877\\n\\np4\\n\\nThe Eurydice, training ship, Captain M. A. S. Hare, was to go out of the ship basin at Portsmouth on Wednesday.',\n",
       " 'https://www.britishnewspaperarchive.co.uk/viewer/bl/0001702/18771031/063/0006\\n\\nShipping and Mercantile Gazette\\nWednesday 31 October 1877\\np6\\n\\nNAVAL AND MILITARY - THE ROYAL NAVY\\n\\nPortsmouth, Oct. 30.—The Eurydice, training ship for seamen, sailed to-day for the West Indies, but in consequence of the weather she has put into St. Helen’s Roads.',\n",
       " 'https://www.britishnewspaperarchive.co.uk/viewer/bl/0000495/18771110/066/0008\\nHampshire Advertiser\\n\\nSaturday 10 November 1877\\np8\\n\\nDevonport, Thursday, Nov. 8\\n\\nThe Eurydice, 6, sailing corvette, and training ship for ordinary seamen, sailed on Saturday for Lisbon, Madeira, and the West Indies.\\n\\n...\\n\\nThe Liberty, training brig, sailed on Saturday, in company with the Eurydice, for the West Indies.',\n",
       " 'TEXT\\n\\n![](../images/623829-1470753518.jpg)\\nHMS Eurydice at St Lucia before her last voyage home, 1878 1878\\nAlbumen print | 14.5 x 21.5 cm (image) | RCIN 2580515\\nPhotograph of sailing ship surrounded by small boats, off St Lucia; tree covered cliffs\\nProvenance\\nAlbum compiled by the Reverend J N Dalton (1839-1931) and presented to King George V\\nhttps://www.rct.uk/collection/2580515/hms-eurydice-at-st-lucia-before-her-last-voyage-home-1878',\n",
       " 'TEXT\\n\\n## Rumour of Disaster\\n\\n\\nRumour had it that a calamity had befallen the ship, but a telegram reported in the *Naval & Military Gazette and Weekly Chronicle of the United Service* of Wednesday 21 November 1877, received 17th of November and dated November 16th, 1877, revealed that all was well.',\n",
       " 'https://www.britishnewspaperarchive.co.uk/viewer/bl/0001681/18771121/038/0004\\nNaval & Military Gazette and Weekly Chronicle of the United Service\\n\\nWednesday 21 November 1877\\np4\\n\\nMovements of Her Majesty\\'s Ships\\n\\n...\\n\\nEurydice, 4 training-ship for ordinary seamean, Captain Marcus A S. Hare\\n\\nMuch excitement prevailed Portsmouth during last week, consequent on a rumour that during the recent heavy gale this vessel lost her topmasts and topsail yard, and that several men were carried overboard with them and drowned. On inquiry we learn that nothing official is yet to hand. On the 17th of November all apprehensions were removed by the receipt of the following telegram:— \"Eurydice, Lisbon, Friday, November 16th. 8 55 p.m.—Arrived all well; will leave on the 24th. Send letters and papers to Barbadoes.\"\\n\\n...',\n",
       " 'TEXT\\n\\nIn passing, we might note that the previous news article reveals how telegraphic cable communication was available between the West Indies and Britain by this time. A little bit of digging turns up the following history of the cable that presumably carried the telegram signal.\\n\\n```{admonition} Great Western Telegraph Company\\n:class: seealso dropdown\\n\\nTelegraph Cables (1899)\\nby C. J. Cooke\\nTransactions and Proceedings of the Royal Society of New Zealand\\nVolume 32, 1899, pp 324-329. Art. XXXVIII.\\nhttps://archive.org/details/transactionsofro99roya/page/n349/mode/2up?q=Telegraph\\nTranscript: https://atlantic-cable.com/Article/1899Cooke/index.htm\\n\"Great Western Telegraph Company was formed to connect the United States with Europe by way of the West Indies,\" then  \\'changed their title to the \"Western and Brazilian Telegraph Company\".\\'?\\n\\nhttps://www.gracesguide.co.uk/Great_Western_Telegraph_Co\\nGreat Western Telegraph Co\\n1872 Company incorporated to connect by telegraph cable New York with England, and the West Indies with New York and England, with prospect of further connection to Brazil. Sir William Thomson and Fleeming Jenkin were the engineers. Hooper\\'s Telegraph Works were contracted to provide the cable; arrangements with the Great Northern Telegraph Co to make use of its cables\\n1873 The company was in liquidation but the cables were being laid by Hoopers and would be operated by other companies\\n\\nhttps://www.gracesguide.co.uk/Western_and_Brazilian_Telegraph_Co\\nWestern and Brazilian Telegraph Co\\n1873 Sir William Thomson and Professor Fleeming Jenkin were connected with the manufacture and laying of cables off the coast of Brazil for the Western and Brazilian Telegraph Company.\\n\\nhttps://www.gracesguide.co.uk/Hoopers_Telegraph_and_India-Rubber_Works\\nHoopers Telegraph and India-Rubber Works\\nJump to:navigation, search\\nof 31 Lombard Street, London, EC\\n1845 William Hooper, a chemist, set up a factory around 1845 in Mitcham, Surrey, to produce rubber goods mostly for the medical profession. He experimented with rubber insulation for electric cables and eventually found a way of insulating cables in a continuous process.\\nc.1857 or later: The Indian Government placed Hooper\\'s first order, followed by another order for cable to link India and Ceylon. W. T. Henley carried out the armouring of the cable.\\n1860 Company established by William Hooper trading under his own name.\\n1870 Hooper formed Hooper\\'s Telegraph Works Ltd. to undertake both manufacture and laying of submarine cables. The first order for the new company was from the Great Northern Telegraph Co for a cable connecting Vladivostock to Hong Kong; Siemens Brothers and Co carried out the armouring of this cable.\\n1873 Hooper\\'s laid the cable (which had been made for an Atlantic crossing) off the east coast of South America, having been offered this concession by the Telegraph Construction and Maintenance Co on the condition that Hooper\\'s dropped their plans for a transatlantic cable.\\n\\n```\\n\\nThe historical company information comes from [Grace\\'s Guide](https://www.gracesguide.co.uk).\\n\\n```{admonition} Grace\\'s Guide To British Industrial History\\n:class: seealso dropdown\\n\\n[Grace\\'s Guide To British Industrial History](https://www.gracesguide.co.uk);  source of historical information on industry and manufacturing in the UK. Additions are being made daily by a team of volunteers who give freely of their time and expertise.\\n\\nGrace’s Guide is a Registered Charity and it relies upon donations and sponsors. Grace\\'s Guide Ltd is a charity (No.1154342) for the advancement of education of the history of Industry and Engineering in the UK.\\n\\n```']"
      ]
     },
     "execution_count": 6,
     "metadata": {},
     "output_type": "execute_result"
    }
   ],
   "source": [
    "def get_sections(txt):\n",
    "    \"\"\"Get sections from file.\"\"\"\n",
    "    txt_sections = [s.strip('-').strip() for s in txt.split(\"--\") if s.strip('-').strip()]\n",
    "    return txt_sections\n",
    "\n",
    "txt_sections = get_sections(txt)\n",
    "txt_sections"
   ]
  },
  {
   "cell_type": "code",
   "execution_count": 7,
   "id": "7c0c0b81",
   "metadata": {},
   "outputs": [
    {
     "data": {
      "text/plain": [
       "[('TEXT',\n",
       "  '# H.M.S. Eurydice, Training Ship\\n\\nIn 1877, H.M.S. Eurydice was refitted as a training ship. For many years, the fleet had been moving over to armoured steamships and rigged sailing ships were no longer appropriate for modern naval warfare. However, it was still felt that sailors should still be able to handle traditionally rigged vessels and that training ratings on them would be to their benefit as seamen.\\n\\n![](../images/ILN_1878_loss_of_euridyce_apr_06_011.jpg)\\nIllustrated London News — H.M.S. Eurydice as she lay in Portsmouth harbour before her last voyage - from a photograph, April 6, 1878\\n\\n## On the Training of Sailors\\n\\nThe Eurydice was thus converted over to a training ship in the Spring of 1877, before embarking on a voyage to the West Indies in Autumn 1877.'),\n",
       " ('RESOURCE',\n",
       "  \"https://www.britishnewspaperarchive.co.uk/viewer/bl/0000919/18770206/042/0005\\n\\nSouth Wales Daily News\\nTuesday 06 February 1877\\np5\\n\\nSEAMANSHIP OF YOUNG SAILORS.\\n\\nThe Admiralty are about to take practical measures for improving the seamanship of our young sailors. At present a boy having served a certain time on board a training-ship is transferred to a flagship, where he becomes an ordinary seaman. He is then draughted to a sea-going ship, and may, under favourable conditions, become an expert and efficient seaman, knowing the name and use of every rope on board, and capable of turning his hands to anything that may be required in the severest weather. It may happen, however, that he is sent to a ram of Rupert type, or a mastless ship like the Devastation where he can learn little or nothing of his profession; and as vessels of these classes are increasing, and likely to increase, it is necessary that special measures should be taken to bestow a thorough sea training upon young seamen, so that they may find themselves at home, no matter what the character of the ship may be to which they are despatched. A step in the right direction has been taken by the fitting out of the Eurydice, a sixth-rate wooden fripate of the old class as a sea-going training-ship for ordinary seamen. The Eurydice is 140ft. in length between perpendiculars. 78ft. in extreme breadth, and 921 tons burthen, old measurement. When ready for commission she will furnish accommodation for 280 young seamen, in addition to her commander and staff of officers. She will carry six 64-pounder 71cwt. guns, mounted on rear truck carriages, three on each side of the main deck. She will be ship rigged, and will probably have an independent commander's commission. Before being draughted for service in sea-going ships young ordinary seamen will undergo a six months' practical training at sea on board the Eurydice, which is totally guiltless of machinery of any kind and it cannot be doubted that the professional schooling which they will thereby receive will go far to improve the efficiency of our seamen as sailors.\\n\\n\\n[This article seems to have been syndicated widely.]\"),\n",
       " ('RESOURCE',\n",
       "  'https://www.britishnewspaperarchive.co.uk/viewer/bl/0000495/18770210/054/0008\\n\\nHampshire Advertiser\\nSaturday 10 February 1877\\np7\\n\\nHampshire Advertiser, Portsmouth Branch\\n\\nThe Eurydice, training brig, received her masts at Portsmouth on Monday, and will be taken in hand and rigged by her own crew.\\n\\nAPPOINTMENTS.\\n\\nCaptain M. A. S, Hare to the Eurydice.\\n\\nLieutenants ... Francis H. Tabor Stanley, A. B. Burney, and William E. Black to the Eurydice; ...'),\n",
       " ('RESOURCE',\n",
       "  \"https://www.britishnewspaperarchive.co.uk/viewer/bl/0001681/18770214/029/0006\\nNaval & Military Gazette and Weekly Chronicle of the United Service\\nWednesday 14 February 1877\\n\\np124\\n\\nMovements of Her Majesty's Ships\\n\\nEurydice, 26, sailing-ship, Captain M. A. S. Hare, is being rapidly prepared a training-ship for ordinary seamen. Her lower masts and bowsprit were placed in her on the 5th inst. She will be fully rigged by her crew on being commissioned.\"),\n",
       " ('RESOURCE',\n",
       "  'https://www.britishnewspaperarchive.co.uk/viewer/bl/0000183/18770223/025/0005\\nLondon Evening Standard\\nFriday 23 February 1877\\n\\np5\\n\\nNaval and Military Intelligence\\n\\n...\\n\\nIt has long been felt that an evil has arisen from a large number of ordinary seamen after being released from the restraint of the training ships being kept for a time in the depot ships at the home ports, previous to being drafted for foreign stations. To remedy this evil the Lords of the Admiralty have commissioned the Eurydice as a training ship at Portsmouth for ordinary seamen in the Channel. Thus while the men will be at home and available for foreign service they will be kept under proper training in a position where discipline can be properly maintained, and be saved from the temptations inseparable from nightly leave.'),\n",
       " ('RESOURCE',\n",
       "  \"https://www.britishnewspaperarchive.co.uk/viewer/bl/0001681/18771003/009/0005\\nNaval & Military Gazette and Weekly Chronicle of the United Service\\nWednesday 03 October 1877\\np5\\n\\nMovements of Her Majesty's Ships.\\n\\nEurydice. 6, training ship, Captain Marcus A. S. Hare, came into Portsmouth Harbour on Wednesday last, and was taken into the ship basin on Thursday to make good defects.\"),\n",
       " ('RESOURCE',\n",
       "  'https://www.britishnewspaperarchive.co.uk/viewer/bl/0000183/18771017/006/0002\\nLondon Evening Standard\\nWednesday 17 October 1877\\np2\\n\\nNaval and Military Intelligence\\n\\nEurydice, Captain Hare, is having defects made good at Portsmouth before starting on a winter training cruise. A fresh draft of young seamen will be sent to her so soon as she is ready for sea.'),\n",
       " ('TEXT', '## Maiden Voyage as a Training Vessel, October, 1877'),\n",
       " ('RESOURCE',\n",
       "  'https://www.britishnewspaperarchive.co.uk/viewer/bl/0000495/18771027/017/0004\\nHampshire Advertiser\\nSaturday 27 October 1877\\n\\np4\\n\\nThe Eurydice, training ship, Captain M. A. S. Hare, was to go out of the ship basin at Portsmouth on Wednesday.'),\n",
       " ('RESOURCE',\n",
       "  'https://www.britishnewspaperarchive.co.uk/viewer/bl/0001702/18771031/063/0006\\n\\nShipping and Mercantile Gazette\\nWednesday 31 October 1877\\np6\\n\\nNAVAL AND MILITARY - THE ROYAL NAVY\\n\\nPortsmouth, Oct. 30.—The Eurydice, training ship for seamen, sailed to-day for the West Indies, but in consequence of the weather she has put into St. Helen’s Roads.'),\n",
       " ('RESOURCE',\n",
       "  'https://www.britishnewspaperarchive.co.uk/viewer/bl/0000495/18771110/066/0008\\nHampshire Advertiser\\n\\nSaturday 10 November 1877\\np8\\n\\nDevonport, Thursday, Nov. 8\\n\\nThe Eurydice, 6, sailing corvette, and training ship for ordinary seamen, sailed on Saturday for Lisbon, Madeira, and the West Indies.\\n\\n...\\n\\nThe Liberty, training brig, sailed on Saturday, in company with the Eurydice, for the West Indies.'),\n",
       " ('TEXT',\n",
       "  '![](../images/623829-1470753518.jpg)\\nHMS Eurydice at St Lucia before her last voyage home, 1878 1878\\nAlbumen print | 14.5 x 21.5 cm (image) | RCIN 2580515\\nPhotograph of sailing ship surrounded by small boats, off St Lucia; tree covered cliffs\\nProvenance\\nAlbum compiled by the Reverend J N Dalton (1839-1931) and presented to King George V\\nhttps://www.rct.uk/collection/2580515/hms-eurydice-at-st-lucia-before-her-last-voyage-home-1878'),\n",
       " ('TEXT',\n",
       "  '## Rumour of Disaster\\n\\n\\nRumour had it that a calamity had befallen the ship, but a telegram reported in the *Naval & Military Gazette and Weekly Chronicle of the United Service* of Wednesday 21 November 1877, received 17th of November and dated November 16th, 1877, revealed that all was well.'),\n",
       " ('RESOURCE',\n",
       "  'https://www.britishnewspaperarchive.co.uk/viewer/bl/0001681/18771121/038/0004\\nNaval & Military Gazette and Weekly Chronicle of the United Service\\n\\nWednesday 21 November 1877\\np4\\n\\nMovements of Her Majesty\\'s Ships\\n\\n...\\n\\nEurydice, 4 training-ship for ordinary seamean, Captain Marcus A S. Hare\\n\\nMuch excitement prevailed Portsmouth during last week, consequent on a rumour that during the recent heavy gale this vessel lost her topmasts and topsail yard, and that several men were carried overboard with them and drowned. On inquiry we learn that nothing official is yet to hand. On the 17th of November all apprehensions were removed by the receipt of the following telegram:— \"Eurydice, Lisbon, Friday, November 16th. 8 55 p.m.—Arrived all well; will leave on the 24th. Send letters and papers to Barbadoes.\"\\n\\n...'),\n",
       " ('TEXT',\n",
       "  'In passing, we might note that the previous news article reveals how telegraphic cable communication was available between the West Indies and Britain by this time. A little bit of digging turns up the following history of the cable that presumably carried the telegram signal.\\n\\n```{admonition} Great Western Telegraph Company\\n:class: seealso dropdown\\n\\nTelegraph Cables (1899)\\nby C. J. Cooke\\nTransactions and Proceedings of the Royal Society of New Zealand\\nVolume 32, 1899, pp 324-329. Art. XXXVIII.\\nhttps://archive.org/details/transactionsofro99roya/page/n349/mode/2up?q=Telegraph\\nTranscript: https://atlantic-cable.com/Article/1899Cooke/index.htm\\n\"Great Western Telegraph Company was formed to connect the United States with Europe by way of the West Indies,\" then  \\'changed their title to the \"Western and Brazilian Telegraph Company\".\\'?\\n\\nhttps://www.gracesguide.co.uk/Great_Western_Telegraph_Co\\nGreat Western Telegraph Co\\n1872 Company incorporated to connect by telegraph cable New York with England, and the West Indies with New York and England, with prospect of further connection to Brazil. Sir William Thomson and Fleeming Jenkin were the engineers. Hooper\\'s Telegraph Works were contracted to provide the cable; arrangements with the Great Northern Telegraph Co to make use of its cables\\n1873 The company was in liquidation but the cables were being laid by Hoopers and would be operated by other companies\\n\\nhttps://www.gracesguide.co.uk/Western_and_Brazilian_Telegraph_Co\\nWestern and Brazilian Telegraph Co\\n1873 Sir William Thomson and Professor Fleeming Jenkin were connected with the manufacture and laying of cables off the coast of Brazil for the Western and Brazilian Telegraph Company.\\n\\nhttps://www.gracesguide.co.uk/Hoopers_Telegraph_and_India-Rubber_Works\\nHoopers Telegraph and India-Rubber Works\\nJump to:navigation, search\\nof 31 Lombard Street, London, EC\\n1845 William Hooper, a chemist, set up a factory around 1845 in Mitcham, Surrey, to produce rubber goods mostly for the medical profession. He experimented with rubber insulation for electric cables and eventually found a way of insulating cables in a continuous process.\\nc.1857 or later: The Indian Government placed Hooper\\'s first order, followed by another order for cable to link India and Ceylon. W. T. Henley carried out the armouring of the cable.\\n1860 Company established by William Hooper trading under his own name.\\n1870 Hooper formed Hooper\\'s Telegraph Works Ltd. to undertake both manufacture and laying of submarine cables. The first order for the new company was from the Great Northern Telegraph Co for a cable connecting Vladivostock to Hong Kong; Siemens Brothers and Co carried out the armouring of this cable.\\n1873 Hooper\\'s laid the cable (which had been made for an Atlantic crossing) off the east coast of South America, having been offered this concession by the Telegraph Construction and Maintenance Co on the condition that Hooper\\'s dropped their plans for a transatlantic cable.\\n\\n```\\n\\nThe historical company information comes from [Grace\\'s Guide](https://www.gracesguide.co.uk).\\n\\n```{admonition} Grace\\'s Guide To British Industrial History\\n:class: seealso dropdown\\n\\n[Grace\\'s Guide To British Industrial History](https://www.gracesguide.co.uk);  source of historical information on industry and manufacturing in the UK. Additions are being made daily by a team of volunteers who give freely of their time and expertise.\\n\\nGrace’s Guide is a Registered Charity and it relies upon donations and sponsors. Grace\\'s Guide Ltd is a charity (No.1154342) for the advancement of education of the history of Industry and Engineering in the UK.\\n\\n```')]"
      ]
     },
     "execution_count": 7,
     "metadata": {},
     "output_type": "execute_result"
    }
   ],
   "source": [
    "# First section is text, but then we need to parse type\n",
    "\n",
    "def structure_record(txt_sections):\n",
    "    typ_s = [(\"TEXT\", txt_sections[0])]\n",
    "\n",
    "    for s in txt_sections[1:]:\n",
    "        s = s.strip()\n",
    "        if s.startswith(\"TEXT\"):\n",
    "            typ_s.append((\"TEXT\", s.replace(\"TEXT\",\"\").strip()))\n",
    "        elif s.startswith(\"![\"):\n",
    "            typ_s.append((\"IMAGE\", s))\n",
    "        else:\n",
    "            # Should we assume text unless we get eg an http at the start of a record?\n",
    "            typ_s.append((\"RESOURCE\", s))\n",
    "\n",
    "    return typ_s\n",
    "\n",
    "typ_s = structure_record(txt_sections)\n",
    "typ_s"
   ]
  },
  {
   "cell_type": "code",
   "execution_count": 8,
   "id": "1db41568",
   "metadata": {},
   "outputs": [],
   "source": [
    "#%pip install dateparser\n",
    "# https://dateparser.readthedocs.io/en/latest/usage.html\n",
    "from dateparser.date import DateDataParser\n",
    "\n",
    "ddp = DateDataParser(languages=['en'])"
   ]
  },
  {
   "cell_type": "code",
   "execution_count": 9,
   "id": "bf572e64",
   "metadata": {},
   "outputs": [],
   "source": [
    "import re\n",
    "\n",
    "dt = \"%Y-%m-%d\"\n",
    "\n",
    "def parse_sections(txt_sections, fn=None):\n",
    "    \"\"\"Parse file section.\"\"\"\n",
    "    records = []\n",
    "    for section in txt_sections:\n",
    "        txt_lines = [l.strip() for l in section.split('\\n') if l.strip()]\n",
    "        #print(txt_lines)\n",
    "        record = {\"fn\":fn}\n",
    "        for i, line in enumerate(txt_lines):\n",
    "            line = line.strip()\n",
    "            # This is inefficient...\n",
    "            # We should test as fallback...\n",
    "            try_url = line.startswith(\"http\")\n",
    "            try_date = ddp.get_date_data(line.replace('Publication date', '').strip())\n",
    "            try_pages = re.search(r\"^pp?\\.?\\s?([0-9ivxlcm\\?].*)\", line)\n",
    "\n",
    "            if try_url:\n",
    "                record[\"url\"] = line\n",
    "            elif try_date[\"date_obj\"]:\n",
    "                if \"published_date\" in record:\n",
    "                    record[\"date\"] = try_date.date_obj.strftime(dt)\n",
    "                else:\n",
    "                    record[\"published_date\"] = try_date.date_obj.strftime(dt)\n",
    "            elif try_pages:\n",
    "                record[\"pages\"] = try_pages.group(1)\n",
    "            elif not \"publication\" in record:\n",
    "                record[\"publication\"] = line\n",
    "\n",
    "            # We take pages as the last item of metadata...\n",
    "            if try_pages:\n",
    "                break\n",
    "        \n",
    "        txt = f'{record[\"pages\"]}'.join(section.split(try_pages.group(0))[1:]).strip()\n",
    "        if len(txt.split(\"\\n\")[0]) > 200:\n",
    "            record[\"title\"] = txt[:100]\n",
    "            record[\"text\"] = txt[100:]\n",
    "        else:\n",
    "            record[\"title\"] = txt.split(\"\\n\")[0]\n",
    "            record[\"text\"] = txt.replace(record[\"title\"], \"\").strip()\n",
    "        #if len(txt_lines[i+1])>200:\n",
    "        #    record[\"title\"] = txt_lines[i+1][:100]\n",
    "        #    record[\"text\"] = \"\\n\\n\".join(txt_lines[i+1:])[100:]\n",
    "        #else:\n",
    "        #    record[\"title\"] = txt_lines[i+1]\n",
    "        #    record[\"text\"] = \"\\n\\n\".join(txt_lines[i+2:])\n",
    "        records.append(record)\n",
    "\n",
    "    return records"
   ]
  },
  {
   "cell_type": "code",
   "execution_count": 10,
   "id": "98e2f487",
   "metadata": {},
   "outputs": [
    {
     "name": "stderr",
     "output_type": "stream",
     "text": [
      "/usr/local/lib/python3.9/site-packages/dateparser/date_parser.py:35: PytzUsageWarning: The localize method is no longer necessary, as this time zone supports the fold attribute (PEP 495). For more details on migrating to a PEP 495-compliant implementation, see https://pytz-deprecation-shim.readthedocs.io/en/latest/migration.html\n",
      "  date_obj = stz.localize(date_obj)\n"
     ]
    },
    {
     "data": {
      "text/plain": [
       "[{'fn': None,\n",
       "  'url': 'https://www.britishnewspaperarchive.co.uk/viewer/bl/0000919/18770206/042/0005',\n",
       "  'publication': 'South Wales Daily News',\n",
       "  'published_date': '1877-02-06',\n",
       "  'pages': '5',\n",
       "  'title': 'SEAMANSHIP OF YOUNG SAILORS.',\n",
       "  'text': \"The Admiralty are about to take practical measures for improving the seamanship of our young sailors. At present a boy having served a certain time on board a training-ship is transferred to a flagship, where he becomes an ordinary seaman. He is then draughted to a sea-going ship, and may, under favourable conditions, become an expert and efficient seaman, knowing the name and use of every rope on board, and capable of turning his hands to anything that may be required in the severest weather. It may happen, however, that he is sent to a ram of Rupert type, or a mastless ship like the Devastation where he can learn little or nothing of his profession; and as vessels of these classes are increasing, and likely to increase, it is necessary that special measures should be taken to bestow a thorough sea training upon young seamen, so that they may find themselves at home, no matter what the character of the ship may be to which they are despatched. A step in the right direction has been taken by the fitting out of the Eurydice, a sixth-rate wooden fripate of the old class as a sea-going training-ship for ordinary seamen. The Eurydice is 140ft. in length between perpendiculars. 78ft. in extreme breadth, and 921 tons burthen, old measurement. When ready for commission she will furnish accommodation for 280 young seamen, in addition to her commander and staff of officers. She will carry six 64-pounder 71cwt. guns, mounted on rear truck carriages, three on each side of the main deck. She will be ship rigged, and will probably have an independent commander's commission. Before being draughted for service in sea-going ships young ordinary seamen will undergo a six months' practical training at sea on board the Eurydice, which is totally guiltless of machinery of any kind and it cannot be doubted that the professional schooling which they will thereby receive will go far to improve the efficiency of our seamen as sailors.\\n\\n\\n[This article seems to have been syndicated widely.]\"}]"
      ]
     },
     "execution_count": 10,
     "metadata": {},
     "output_type": "execute_result"
    }
   ],
   "source": [
    "parse_sections([typ_s[1][1]])"
   ]
  },
  {
   "cell_type": "code",
   "execution_count": 11,
   "id": "d322e611",
   "metadata": {},
   "outputs": [],
   "source": [
    "from datetime import datetime\n",
    "import humanize\n",
    "\n",
    "def admonition_generator(record):\n",
    "    \"\"\"Generate MyST admonition markdown for the record.\"\"\"\n",
    "    dt_ = datetime.fromisoformat(record[\"published_date\"])\n",
    "    # The humanize package gives us things like 3rd, 27th, etc.\n",
    "    daynum = humanize.ordinal(dt_.day)\n",
    "    # Format the date to something like: Wednesday, April 3rd, 1878\n",
    "    # %A is the day of the week (Monday, Tuesday, etc.)\n",
    "    # %B is the month (March, April, etc.)\n",
    "    # %Y is the 4-digit year (eg 1878)\n",
    "    dt = dt_.strftime(f'%A, %B {daynum}, %Y')\n",
    "    admonition = f\"\"\"\n",
    "```{{admonition}} {record[\"title\"]} - {dt}\n",
    ":class: note dropdown\n",
    "\n",
    "[{record[\"publication\"]}]({record[\"url\"]}), {record[\"published_date\"]}, p. {record[\"pages\"]}\n",
    "\n",
    "{record[\"text\"]}\n",
    "\n",
    "```\n",
    "\"\"\"\n",
    "    return admonition"
   ]
  },
  {
   "cell_type": "code",
   "execution_count": 12,
   "id": "91298c0d",
   "metadata": {},
   "outputs": [
    {
     "name": "stdout",
     "output_type": "stream",
     "text": [
      "\n",
      "```{admonition} SEAMANSHIP OF YOUNG SAILORS. - Tuesday, February 6th, 1877\n",
      ":class: note dropdown\n",
      "\n",
      "[South Wales Daily News](https://www.britishnewspaperarchive.co.uk/viewer/bl/0000919/18770206/042/0005), 1877-02-06, p. 5\n",
      "\n",
      "The Admiralty are about to take practical measures for improving the seamanship of our young sailors. At present a boy having served a certain time on board a training-ship is transferred to a flagship, where he becomes an ordinary seaman. He is then draughted to a sea-going ship, and may, under favourable conditions, become an expert and efficient seaman, knowing the name and use of every rope on board, and capable of turning his hands to anything that may be required in the severest weather. It may happen, however, that he is sent to a ram of Rupert type, or a mastless ship like the Devastation where he can learn little or nothing of his profession; and as vessels of these classes are increasing, and likely to increase, it is necessary that special measures should be taken to bestow a thorough sea training upon young seamen, so that they may find themselves at home, no matter what the character of the ship may be to which they are despatched. A step in the right direction has been taken by the fitting out of the Eurydice, a sixth-rate wooden fripate of the old class as a sea-going training-ship for ordinary seamen. The Eurydice is 140ft. in length between perpendiculars. 78ft. in extreme breadth, and 921 tons burthen, old measurement. When ready for commission she will furnish accommodation for 280 young seamen, in addition to her commander and staff of officers. She will carry six 64-pounder 71cwt. guns, mounted on rear truck carriages, three on each side of the main deck. She will be ship rigged, and will probably have an independent commander's commission. Before being draughted for service in sea-going ships young ordinary seamen will undergo a six months' practical training at sea on board the Eurydice, which is totally guiltless of machinery of any kind and it cannot be doubted that the professional schooling which they will thereby receive will go far to improve the efficiency of our seamen as sailors.\n",
      "\n",
      "\n",
      "[This article seems to have been syndicated widely.]\n",
      "\n",
      "```\n",
      "\n"
     ]
    }
   ],
   "source": [
    "print(admonition_generator(parse_sections([typ_s[1][1]])[0]))"
   ]
  },
  {
   "cell_type": "code",
   "execution_count": 13,
   "id": "d929eac2",
   "metadata": {},
   "outputs": [
    {
     "data": {
      "text/plain": [
       "['![](../images/ILN_1878_loss_of_euridyce_apr_06_03x.png)\\nIllustrated London News — H.M.S. Eurydice as she lay at eight a.m. on March 25 off Dunnose Point, Isle of Wight, April 6, 1878',\n",
       " '![](../images/ILN_1878_loss_of_euridyce_apr_06_03x.png)\\nIllustrated London News — H.M.S. Eurydice as she lay at eight a.m. on March 25 off Dunnose Point, Isle of Wight, April 6, 1878']"
      ]
     },
     "execution_count": 13,
     "metadata": {},
     "output_type": "execute_result"
    }
   ],
   "source": [
    "# Parse image\n",
    "# if we have an image, we need to pattern match until we get to a \\n\\n\n",
    "# then create a figure and replace the original image matched pattern\n",
    "xx=\"\"\"\n",
    "\n",
    "ssdsdd\n",
    "\n",
    "![](../images/ILN_1878_loss_of_euridyce_apr_06_03x.png)\n",
    "Illustrated London News — H.M.S. Eurydice as she lay at eight a.m. on March 25 off Dunnose Point, Isle of Wight, April 6, 1878\n",
    "\n",
    "asaa\n",
    "\n",
    "![](../images/ILN_1878_loss_of_euridyce_apr_06_03x.png)\n",
    "Illustrated London News — H.M.S. Eurydice as she lay at eight a.m. on March 25 off Dunnose Point, Isle of Wight, April 6, 1878\n",
    "\n",
    "asaa\n",
    "\"\"\"\n",
    "\n",
    "# The following says: .*? lazy search, (?=\\n\\n) lookahead to next \\n\\n\n",
    "# re.MULTILINE | re.DOTALL give us the search over multiple lines\n",
    "p = re.findall(r'!\\[.*?(?=\\n\\n)', xx, re.MULTILINE | re.DOTALL)\n",
    "p"
   ]
  },
  {
   "cell_type": "code",
   "execution_count": 14,
   "id": "25fd9416",
   "metadata": {},
   "outputs": [
    {
     "data": {
      "text/plain": [
       "'\\nIllustrated London News — H.M.S. Eurydice as she lay at eight a.m. on March 25 off Dunnose Point, Isle of Wight, April 6, 1878'"
      ]
     },
     "execution_count": 14,
     "metadata": {},
     "output_type": "execute_result"
    }
   ],
   "source": [
    " re.findall(\"!\\[[^\\]]*\\]\\(([^\\)]*)\\)(.*)$\", p[0], re.MULTILINE | re.DOTALL)[0][1]"
   ]
  },
  {
   "cell_type": "code",
   "execution_count": 15,
   "id": "6da726b0",
   "metadata": {},
   "outputs": [],
   "source": [
    "def generate_figure(doc):\n",
    "    \n",
    "    images = re.findall(r'!\\[.*?(?=\\n\\n)', doc, re.MULTILINE | re.DOTALL)\n",
    "    for image in images:\n",
    "        path =  re.findall(\"!\\[[^\\]]*\\]\\(([^\\)]*)\\)(.*)$\", image, re.MULTILINE | re.DOTALL)\n",
    "        if not path:\n",
    "            continue\n",
    "        txt = f\"\"\"\n",
    "```{{figure}} {path[0][0]}\n",
    "---\n",
    "---\n",
    "{path[0][1]}\n",
    "```\n",
    "\n",
    "\"\"\"\n",
    "        doc = doc.replace(image, txt)\n",
    "    return doc"
   ]
  },
  {
   "cell_type": "code",
   "execution_count": 16,
   "id": "3d4b40d9",
   "metadata": {},
   "outputs": [],
   "source": [
    "# Parse types\n",
    "\n",
    "def create_admontions(typ_s):\n",
    "    parsed = []\n",
    "    for s in typ_s:\n",
    "        if s[0] ==\"TEXT\" or s[0]==\"IMAGE\" or s[0].startswith(\"![\"):\n",
    "            # parse image\n",
    "            parsed.append( s )\n",
    "        elif s[0] == \"RESOURCE\":\n",
    "            # parse resource\n",
    "            # Put things into an admonition block\n",
    "            #print(\"\\n\\n\\*****\\n\"+s[1])\n",
    "            _parsed = admonition_generator(parse_sections([s[1]])[0])\n",
    "\n",
    "            parsed.append( (s[0], _parsed) )\n",
    "        else:\n",
    "            # This should be null\n",
    "            pass\n",
    "\n",
    "    return parsed"
   ]
  },
  {
   "cell_type": "code",
   "execution_count": 17,
   "id": "73265380",
   "metadata": {},
   "outputs": [
    {
     "ename": "TypeError",
     "evalue": "expected string or bytes-like object",
     "output_type": "error",
     "traceback": [
      "\u001b[0;31m---------------------------------------------------------------------------\u001b[0m",
      "\u001b[0;31mTypeError\u001b[0m                                 Traceback (most recent call last)",
      "Input \u001b[0;32mIn [17]\u001b[0m, in \u001b[0;36m<cell line: 2>\u001b[0;34m()\u001b[0m\n\u001b[1;32m      1\u001b[0m parsed \u001b[38;5;241m=\u001b[39m create_admontions(typ_s)\n\u001b[0;32m----> 2\u001b[0m parsed \u001b[38;5;241m=\u001b[39m \u001b[43mgenerate_figure\u001b[49m\u001b[43m(\u001b[49m\u001b[43mparsed\u001b[49m\u001b[43m)\u001b[49m\n\u001b[1;32m      3\u001b[0m parsed\n",
      "Input \u001b[0;32mIn [15]\u001b[0m, in \u001b[0;36mgenerate_figure\u001b[0;34m(doc)\u001b[0m\n\u001b[1;32m      1\u001b[0m \u001b[38;5;28;01mdef\u001b[39;00m \u001b[38;5;21mgenerate_figure\u001b[39m(doc):\n\u001b[0;32m----> 3\u001b[0m     images \u001b[38;5;241m=\u001b[39m \u001b[43mre\u001b[49m\u001b[38;5;241;43m.\u001b[39;49m\u001b[43mfindall\u001b[49m\u001b[43m(\u001b[49m\u001b[38;5;124;43mr\u001b[39;49m\u001b[38;5;124;43m'\u001b[39;49m\u001b[38;5;124;43m!\u001b[39;49m\u001b[38;5;124;43m\\\u001b[39;49m\u001b[38;5;124;43m[.*?(?=\u001b[39;49m\u001b[38;5;124;43m\\\u001b[39;49m\u001b[38;5;124;43mn\u001b[39;49m\u001b[38;5;124;43m\\\u001b[39;49m\u001b[38;5;124;43mn)\u001b[39;49m\u001b[38;5;124;43m'\u001b[39;49m\u001b[43m,\u001b[49m\u001b[43m \u001b[49m\u001b[43mdoc\u001b[49m\u001b[43m,\u001b[49m\u001b[43m \u001b[49m\u001b[43mre\u001b[49m\u001b[38;5;241;43m.\u001b[39;49m\u001b[43mMULTILINE\u001b[49m\u001b[43m \u001b[49m\u001b[38;5;241;43m|\u001b[39;49m\u001b[43m \u001b[49m\u001b[43mre\u001b[49m\u001b[38;5;241;43m.\u001b[39;49m\u001b[43mDOTALL\u001b[49m\u001b[43m)\u001b[49m\n\u001b[1;32m      4\u001b[0m     \u001b[38;5;28;01mfor\u001b[39;00m image \u001b[38;5;129;01min\u001b[39;00m images:\n\u001b[1;32m      5\u001b[0m         path \u001b[38;5;241m=\u001b[39m  re\u001b[38;5;241m.\u001b[39mfindall(\u001b[38;5;124m\"\u001b[39m\u001b[38;5;124m!\u001b[39m\u001b[38;5;124m\\\u001b[39m\u001b[38;5;124m[[^\u001b[39m\u001b[38;5;124m\\\u001b[39m\u001b[38;5;124m]]*\u001b[39m\u001b[38;5;124m\\\u001b[39m\u001b[38;5;124m]\u001b[39m\u001b[38;5;124m\\\u001b[39m\u001b[38;5;124m(([^\u001b[39m\u001b[38;5;124m\\\u001b[39m\u001b[38;5;124m)]*)\u001b[39m\u001b[38;5;124m\\\u001b[39m\u001b[38;5;124m)(.*)$\u001b[39m\u001b[38;5;124m\"\u001b[39m, image, re\u001b[38;5;241m.\u001b[39mMULTILINE \u001b[38;5;241m|\u001b[39m re\u001b[38;5;241m.\u001b[39mDOTALL)\n",
      "File \u001b[0;32m/usr/local/Cellar/python@3.9/3.9.12/Frameworks/Python.framework/Versions/3.9/lib/python3.9/re.py:241\u001b[0m, in \u001b[0;36mfindall\u001b[0;34m(pattern, string, flags)\u001b[0m\n\u001b[1;32m    233\u001b[0m \u001b[38;5;28;01mdef\u001b[39;00m \u001b[38;5;21mfindall\u001b[39m(pattern, string, flags\u001b[38;5;241m=\u001b[39m\u001b[38;5;241m0\u001b[39m):\n\u001b[1;32m    234\u001b[0m     \u001b[38;5;124;03m\"\"\"Return a list of all non-overlapping matches in the string.\u001b[39;00m\n\u001b[1;32m    235\u001b[0m \n\u001b[1;32m    236\u001b[0m \u001b[38;5;124;03m    If one or more capturing groups are present in the pattern, return\u001b[39;00m\n\u001b[0;32m   (...)\u001b[0m\n\u001b[1;32m    239\u001b[0m \n\u001b[1;32m    240\u001b[0m \u001b[38;5;124;03m    Empty matches are included in the result.\"\"\"\u001b[39;00m\n\u001b[0;32m--> 241\u001b[0m     \u001b[38;5;28;01mreturn\u001b[39;00m \u001b[43m_compile\u001b[49m\u001b[43m(\u001b[49m\u001b[43mpattern\u001b[49m\u001b[43m,\u001b[49m\u001b[43m \u001b[49m\u001b[43mflags\u001b[49m\u001b[43m)\u001b[49m\u001b[38;5;241;43m.\u001b[39;49m\u001b[43mfindall\u001b[49m\u001b[43m(\u001b[49m\u001b[43mstring\u001b[49m\u001b[43m)\u001b[49m\n",
      "\u001b[0;31mTypeError\u001b[0m: expected string or bytes-like object"
     ]
    }
   ],
   "source": [
    "parsed = create_admontions(typ_s)\n",
    "parsed = generate_figure(parsed)\n",
    "parsed"
   ]
  },
  {
   "cell_type": "code",
   "execution_count": 18,
   "id": "37f4b6af",
   "metadata": {},
   "outputs": [],
   "source": [
    "myst_txt = \"\\n\\n\".join([t[1] for t in parsed ])\n",
    "\n",
    "with open(\"test.md\", \"w\") as f:\n",
    "    f.write(myst_txt)"
   ]
  },
  {
   "cell_type": "code",
   "execution_count": 37,
   "id": "46235e65",
   "metadata": {},
   "outputs": [],
   "source": [
    "for f in raw_files:\n",
    "    txt = get_file_contents(f\"{f}.md\")\n",
    "    txt_sections = get_sections(txt)\n",
    "    typ_s = structure_record(txt_sections)\n",
    "    parsed = create_admontions(typ_s)\n",
    "    with open(f\"__{f}.md\", \"w\") as f:\n",
    "        myst_txt = \"\\n\\n\".join([t[1] for t in parsed ])\n",
    "        myst_txt = generate_figure(myst_txt)\n",
    "        f.write(myst_txt)"
   ]
  },
  {
   "cell_type": "code",
   "execution_count": 21,
   "id": "2fbae82b",
   "metadata": {},
   "outputs": [
    {
     "data": {
      "text/plain": [
       "'fundraising_relief'"
      ]
     },
     "execution_count": 21,
     "metadata": {},
     "output_type": "execute_result"
    }
   ],
   "source": [
    "f"
   ]
  },
  {
   "cell_type": "code",
   "execution_count": null,
   "id": "035d5733",
   "metadata": {},
   "outputs": [],
   "source": []
  },
  {
   "cell_type": "code",
   "execution_count": null,
   "id": "c4fed3bb",
   "metadata": {},
   "outputs": [],
   "source": []
  },
  {
   "cell_type": "code",
   "execution_count": null,
   "id": "98a22b8a",
   "metadata": {},
   "outputs": [],
   "source": []
  }
 ],
 "metadata": {
  "kernelspec": {
   "display_name": "Python 3 (ipykernel)",
   "language": "python",
   "name": "python3"
  },
  "language_info": {
   "codemirror_mode": {
    "name": "ipython",
    "version": 3
   },
   "file_extension": ".py",
   "mimetype": "text/x-python",
   "name": "python",
   "nbconvert_exporter": "python",
   "pygments_lexer": "ipython3",
   "version": "3.9.12"
  }
 },
 "nbformat": 4,
 "nbformat_minor": 5
}
